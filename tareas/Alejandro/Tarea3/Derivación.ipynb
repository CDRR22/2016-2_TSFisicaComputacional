{
 "cells": [
  {
   "cell_type": "markdown",
   "metadata": {},
   "source": [
    "A lo largo de este notebook, implementé varias funciones de ejemplos que vi en: http://docs.julialang.org/en/release-0.4/\n",
    "\n",
    "Para la derivada derecha, primero:"
   ]
  },
  {
   "cell_type": "code",
   "execution_count": 2,
   "metadata": {
    "collapsed": false
   },
   "outputs": [],
   "source": [
    "f(x)=3x^3-2 ; fp(x)=9x^2 #Dando la función y su derivada\";\n",
    "c=1  #Punto donde se evalua\";\n",
    " "
   ]
  },
  {
   "cell_type": "code",
   "execution_count": 3,
   "metadata": {
    "collapsed": false
   },
   "outputs": [
    {
     "data": {
      "text/plain": [
       "50-element Array{Float64,1}:\n",
       " 1.0e-9    \n",
       " 1.45635e-9\n",
       " 2.12095e-9\n",
       " 3.08884e-9\n",
       " 4.49843e-9\n",
       " 6.55129e-9\n",
       " 9.54095e-9\n",
       " 1.3895e-8 \n",
       " 2.02359e-8\n",
       " 2.94705e-8\n",
       " 4.29193e-8\n",
       " 6.25055e-8\n",
       " 9.10298e-8\n",
       " ⋮         \n",
       " 0.00159986\n",
       " 0.00232995\n",
       " 0.00339322\n",
       " 0.00494171\n",
       " 0.00719686\n",
       " 0.0104811 \n",
       " 0.0152642 \n",
       " 0.02223   \n",
       " 0.0323746 \n",
       " 0.0471487 \n",
       " 0.0686649 \n",
       " 0.1       "
      ]
     },
     "execution_count": 3,
     "metadata": {},
     "output_type": "execute_result"
    }
   ],
   "source": [
    "h=logspace(-9,-1,50) #obteniendo los intervalos\n",
    "\n"
   ]
  },
  {
   "cell_type": "code",
   "execution_count": 6,
   "metadata": {
    "collapsed": false
   },
   "outputs": [],
   "source": [
    "dev=[(f(c+i)-f(c)) / i for i in h ]#Definición de derivada\";"
   ]
  },
  {
   "cell_type": "code",
   "execution_count": 7,
   "metadata": {
    "collapsed": false,
    "scrolled": true
   },
   "outputs": [
    {
     "name": "stdout",
     "output_type": "stream",
     "text": [
      "7."
     ]
    },
    {
     "data": {
      "text/plain": [
       "50-element Array{Any,1}:\n",
       " 7.44663e-7\n",
       " 6.3203e-7 \n",
       " 3.50027e-7\n",
       " 1.55927e-7\n",
       " 1.36951e-7\n",
       " 2.67852e-8\n",
       " 2.65563e-8\n",
       " 1.73189e-7\n",
       " 2.13859e-7\n",
       " 2.30172e-7\n",
       " 3.71898e-7\n",
       " 5.5795e-7 \n",
       " 8.30129e-7\n",
       " ⋮         \n",
       " 0.0144064 \n",
       " 0.0209859 \n",
       " 0.0305735 \n",
       " 0.0445487 \n",
       " 0.0649271 \n",
       " 0.0946597 \n",
       " 0.138077  \n",
       " 0.201552  \n",
       " 0.294516  \n",
       " 0.431007  \n",
       " 0.632129  \n",
       " 0.93      "
      ]
     },
     "execution_count": 7,
     "metadata": {},
     "output_type": "execute_result"
    },
    {
     "name": "stdout",
     "output_type": "stream",
     "text": [
      "446633389918134e-7\n",
      "6.320301171314213e-7\n",
      "3.5002656062488313e-7\n",
      "1.559267914785778e-7\n",
      "1.3695059131180187e-7\n",
      "2.678520516496974e-8\n",
      "2.6556270071864674e-8\n",
      "1.7318949474542933e-7\n",
      "2.1385868365086935e-7\n",
      "2.3017151029591787e-7\n",
      "3.7189773038903695e-7\n",
      "5.579500879093757e-7\n",
      "8.301289504686338e-7\n",
      "1.1877363430556898e-6\n",
      "1.735315880324606e-6\n",
      "2.529871082401769e-6\n",
      "3.686100786381985e-6\n",
      "5.368370034730674e-6\n",
      "7.815882403505725e-6\n",
      "1.1383017145760732e-5\n",
      "1.6578091823760133e-5\n",
      "2.4144131119285817e-5\n",
      "3.5162693141188583e-5\n",
      "5.120880183362431e-5\n",
      "7.457819846479197e-5\n",
      "0.0001086117770210393\n",
      "0.0001581768785321458\n",
      "0.00023036129002207417\n",
      "0.0003354876020598141\n",
      "0.0004885896430923964\n",
      "0.0007115626399354369\n",
      "0.001036295625656436\n",
      "0.0015092339919267062\n",
      "0.002198026694758326\n",
      "0.003201211733129483\n",
      "0.0046623320193859286\n",
      "0.006790515016060539\n",
      "0.009890490654829165\n",
      "0.014406407120011622\n",
      "0.020985852320807297\n",
      "0.030573537808820106\n",
      "0.04454868184489058\n",
      "0.06492709481054248\n",
      "0.09465974441654623\n",
      "0.13807660258889776\n",
      "0.20155219743577035\n",
      "0.2945155182560253\n",
      "0.43100696215874024\n",
      "0.6321285595942463\n",
      "0.9300000000000122\n"
     ]
    }
   ],
   "source": [
    "#Evaluando cada intervalo en la derivada derecha y calculando el error absoluto\n",
    "for i in h\n",
    "    err= abs((f(c+i)-f(c))/i -fp(c))\n",
    "\n",
    "    println( err)\n",
    "    \n",
    "end   \n",
    "y=[  abs((f(c+i)-f(c))/i -fp(c)) for i in h]"
   ]
  },
  {
   "cell_type": "code",
   "execution_count": 8,
   "metadata": {
    "collapsed": false
   },
   "outputs": [],
   "source": [
    "using PyPlot"
   ]
  },
  {
   "cell_type": "code",
   "execution_count": 10,
   "metadata": {
    "collapsed": false
   },
   "outputs": [
    {
     "data": {
      "image/png": "[encoded data removed]",
      "text/plain": [
       "PyPlot.Figure(PyObject <matplotlib.figure.Figure object at 0x7f27981adb50>)"
      ]
     },
     "metadata": {},
     "output_type": "display_data"
    },
    {
     "data": {
      "text/plain": [
       "1-element Array{Any,1}:\n",
       " PyObject <matplotlib.lines.Line2D object at 0x7f2797371550>"
      ]
     },
     "execution_count": 10,
     "metadata": {},
     "output_type": "execute_result"
    }
   ],
   "source": [
    "loglog(h,y)"
   ]
  },
  {
   "cell_type": "markdown",
   "metadata": {},
   "source": [
    "Podemos apreciar en esta gráfica que, conforme el intervalo se va acercando a un valor en particular, el error entre la derivada numérica y la exacta va disminuyendo, hasta llegar a un valor mínimo, en donde se mantiene constante dados unos pocos intervalos más, para después despegar linealmente en la escala logarítmica, lo que implica que su dependencia real es de carácter de potenciación. "
   ]
  },
  {
   "cell_type": "markdown",
   "metadata": {
    "collapsed": true
   },
   "source": [
    "Para la derivada simétrica:"
   ]
  },
  {
   "cell_type": "code",
   "execution_count": 2,
   "metadata": {
    "collapsed": false
   },
   "outputs": [
    {
     "data": {
      "text/plain": [
       "50-element Array{Float64,1}:\n",
       " 1.0e-9    \n",
       " 1.45635e-9\n",
       " 2.12095e-9\n",
       " 3.08884e-9\n",
       " 4.49843e-9\n",
       " 6.55129e-9\n",
       " 9.54095e-9\n",
       " 1.3895e-8 \n",
       " 2.02359e-8\n",
       " 2.94705e-8\n",
       " 4.29193e-8\n",
       " 6.25055e-8\n",
       " 9.10298e-8\n",
       " ⋮         \n",
       " 0.00159986\n",
       " 0.00232995\n",
       " 0.00339322\n",
       " 0.00494171\n",
       " 0.00719686\n",
       " 0.0104811 \n",
       " 0.0152642 \n",
       " 0.02223   \n",
       " 0.0323746 \n",
       " 0.0471487 \n",
       " 0.0686649 \n",
       " 0.1       "
      ]
     },
     "execution_count": 2,
     "metadata": {},
     "output_type": "execute_result"
    }
   ],
   "source": [
    "#Nuevamente, con las definiciones de:\n",
    "#f(x)=3x^3-2 ; fp(x)=9x^2 #La función y su derivada\";\n",
    "#c=1  #Punto donde se evalua ;\n",
    " #h=logspace(-9,-1,50)"
   ]
  },
  {
   "cell_type": "code",
   "execution_count": 16,
   "metadata": {
    "collapsed": false,
    "scrolled": true
   },
   "outputs": [
    {
     "data": {
      "text/plain": [
       "50-element Array{Any,1}:\n",
       " 3.00574e-7 \n",
       " 3.27097e-7 \n",
       " 1.40644e-7 \n",
       " 1.55927e-7 \n",
       " 1.11307e-8 \n",
       " 4.10014e-8 \n",
       " 3.28348e-9 \n",
       " 2.93674e-8 \n",
       " 2.73209e-8 \n",
       " 1.09314e-8 \n",
       " 5.77013e-9 \n",
       " 6.88151e-9 \n",
       " 5.662e-9   \n",
       " ⋮          \n",
       " 7.67864e-6 \n",
       " 1.6286e-5  \n",
       " 3.45419e-5 \n",
       " 7.32616e-5 \n",
       " 0.000155384\n",
       " 0.000329562\n",
       " 0.000698986\n",
       " 0.00148251 \n",
       " 0.00314434 \n",
       " 0.00666899 \n",
       " 0.0141446  \n",
       " 0.03       "
      ]
     },
     "execution_count": 16,
     "metadata": {},
     "output_type": "execute_result"
    }
   ],
   "source": [
    "#Ahora, de igual manera evaluamos cada intervalo en la derivada (ahora central) y calculando el error absoluto\n",
    "for i in h\n",
    "    errs= abs((f(c+i)-f(c-i))/(2*i) - fp(c))\n",
    "    println(errs)\n",
    "end    \n",
    " S=[ abs((f(c+i)-f(c-i))/(2*i) - fp(c))  for i in h]"
   ]
  },
  {
   "cell_type": "markdown",
   "metadata": {},
   "source": [
    "Graficando error vs intervalo:"
   ]
  },
  {
   "cell_type": "code",
   "execution_count": 17,
   "metadata": {
    "collapsed": false
   },
   "outputs": [
    {
     "data": {
      "image/png": "[encoded data removed]",
      "text/plain": [
       "PyPlot.Figure(PyObject <matplotlib.figure.Figure object at 0x7f27976c8290>)"
      ]
     },
     "metadata": {},
     "output_type": "display_data"
    },
    {
     "data": {
      "text/plain": [
       "1-element Array{Any,1}:\n",
       " PyObject <matplotlib.lines.Line2D object at 0x7f27974f7750>"
      ]
     },
     "execution_count": 17,
     "metadata": {},
     "output_type": "execute_result"
    }
   ],
   "source": [
    "loglog(h,S)"
   ]
  },
  {
   "cell_type": "markdown",
   "metadata": {
    "collapsed": true
   },
   "source": [
    "De esta gráfica podemos apreciar que la para la derivada simétrica es más precisa, ya que el valor absoluto del error es menor y además este error se aproxima a cero (junto con el intervalo) más rápido que la derivada derecha. \n",
    "that center differences are dramatically more accurate—not\n",
    "only is the absolute value of the error\n",
    "smaller for the center differences, but the rate at\n",
    "which it goes to zero with ∆x is also qualitatively\n",
    "faster. Since this is a log–log plot, a straight line corresponds\n",
    "to a power law, and the forward/backwarddifference\n",
    "errors shrink proportional to ∼ ∆x, while\n",
    "the center-difference errors shrink proportional to\n",
    "∼ ∆x\n",
    "2\n",
    "! For very small ∆x, the error appears to go\n",
    "crazy—what you are seeing here is simply the effect\n",
    "of roundoff errors, which take over at this point because\n",
    "the computer rounds every operation to about\n",
    "15–16 decimal digits"
   ]
  },
  {
   "cell_type": "markdown",
   "metadata": {},
   "source": [
    "Derivada Compleja"
   ]
  },
  {
   "cell_type": "code",
   "execution_count": 16,
   "metadata": {
    "collapsed": true
   },
   "outputs": [],
   "source": [
    "#Nuevamente, con las definiciones de:\n",
    "#f(x)=3x^3-2 ; fp(x)=9x^2 La función y su derivada\";\n",
    "#c=1  Punto donde se evalua ;\n",
    "#h=logspace(-9,-1,50)"
   ]
  },
  {
   "cell_type": "code",
   "execution_count": 19,
   "metadata": {
    "collapsed": false
   },
   "outputs": [
    {
     "data": {
      "text/plain": [
       "100-element Array{Complex{Float64},1}:\n",
       "     0.0+1.0e-9im        \n",
       "  0.0+1.2045e-9im        \n",
       " 0.0+1.45083e-9im        \n",
       " 0.0+1.74753e-9im        \n",
       "  0.0+2.1049e-9im        \n",
       " 0.0+2.53536e-9im        \n",
       " 0.0+3.05386e-9im        \n",
       " 0.0+3.67838e-9im        \n",
       " 0.0+4.43062e-9im        \n",
       "  0.0+5.3367e-9im        \n",
       " 0.0+6.42807e-9im        \n",
       " 0.0+7.74264e-9im        \n",
       " 0.0+9.32603e-9im        \n",
       "             ⋮           \n",
       "          0.0+0.0129155im\n",
       "          0.0+0.0155568im\n",
       "          0.0+0.0187382im\n",
       "          0.0+0.0225702im\n",
       "          0.0+0.0271859im\n",
       "          0.0+0.0327455im\n",
       "          0.0+0.0394421im\n",
       "          0.0+0.0475081im\n",
       "          0.0+0.0572237im\n",
       "          0.0+0.0689261im\n",
       "          0.0+0.0830218im\n",
       "          0.0+0.1im      "
      ]
     },
     "execution_count": 19,
     "metadata": {},
     "output_type": "execute_result"
    }
   ],
   "source": [
    "h_im=logspace(-9,-1,100)*1im"
   ]
  },
  {
   "cell_type": "code",
   "execution_count": 20,
   "metadata": {
    "collapsed": false,
    "scrolled": false
   },
   "outputs": [
    {
     "name": "stdout",
     "output_type": "stream",
     "text": [
      "9."
     ]
    },
    {
     "data": {
      "text/plain": [
       "100-element Array{Any,1}:\n",
       "  1.0e9    \n",
       "  8.30218e8\n",
       "  6.89261e8\n",
       "  5.72237e8\n",
       "  4.75081e8\n",
       "  3.94421e8\n",
       "  3.27455e8\n",
       "  2.71859e8\n",
       "  2.25702e8\n",
       "  1.87382e8\n",
       "  1.55568e8\n",
       "  1.29155e8\n",
       "  1.07227e8\n",
       "  ⋮        \n",
       " 69.1305   \n",
       " 56.146    \n",
       " 45.4349   \n",
       " 36.6307   \n",
       " 29.4359   \n",
       " 23.6125   \n",
       " 18.9742   \n",
       " 15.3785   \n",
       " 12.7141   \n",
       " 10.8805   \n",
       "  9.75831  \n",
       "  9.19222  "
      ]
     },
     "execution_count": 20,
     "metadata": {},
     "output_type": "execute_result"
    },
    {
     "name": "stdout",
     "output_type": "stream",
     "text": [
      "99999991e8\n",
      "8.302175591319737e8\n",
      "6.892612014349709e8\n",
      "5.722367569350218e8\n",
      "4.7508100721027935e8\n",
      "3.94420596943765e8\n",
      "3.274549072877734e8\n",
      "2.71858815273294e8\n",
      "2.25701962963392e8\n",
      "1.8738173328603896e8\n",
      "1.555676053930476e8\n",
      "1.2915495750148861e8\n",
      "1.07226713201033e8\n",
      "8.902149954450448e7\n",
      "7.390721133525841e7\n",
      "6.1359063734132566e7\n",
      "5.094137114816471e7\n",
      "4.229241974389615e7\n",
      "3.511190834215274e7\n",
      "2.9150521628253452e7\n",
      "2.420127364794588e7\n",
      "2.0092321025652926e7\n",
      "1.6680996372003559e7\n",
      "1.3848854713942295e7\n",
      "1.1497560953981658e7\n",
      "9.545475566623533e6\n",
      "7.924819983545412e6\n",
      "6.579323246583209e6\n",
      "5.462268217693402e6\n",
      "4.534869508139496e6\n",
      "3.7649268068056186e6\n",
      "3.125706849704072e6\n",
      "2.595015211418812e6\n",
      "2.1544256900548595e6\n",
      "1.7886405290851097e6\n",
      "1.4849592622878002e6\n",
      "1.2328377394822168e6\n",
      "1.0235220219473897e6\n",
      "849744.4359668964\n",
      "705471.2311420303\n",
      "585693.0818901809\n",
      "486251.15810833435\n",
      "403692.725982273\n",
      "335151.26524157793\n",
      "278246.94039861095\n",
      "231003.9702225962\n",
      "191782.02642535212\n",
      "159219.27964499814\n",
      "132185.1152210729\n",
      "109740.87700036129\n",
      "91107.27615485432\n",
      "75637.33340988694\n",
      "62793.915206614096\n",
      "52131.083829495394\n",
      "43278.61395453778\n",
      "35929.138015693105\n",
      "29827.47406228288\n",
      "24761.76555882993\n",
      "20556.125491329287\n",
      "17064.529375172762\n",
      "14165.745123195116\n",
      "11759.123733241107\n",
      "9761.104643260194\n",
      "8102.314415986643\n",
      "6725.158016322136\n",
      "5581.819047904736\n",
      "4632.5995148648\n",
      "3844.5414634609633\n",
      "3190.2826454737656\n",
      "2647.10647073249\n",
      "2196.1532620900794\n",
      "1821.7654267680937\n",
      "1510.943807729343\n",
      "1252.896339045468\n",
      "1038.6633341471438\n",
      "860.8063966576418\n",
      "713.1501526079471\n",
      "590.5678369241137\n",
      "488.8032898588021\n",
      "404.3231834006624\n",
      "334.1943475659766\n",
      "275.98193835390737\n",
      "227.66491337084068\n",
      "187.5658829531547\n",
      "154.2929051023706\n",
      "126.69120932294247\n",
      "103.803182371428\n",
      "84.83524060271031\n",
      "69.13045981471822\n",
      "56.14604324468938\n",
      "45.434887921753415\n",
      "36.630658564597645\n",
      "29.43587746408355\n",
      "23.612517508279772\n",
      "18.974249953677056\n",
      "15.378458698461484\n",
      "12.71412219703764\n",
      "10.88051128967772\n",
      "9.75831004221721\n",
      "9.192219536107697\n"
     ]
    }
   ],
   "source": [
    "#Ahora, de igual manera, evaluamos cada intervalo(complejo) en la derivada (ahora compleja) y calculando el error absoluto\n",
    "for i in h_im\n",
    "    errc= abs(f(c+(1im*i))/(i) - fp(c))\n",
    "\n",
    "    println(errc)\n",
    "end    \n",
    "L=[ abs(f(c+(1im*i))/(i) - fp(c)) for i in h_im]"
   ]
  },
  {
   "cell_type": "code",
   "execution_count": 21,
   "metadata": {
    "collapsed": false
   },
   "outputs": [
    {
     "data": {
      "image/png": "[encoded data removed]",
      "text/plain": [
       "PyPlot.Figure(PyObject <matplotlib.figure.Figure object at 0x7f2797408a90>)"
      ]
     },
     "metadata": {},
     "output_type": "display_data"
    },
    {
     "data": {
      "text/plain": [
       "1-element Array{Any,1}:\n",
       " PyObject <matplotlib.lines.Line2D object at 0x7f2796cadf50>"
      ]
     },
     "execution_count": 21,
     "metadata": {},
     "output_type": "execute_result"
    }
   ],
   "source": [
    "loglog(imag(h_im),L)"
   ]
  },
  {
   "cell_type": "markdown",
   "metadata": {},
   "source": [
    "**Preguntas**\n",
    "\n",
    "- ¿Cuál de las definiciones anteriores es mejor en términos de dar el valor más exacto de la derivada? Den un argumento sólido de su conclusión en términos del tipo de convergencia hacia el valor exacto.\n",
    "\n",
    "\n"
   ]
  },
  {
   "cell_type": "markdown",
   "metadata": {},
   "source": [
    "*De los 3 métodos de derivación automática analizados, podemos ver que el método de derivación compleja tiene un decremento, del error absoluto con respecto al incremento, que converge de manera cuadrática, además, en comparación de los otros dos casos, este error no aumenta de nuevo conforme se supera cierto punto, como sse peude observar en la derivación derecha y central, por lo tanto, el método que da valores más exactos de la derivada es la diferenciación finíta compleja.*"
   ]
  },
  {
   "cell_type": "markdown",
   "metadata": {},
   "source": [
    "- ¿Qué comportamiento de las derivadas en términos de $h$ nos incomoda (en lo más profundo de las entrañas)? ¿A qué se debe esto?"
   ]
  },
  {
   "cell_type": "markdown",
   "metadata": {},
   "source": [
    "\"El comportamiento incómodo de las derivadas en términos de $h$ es que, en contra a lo que uno espera matématicamente (i.e. que conforme el valor de $h$ tiende a cero, el \\begin{equation}\n",
    "f'(x_0) = \\lim_{h\\to 0} \\frac{f(x_0+h)-f(x_0)}{h},\n",
    "\\end{equation} converge al valor de la derivada en el punto x_0) dicha convergencia no ocurre pasando un valor mínimo para $h$, tras el cual, la convergencia (analizada en este caso por el error absoluto) se dispara. Esto se debe a la incapacidad de la derivación automática de tomar valores **continuos**, ya que hasta cierto valor, la computadora redondeará el valor de $h$, por lo que esta discretización va en contra del concepto matemático del límite.\" "
   ]
  },
  {
   "cell_type": "markdown",
   "metadata": {},
   "source": []
  }
 ],
 "metadata": {
  "kernelspec": {
   "display_name": "Julia 0.4.2",
   "language": "julia",
   "name": "julia-0.4"
  },
  "language_info": {
   "file_extension": ".jl",
   "mimetype": "application/julia",
   "name": "julia",
   "version": "0.4.2"
  }
 },
 "nbformat": 4,
 "nbformat_minor": 0
}
