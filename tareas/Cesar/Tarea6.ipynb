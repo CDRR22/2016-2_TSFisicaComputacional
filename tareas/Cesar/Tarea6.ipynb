{
 "cells": [
  {
   "cell_type": "markdown",
   "metadata": {
    "slideshow": {
     "slide_type": "slide"
    }
   },
   "source": [
    "# Derivadas superiores"
   ]
  },
  {
   "cell_type": "markdown",
   "metadata": {},
   "source": [
    "Hasta ahora hemos visto que, usando diferenciación automática, podemos calcular la derivada de funciones de una variable esencialmente con un error del orden del epsilon de la máquina.\n",
    "\n",
    "La pregunta que abordaremos ahora, es cómo hacer para calcular la segunda derivada, y derivadas de orden superior."
   ]
  },
  {
   "cell_type": "markdown",
   "metadata": {
    "slideshow": {
     "slide_type": "subslide"
    }
   },
   "source": [
    "Una posibilidad, específica para el caso de la segunda derivada, es proceder como en el caso anterior, es decir, definir una *terna ordenada* donde la primer componente es el valor de la función en $x_0$, i.e., $f(x_0)$, el de la segunda es el valor de la primer derivada $f'(x_0)$, y la tercer componente tiene el valor de la segunda derivada, $f^{(2)}(x_0) = f''(x_0)$. \n"
   ]
  },
  {
   "cell_type": "markdown",
   "metadata": {
    "slideshow": {
     "slide_type": "fragment"
    }
   },
   "source": [
    "Con esta definición, las operaciones aritméticas vienen dadas por:\n",
    "\n",
    "\\begin{eqnarray}\n",
    "\\vec{u} + \\vec{v} & = & (u + v, \\quad u'+ v', \\quad u''+v''),\\\\\n",
    "\\vec{u} - \\vec{v} & = & (u - v, \\quad u'- v', \\quad u''-v''),\\\\\n",
    "\\vec{u} \\times \\vec{v} & = & (u v, \\quad u v' + u' v, \\quad u v'' + 2 u' v' + u'' v),\\\\\n",
    "\\frac{\\vec{u}}{\\vec{v}} & = & \\Big( \\frac{u}{v}, \\quad \\frac{u'-( u/v) v'}{v}, \\quad \n",
    "\\frac{u'' - 2 (u/v)' v' - (u/v)v'' }{v}\\Big).\\\\\n",
    "\\end{eqnarray}\n",
    "\n",
    "Claramente, este proceso es muy ineficiente para derivadas de orden aún más alto, dado que las expresiones se complican y es fácil cometer errores."
   ]
  },
  {
   "cell_type": "markdown",
   "metadata": {
    "slideshow": {
     "slide_type": "subslide"
    }
   },
   "source": [
    "# Series de Taylor"
   ]
  },
  {
   "cell_type": "markdown",
   "metadata": {
    "slideshow": {
     "slide_type": "-"
    }
   },
   "source": [
    "El punto importante a recordar, es que las derivadas de orden superior de una función $f(x)$ en un punto $x_0$ están contenidas en el desarrollo de Taylor de la función entorno a ese punto. La suposición importante en esto es que $f(x)$ es suficientemente suave; por simplicidad supondremos que $f(x)$ es ${\\cal C}^\\infty$ y que estamos suficientemente cerca del punto $x_0$, i.e., $|x-x_0|\\ll 1$. \n"
   ]
  },
  {
   "cell_type": "markdown",
   "metadata": {
    "slideshow": {
     "slide_type": "fragment"
    }
   },
   "source": [
    "La serie de Taylor de $f(x)$ viene dada por\n",
    "\n",
    "\\begin{eqnarray}\n",
    "f(x) & = & f(x_0) + f^{(1)}(x_0) (x-x_0) + \\frac{f^{(2)}(x_0)}{2!} (x-x_0)^2 + \\dots + \\frac{f^{(k)}(x_0)}{k!} (x-x_0)^k + \\dots,\\\\\n",
    "& = & f_{[0]} + f_{[1]} (x-x_0) + f_{[2]} (x-x_0)^2 + \\dots + f_{[k]} (x-x_0)^k + \\dots,\\\\\n",
    "\\end{eqnarray}\n",
    "\n",
    "donde los coeficientes *normalizados* de Taylor $f_{[k]}$ que aparecen en la segunda línea de la ecuación anterior se definen como\n",
    "\n",
    "\\begin{equation}\n",
    "f_{[k]} = \\frac{f^{(k)}(x_0)}{k!} = \\frac{1}{k!}\\frac{{\\rm d}^k f}{{\\rm d}x^k}(x_0).\n",
    "\\end{equation}\n",
    "\n"
   ]
  },
  {
   "cell_type": "markdown",
   "metadata": {
    "slideshow": {
     "slide_type": "fragment"
    }
   },
   "source": [
    "Vale la pena **enfatizar** que la expresión anterior es exacta en tanto que la serie **no** sea truncada. En el caso de que la serie truncada a orden k, el [teorema de Taylor](https://en.wikipedia.org/wiki/Taylor%27s_theorem) asegura que el residuo (error del truncamiento) se puede escribir como:\n",
    "\n",
    "\\begin{equation}\n",
    "{\\cal R_{k}} = \\frac{f^{(k+1)}\\,(\\xi)}{(k+1)!} (x-x_0)^{k+1},\n",
    "\\end{equation}\n",
    "\n",
    "donde $\\xi$ es un punto que pertenece al interval $[x_0,x]$.\n"
   ]
  },
  {
   "cell_type": "markdown",
   "metadata": {
    "slideshow": {
     "slide_type": "subslide"
    }
   },
   "source": [
    "Si la serie es truncada, la aproximación es un polinomio de orden $k$ (grado máximo es $k$) en $x$. Dado que los polinomios en una variable están definidos por $k+1$ coeficientes, entonces pueden ser mapeados a vectores en $\\mathbb{R}^{k+1}$. \n",
    "\n",
    "Las operaciones aritméticas, en este caso, vienen dadas por:\n",
    "\n",
    "\\begin{eqnarray}\n",
    "(f+g)_{[k]} & = & f_{[k]} + g_{[k]} ,\\\\\n",
    "(f-g)_{[k]} & = & f_{[k]} - g_{[k]} ,\\\\\n",
    "(f \\cdot g)_{[k]} & = & \\sum_{i=0}^k f_{[i]} \\,g_{[k-i]} \\, ,\\\\\n",
    "\\Big(\\frac{f}{g}\\Big)_{[k]} & = & \\frac{1}{g_{[0]}}\n",
    "\\Big( f_{[k]} - \\sum_{i=0}^{k-1} \\big(\\frac{f}{g}\\big)_{[i]} \\, g_{[k-i]} \\Big) . \\\\\n",
    "\\end{eqnarray}"
   ]
  },
  {
   "cell_type": "markdown",
   "metadata": {
    "slideshow": {
     "slide_type": "slide"
    }
   },
   "source": [
    "### Ejercicio\n",
    "\n",
    "Implementen una nueva estructura paramétrica (`type`) que defina el tipo `Taylor`, donde el parámetro debe ser un subtipo de `Number`. Definan métodos que implementen las operaciones aritméticas básicas (`+`, `-`, `*`, `/`) y la igualdad (`==`). Esto deberá ser incluido en un módulo.\n",
    "\n",
    "Incluyan pruebas (en el archivo \"runtests.jl\") para cada uno de los métodos que implementen."
   ]
  },
  {
   "cell_type": "code",
   "execution_count": 130,
   "metadata": {
    "collapsed": false
   },
   "outputs": [
    {
     "ename": "LoadError",
     "evalue": "LoadError: invalid redefinition of constant Taylor\nwhile loading In[130], in expression starting on line 442",
     "output_type": "error",
     "traceback": [
      "LoadError: invalid redefinition of constant Taylor\nwhile loading In[130], in expression starting on line 442",
      ""
     ]
    }
   ],
   "source": [
    "\"\"\"Definición de polinomios de Taylor, donde las entradas del tipo son los coeficientes normalizados de Taylor \n",
    "de una función dada alrededor de un mismo punto.\n",
    "...\n",
    "\"\"\"\n",
    "type Taylor{D<:Number}\n",
    "    coef :: Array{D,1}\n",
    "    order :: Int\n",
    "    \n",
    "    #Definimos una función que manipule el orden de un polinomio de taylor\n",
    "    function Taylor(coef :: Array{D,1}, order :: Int)\n",
    "        l = length(coef) #Definimos la longitud del Taylor\n",
    "        order = max(order,l-1) #Vemos que valor es más grande\n",
    "        order == l-1 && return new(coef, order) #si el arreglo era mas grande que el orden dado, genera uno nuevo\n",
    "        resize!(coef, order+1) #cambia la longitud del arreglo a order+1 (empieza a contar en 1 y el orden en 0)\n",
    "        for i = l+1:order+1 #Agrega los ceros necesarios para completar el taylor\n",
    "            coef[i]=zero(D)\n",
    "        end\n",
    "        new(coef, order) #Regresa el nuevo Taylor\n",
    "    end\n",
    "    \n",
    "end\n",
    "\n",
    "Taylor{D<:Number}(x::Taylor{D}, order::Int) = Taylor{D}(x.coef, order) # El taylor de un taylor es si mismo\n",
    "Taylor{D<:Number}(x::Taylor{D}) = x #lo mismo que arriba pero sin especificar el orden\n",
    "Taylor{D<:Number}(coef::Array{D,1}, order::Int) = Taylor{D}(coef, order) # Permite generar taylors a partir de un arreglo y un orden\n",
    "Taylor{D<:Number}(coef::Array{D,1}) = Taylor{D}(coef, length(coef)-1) # Lo mismo pero sin especificar el orden\n",
    "Taylor{D<:Number}(x::D, order::Int) = Taylor{D}([x], order) # Taylor de una constante con orden definido\n",
    "Taylor{D<:Number}(x::D) = Taylor{D}([x], 0) #Taylor de una constante"
   ]
  },
  {
   "cell_type": "code",
   "execution_count": 131,
   "metadata": {
    "collapsed": false
   },
   "outputs": [
    {
     "data": {
      "text/plain": [
       "Taylor{D<:Number}"
      ]
     },
     "execution_count": 131,
     "metadata": {},
     "output_type": "execute_result"
    }
   ],
   "source": [
    "Taylor(a)=Taylor(promote(a)...)"
   ]
  },
  {
   "cell_type": "code",
   "execution_count": 132,
   "metadata": {
    "collapsed": false
   },
   "outputs": [
    {
     "data": {
      "text/plain": [
       "== (generic function with 110 methods)"
      ]
     },
     "execution_count": 132,
     "metadata": {},
     "output_type": "execute_result"
    }
   ],
   "source": [
    "import Base: +, -, *, /, ==\n",
    "\n",
    "#Definimos con el mínimo para no tener que agregar ceros. De por sí por como definimos Taylor manualmente puedes especificar \n",
    "# el orden necesario.\n",
    "function +(a::Taylor,b::Taylor)\n",
    "    m = minimum([a.order,b.order])+1\n",
    "    c = zeros(m)\n",
    "    for k in range(1,m)\n",
    "        c[k]=a.coef[k]+b.coef[k]\n",
    "    end\n",
    "    return Taylor(c)\n",
    "end\n",
    "\n",
    "function -(a::Taylor,b::Taylor)\n",
    "    m = minimum([a.order,b.order])+1\n",
    "    c = zeros(m)\n",
    "    for k in range(1,m)\n",
    "        c[k]=a.coef[k]-b.coef[k]\n",
    "    end\n",
    "    return Taylor(c)\n",
    "end\n",
    "\n",
    "function *(a::Taylor,b::Taylor)\n",
    "    m = minimum([a.order,b.order])+1\n",
    "    c = zeros(m)\n",
    "    for k in range (1,m)\n",
    "        for i in range(1,k)\n",
    "            c[k]+=a.coef[i]*b.coef[k-i+1]\n",
    "        end\n",
    "    end\n",
    "    return Taylor(c)\n",
    "end\n",
    "\n",
    "function /(a::Taylor,b::Taylor)\n",
    "    m = minimum([a.order,b.order])+1\n",
    "    c = zeros(m)\n",
    "    for k in range (1,m)\n",
    "        s = 0\n",
    "        for i in range(1,k-1)\n",
    "            s += c[i]*b.coef[k-i+1]\n",
    "        end\n",
    "        c[k] = (a.coef[k]-s)/b.coef[1]\n",
    "    end\n",
    "    return Taylor(c)\n",
    "end\n",
    "\n",
    "function /(a::Taylor,b::Taylor)\n",
    "    for k in range (1,b.order+1)\n",
    "        global l\n",
    "        if b.coef[k] != 0\n",
    "            l=k\n",
    "            break\n",
    "        end\n",
    "    end\n",
    "    m = maximum([a.order,l])\n",
    "    c = zeros(m)\n",
    "    a = Taylor(a.coef,m)\n",
    "    b = Taylor(b.coef,m)\n",
    "    for k in range(1,m-l+1)\n",
    "        s = 0\n",
    "        for i in range(1,k-l)\n",
    "            s += c[i]*b.coef[k+l-i]\n",
    "        end\n",
    "        c[k] = (a.coef[k+l-1]-s)/b.coef[l]\n",
    "    end\n",
    "    return Taylor(c)\n",
    "end\n",
    "\n",
    "function ==(a::Taylor,b::Taylor)\n",
    "    m = maximum([a.order,b.order])\n",
    "    #Agregamos ceros\n",
    "    a = Taylor(a.coef,m)\n",
    "    b = Taylor(b.coef,m)\n",
    "    for k in range(1,m+1)\n",
    "        if a.coef[k] != b.coef[k]\n",
    "            return false\n",
    "        end\n",
    "    end\n",
    "    return true\n",
    "end\n",
    "\n",
    "# Aqui se implementan los métodos necesarios para cada función"
   ]
  },
  {
   "cell_type": "code",
   "execution_count": 133,
   "metadata": {
    "collapsed": false
   },
   "outputs": [
    {
     "data": {
      "text/plain": [
       "Taylor{Int64}([2,2,0,0],3)"
      ]
     },
     "execution_count": 133,
     "metadata": {},
     "output_type": "execute_result"
    }
   ],
   "source": [
    "T=Taylor([2,2],3)\n"
   ]
  },
  {
   "cell_type": "code",
   "execution_count": 134,
   "metadata": {
    "collapsed": false
   },
   "outputs": [
    {
     "data": {
      "text/plain": [
       "Taylor{Int64}([2,2,0,0,0],4)"
      ]
     },
     "execution_count": 134,
     "metadata": {},
     "output_type": "execute_result"
    }
   ],
   "source": [
    "Taylor(T.coef,4)"
   ]
  },
  {
   "cell_type": "code",
   "execution_count": 135,
   "metadata": {
    "collapsed": false
   },
   "outputs": [
    {
     "data": {
      "text/plain": [
       "Taylor{Float64}([0.5,0.0,0.0],2)"
      ]
     },
     "execution_count": 135,
     "metadata": {},
     "output_type": "execute_result"
    }
   ],
   "source": [
    "Taylor([0,1,1])/Taylor([0,0,2])"
   ]
  },
  {
   "cell_type": "code",
   "execution_count": 136,
   "metadata": {
    "collapsed": false
   },
   "outputs": [
    {
     "data": {
      "text/plain": [
       "Taylor{Int64}([4,5,6],2)"
      ]
     },
     "execution_count": 136,
     "metadata": {},
     "output_type": "execute_result"
    }
   ],
   "source": [
    "Taylor([4,5,6])"
   ]
  },
  {
   "cell_type": "code",
   "execution_count": 137,
   "metadata": {
    "collapsed": true,
    "slideshow": {
     "slide_type": "-"
    }
   },
   "outputs": [],
   "source": [
    "# Muestren que su código funciona con tests adecuados; para los detalles ver \n",
    "# http://julia.readthedocs.org/en/release-0.4/stdlib/test/\n",
    "using Base.Test\n"
   ]
  },
  {
   "cell_type": "markdown",
   "metadata": {
    "slideshow": {
     "slide_type": "slide"
    }
   },
   "source": [
    "# Funciones de polinomios"
   ]
  },
  {
   "cell_type": "markdown",
   "metadata": {},
   "source": [
    "El siguiente punto, es cómo definir funciones de polinomios. \n",
    "\n",
    "Como veremos aquí, esto se basará en plantear una ecuación diferencial apropiada, cuya solución es, precisamente, la expresión que estamos buscando. Este punto es *importante*, y muestra que hay una conexión importante con la solución de ecuaciones diferenciales."
   ]
  },
  {
   "cell_type": "markdown",
   "metadata": {
    "slideshow": {
     "slide_type": "subslide"
    }
   },
   "source": [
    "Como ejemplo consideraremos la función\n",
    "\n",
    "\\begin{equation}\n",
    "E(x) = \\exp\\big(g(x)\\big),\n",
    "\\end{equation}\n",
    "\n",
    "donde \n",
    "\n",
    "\\begin{equation}\n",
    "g(x) = \\sum_{k=0}^\\infty g_{[k]} (x-x_0)^k\n",
    "\\end{equation}\n",
    "\n",
    "está escrita como una serie de Taylor (¡exacta!) alrededor de $x_0$. \n"
   ]
  },
  {
   "cell_type": "markdown",
   "metadata": {},
   "source": [
    "El primer punto, es que escribiremos a $E(x)$ como una serie de Taylor alrededor de $x_0$, es decir,\n",
    "\n",
    "\\begin{equation}\n",
    "E(x) = \\sum_{k=0}^\\infty E_{[k]} (x-x_0)^k.\n",
    "\\end{equation}\n",
    "\n",
    "El objetivo es determinar $E_{[k]}$ para *toda* $k$.\n",
    "\n",
    "Dado que $E(x)$ esun polinomio en $x$, su derivada viene dada por\n",
    "\n",
    "\\begin{equation}\n",
    "\\frac{{\\rm d} E(x)}{{\\rm d}x} = \\sum_{k=1}^\\infty k E_{[k]}\\, (x-x_0)^{k-1} .\n",
    "\\end{equation}"
   ]
  },
  {
   "cell_type": "markdown",
   "metadata": {},
   "source": [
    "Por otra parte, la derivada de $E(x)$ en términos de $g(x)$ está dada por\n",
    "\n",
    "\\begin{equation}\n",
    "\\frac{{\\rm d} E(x)}{{\\rm d}x} = \\exp\\big(g(x)\\big) \\frac{{\\rm d} g(x)}{{\\rm d}x} = E(x) \\frac{{\\rm d} g(x)}{{\\rm d}x},\n",
    "\\end{equation}\n",
    "\n",
    "donde del lado derecho aparece la derivada de $g(x)$. Ya que $g(x)$ *también* está escrita en forma polinomial, su derivada es\n",
    "\n",
    "\\begin{equation}\n",
    "\\frac{{\\rm d} g(x)}{{\\rm d}x} = \\sum_{k=1}^\\infty k g_{[k]}\\, (x-x_0)^{k-1} .\n",
    "\\end{equation}\n"
   ]
  },
  {
   "cell_type": "markdown",
   "metadata": {
    "slideshow": {
     "slide_type": "subslide"
    }
   },
   "source": [
    "Tenemos, entonces, todo lo que requerimos para escribir el lado derecho de la ecuación diferencial y explotar la aritmética de polinomios. \n",
    "\n",
    "\\begin{eqnarray}\n",
    "E(x) \\frac{{\\rm d} g(x)}{{\\rm d}x}& = & \n",
    "\\Big[ \\sum_{k=0}^\\infty E_{[k]} (x-x_0)^k \\Big]\n",
    "\\Big[ \\sum_{j=1}^\\infty j g_{[j]} (x-x_0)^{j-1}\\Big] \\\\\n",
    " & = & \\sum_{k=1}^\\infty \\Big[ \\sum_{j=0}^k j g_{[j]} E_{[k-j]} \\; \\Big] (x-x_0)^{k-1} .\\\\\n",
    "\\end{eqnarray}\n",
    "\n",
    "La segunda línea se obtiene reordenando los términos al fijar la potencia de $(x-x_0)$, esto es, $k+j$ se toma como un nuevo índice ($k$), y el nuevo índice $j$ describe el índice del producto de los polinomios. (La potencia se deja de la forma $k-1$ ya que el lado izquierdo de la ecuación aparece así.)"
   ]
  },
  {
   "cell_type": "markdown",
   "metadata": {},
   "source": [
    "Igualando con el lado izquierdo de la ecuación diferencial, que sólo involucra a la derivada de $E(x)$, tenemos que se debe cumplir\n",
    "\n",
    "\\begin{equation}\n",
    "E_{[k]} = \\frac{1}{k} \\sum_{j=0}^k j g_{[j]} \\, E_{[k-j]} = \n",
    "\\frac{1}{k} \\sum_{j=0}^{k} (k-j) g_{[k-j]} \\, E_{[j]}, \\qquad k=1,2,\\dots,\n",
    "\\end{equation}\n",
    "\n",
    "incluyendo *la condición inicial*\n",
    "\n",
    "\\begin{equation}\n",
    "E_{[0]} = \\exp\\big(g(x_0)\\big).\n",
    "\\end{equation}\n",
    "\n",
    "Estas relaciones *de recurrencia* permiten calcular $\\exp\\big(g(x)\\big)$, para cualquier polinomio $g(x)$."
   ]
  },
  {
   "cell_type": "markdown",
   "metadata": {},
   "source": [
    "Para el caso concreto $g(x) = x$ alrededor de $x_0=0$, donde tenemos $g_{[j]} = \\delta_{j,1}$, obtenemos\n",
    "\n",
    "\\begin{eqnarray}\n",
    "E_{[0]} & = & 1,\\\\\n",
    "E_{[k]} & = & \\frac{1}{k} E_{[k-1]} = \\frac{1}{k(k-1)} E_{[k-2]} = \\dots = \\frac{1}{k!} E_{[0]} = \\frac{1}{k!}\\ ,\n",
    "\\end{eqnarray}\n",
    "\n",
    "que es el resultado bien conocido."
   ]
  },
  {
   "cell_type": "markdown",
   "metadata": {
    "slideshow": {
     "slide_type": "subslide"
    }
   },
   "source": [
    "### Ejercicio\n",
    "\n",
    "Obtengan las relaciones de recurrencia para las funciones $L(x) = \\log\\big(g(x)\\big)$, $P_\\alpha(x) = \\big(g(x)\\big)^\\alpha$, $S(x) = \\sin\\big(g(x)\\big)$, $C(x) = \\cos\\big(g(x)\\big)$ usando el mismo procedimiento que arriba. Implementen métodos adecuados para estas funciones en el módulo, actuando sobre estructuras `Taylor` e incluyan pruebas."
   ]
  },
  {
   "cell_type": "markdown",
   "metadata": {},
   "source": [
    "Función Logaritmo\n",
    "\n",
    "Se toma $$L(x)=log(g(x))$$\n",
    "\n",
    "Al calcular la derivada se obtiene\n",
    "\n",
    "\\begin{equation}\n",
    "\\frac{{\\rm d} L(x)}{{\\rm d}x} = \\frac{g'(x)}{g(x)}\n",
    "\\end{equation}\n",
    "\n",
    "Además se define \\begin{equation}\n",
    "L(x) = \\sum_{k=0}^\\infty L_{[k]} (x-x_0)^{k}\n",
    "\\end{equation}\n",
    "\n",
    "Entonces \\begin{equation}\n",
    "\\frac{{\\rm d} L(x)}{{\\rm d}x} = \\sum_{k=1}^\\infty k\\ L_{[k]}\\, (x-x_0)^{k-1}\n",
    "\\end{equation}\n",
    "\n",
    "Además \\begin{equation}\n",
    "g(x) = \\sum_{k=0}^\\infty g_{[k]} (x-x_0)^{k}\n",
    "\\end{equation}\n",
    "\n",
    "Lo que implica que \\begin{equation}\n",
    "g'(x)=\\frac{{\\rm d} g(x)}{{\\rm d}x} = \\sum_{k=1}^\\infty k\\ g_{[k]}\\, (x-x_0)^{k-1} \n",
    "\\end{equation}\n",
    "\n",
    "Por otro lado, partiendo de que \\begin{equation} \\Big(\\frac{f}{g}\\Big)_{[k]}  =  \\frac{1}{g_{[0]}}\n",
    "\\Big( f_{[k]} - \\sum_{i=0}^{k-1} \\big(\\frac{f}{g}\\big)_{[i]} \\, g_{[k-i]} \\Big) \\end{equation}\n",
    "\n",
    "\n",
    "Se toma \\begin{equation}\n",
    "\\frac{f}{g} \\rightarrow \\frac{g'}{g}\n",
    "\\end{equation}\n",
    "\n",
    "Por tanto, se llega a que \n",
    "\n",
    "\\begin{equation} \\Big(\\frac{g'}{g}\\Big)_{[k]}  =  \\frac{1}{g_{[0]}}\n",
    "\\Big( g'_{[k]} - \\sum_{i=0}^{k-1} \\big(\\frac{g'}{g}\\big)_{[i]} \\, g_{[k-i]} \\Big) \n",
    "\\end{equation}\n",
    "\n",
    "\\begin{equation}\n",
    "\\Rightarrow k\\ L_{[k]}\\ = \\frac{1}{g_{[0]}}\n",
    "\\Big(k\\ g_{[k]}\\ - \\sum_{i=0}^{k-1} i\\ L_{[i]} \\ g_{[k-i]}   \\Big) \n",
    "\\end{equation}\n",
    "\n",
    "\\begin{equation}\n",
    "\\Rightarrow L_{[k]}\\ = \\frac{1}{k\\ g_{[0]}}\n",
    "\\Big(k\\ g_{[k]}\\ - \\sum_{i=0}^{k-1} i\\ L_{[i]} \\ g_{[k-i]}   \\Big) \n",
    "\\end{equation}"
   ]
  },
  {
   "cell_type": "code",
   "execution_count": 138,
   "metadata": {
    "collapsed": false
   },
   "outputs": [
    {
     "data": {
      "text/plain": [
       "taylog (generic function with 3 methods)"
      ]
     },
     "execution_count": 138,
     "metadata": {},
     "output_type": "execute_result"
    }
   ],
   "source": [
    "function taylog(x0,a::Taylor)\n",
    "    m = (a.order+1)\n",
    "    L = zeros(m)\n",
    "    for k in range(1,m)\n",
    "        global l\n",
    "        if a.coef[k] != 0\n",
    "            l=k\n",
    "            break\n",
    "        end\n",
    "    end\n",
    "    #L[1] = log(x0)\n",
    "    for k in range(1,m-l+1)\n",
    "        s = 0\n",
    "        for i in range(1,k-l)\n",
    "            s += i*L[i]*a.coef[k+l-i]\n",
    "        end\n",
    "        L[k] = ((k+l-1)a.coef[k+l-1]-s)/((k-l+1)*a.coef[l])\n",
    "    end\n",
    "    return Taylor(L)\n",
    "end    \n"
   ]
  },
  {
   "cell_type": "code",
   "execution_count": 139,
   "metadata": {
    "collapsed": false
   },
   "outputs": [
    {
     "data": {
      "text/plain": [
       "Taylor{Float64}([1.0,0.5,-0.3333333333333333,0.25,-0.2,0.16666666666666666],5)"
      ]
     },
     "execution_count": 139,
     "metadata": {},
     "output_type": "execute_result"
    }
   ],
   "source": [
    "taylog(1,Taylor([1,1],5))"
   ]
  },
  {
   "cell_type": "markdown",
   "metadata": {},
   "source": [
    "Función $P_\\alpha(x) = \\big(g(x)\\big)^\\alpha$\n",
    "\n",
    "Al calcular la derivada se obtiene\n",
    "\n",
    "\\begin{equation}\n",
    "\\frac{{\\rm d} P_\\alpha(x)}{{\\rm d}x} = \\alpha \\ \\big(g(x)\\big)^{\\alpha -1}\n",
    "\\end{equation}\n",
    "\n",
    "\\begin{equation}\n",
    "\\Rightarrow \\frac{{\\rm d} P_\\alpha(x)}{{\\rm d}x} = \\frac{\\alpha \\ P_\\alpha(x) \\ g'(x) }{g(x)}\n",
    "\\end{equation}\n",
    "\n",
    "Además se define \\begin{equation}\n",
    "P_\\alpha(x) = \\sum_{k=0}^\\infty P_{\\alpha [k]} (x-x_0)^{k}\n",
    "\\end{equation}\n",
    "\n",
    "Entonces \\begin{equation}\n",
    "\\frac{{\\rm d} P_\\alpha}{{\\rm d}x} = \\sum_{k=1}^\\infty k\\ P_{\\alpha[k]}\\, (x-x_0)^{k-1}\n",
    "\\end{equation}\n",
    "\n",
    "Además \\begin{equation}\n",
    "g(x) = \\sum_{k=0}^\\infty g_{[k]} (x-x_0)^{k}\n",
    "\\end{equation}\n",
    "\n",
    "Lo que implica que \\begin{equation}\n",
    "g'(x)=\\frac{{\\rm d} g(x)}{{\\rm d}x} = \\sum_{k=1}^\\infty k\\ g_{[k]}\\, (x-x_0)^{k-1} \n",
    "\\end{equation}\n",
    "\n",
    "Por otro lado, partiendo de que \\begin{equation} \\Big(\\frac{f}{g}\\Big)_{[k]}  =  \\frac{1}{g_{[0]}}\n",
    "\\Big( f_{[k]} - \\sum_{i=0}^{k-1} \\big(\\frac{f}{g}\\big)_{[i]} \\, g_{[k-i]} \\Big) \\end{equation}\n",
    "\n",
    "\n",
    "Se toma \\begin{equation}\n",
    "\\frac{f}{g} \\rightarrow \\frac{\\alpha \\ P_\\alpha(x) \\ g'(x) }{g(x)}\n",
    "\\end{equation}\n",
    "\n",
    "Por tanto, se llega a que \n",
    "\n",
    "\\begin{equation} \\Big(\\frac{\\alpha \\ P_\\alpha(x) \\ g'(x)}{g}\\Big)_{[k]}  =  \\frac{1}{g_{[0]}}\n",
    "\\Big( \\big(\\alpha \\ P_\\alpha(x) \\ g'(x)\\big)_{[k]} - \\sum_{i=0}^{k-1} \\big(\\frac{\\alpha \\ P_\\alpha(x) \\ g'(x)}{g}\\big)_{[i]} \\, g_{[k-i]} \\Big) \n",
    "\\end{equation}\n",
    "\n",
    "\\begin{equation}\n",
    "\\Rightarrow k\\ P_\\alpha(x)\\ = \\frac{1}{g_{[0]}}\n",
    "\\Big(\\alpha \\ \\sum_{i=1}^{k} j\\ g_{[j]}\\ P_{\\alpha [k-j]}\\ - \\sum_{i=1}^{k-1} i\\ P_{\\alpha(x)[i]} \\ g_{[k-i]}   \\Big) \n",
    "\\end{equation}\n",
    "\n",
    "\\begin{equation}\n",
    "\\Rightarrow P_\\alpha(x)\\ = \\frac{1}{k \\ g_{[0]}}\n",
    "\\Big(\\alpha \\ \\sum_{i=1}^{k} j\\ g_{[j]}\\ P_{\\alpha [k-j]}\\ - \\sum_{i=1}^{k-1} i\\ P_{\\alpha(x)[i]} \\ g_{[k-i]}   \\Big)\n",
    "\\end{equation}"
   ]
  },
  {
   "cell_type": "code",
   "execution_count": 140,
   "metadata": {
    "collapsed": false
   },
   "outputs": [
    {
     "data": {
      "text/plain": [
       "taypot (generic function with 1 method)"
      ]
     },
     "execution_count": 140,
     "metadata": {},
     "output_type": "execute_result"
    }
   ],
   "source": [
    "function taypot(α::Int,a::Taylor)\n",
    "    for k in range(1,α)\n",
    "        global pot\n",
    "        pot *= a\n",
    "    end\n",
    "    return pot\n",
    "end\n",
    "    "
   ]
  },
  {
   "cell_type": "code",
   "execution_count": null,
   "metadata": {
    "collapsed": true
   },
   "outputs": [],
   "source": []
  }
 ],
 "metadata": {
  "celltoolbar": "Slideshow",
  "kernelspec": {
   "display_name": "Julia 0.4.5",
   "language": "julia",
   "name": "julia-0.4"
  },
  "language_info": {
   "file_extension": ".jl",
   "mimetype": "application/julia",
   "name": "julia",
   "version": "0.4.5"
  }
 },
 "nbformat": 4,
 "nbformat_minor": 0
}
