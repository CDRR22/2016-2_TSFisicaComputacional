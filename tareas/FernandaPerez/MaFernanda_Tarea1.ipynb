{
 "cells": [
  {
   "cell_type": "markdown",
   "metadata": {},
   "source": [
    "___\n",
    " # Tarea 1\n",
    "\n",
    "\n",
    ">Implementen en julia una función que devuelva las raíces de una ecuación de segundo grado general con coeficientes reales. La función debe ser estable según el tipo (type-stable), lo que significa que el tipo del resultado sólamente depende del tipo de las entradas. Muestren en el notebook con algunos ejemplos (escogidos de manera adecuada) que la función implementada da resultados correctos.\n",
    "\n",
    ">La función debe estar documentada de manera apropiada, lo que significa que, al correr el Jupyter notebook y desde ahí, tecleando:\n",
    "\n",
    "```julia\n",
    "         ? nombre_funcion\n",
    "```\n",
    "___"
   ]
  },
  {
   "cell_type": "markdown",
   "metadata": {},
   "source": [
    "La función *raices* recibe como entradas los coeficientes a, b y c de un polinomio de grado dos. Para garantizar la estabilidad\n",
    "del tipo,calcula el discriminante $b^2 - 4ac$ y se sale en caso de ser negativo y existir\n",
    "raíces complejas.\n",
    "\n",
    "También, demanda que las entradas sean de punto flotante para que la salida corresponda siempre al mismo tipo.\n",
    "Si las condiciones anteriores se cumplen, calcula las raíces reales con la *fórmula general de segundo grado*,\n",
    "también conocida como *La Chicharronera*:\n",
    "\n",
    "$$ b_{1,2} = \\frac{ -b \\pm \\sqrt(b^2 - 4ac)}{2a} $$\n",
    "\n",
    "Si en las entradas introducidas, el coeficiente cuadrático $a=0$, no se trata de un polinomio de grado 2 y la función\n",
    "arrojará un error."
   ]
  },
  {
   "cell_type": "code",
   "execution_count": 1,
   "metadata": {
    "collapsed": false
   },
   "outputs": [
    {
     "data": {
      "text/plain": [
       "raices (generic function with 1 method)"
      ]
     },
     "execution_count": 1,
     "metadata": {},
     "output_type": "execute_result"
    }
   ],
   "source": [
    "\"\"\"\n",
    "La función *raices* recibe como entradas los coeficientes a, b y c de un polinomio de grado dos. Para garantizar la estabilidad\n",
    "del tipo,calcula el discriminante 'b^2 - 4ac' y se sale en caso de ser negativo y existir\n",
    "raíces complejas.\n",
    "\n",
    "También, demanda que las entradas sean de punto flotante para que la salida corresponda siempre al mismo tipo.\n",
    "Si las condiciones anteriores se cumplen, calcula las raíces reales con la *fórmula general de segundo grado*,\n",
    "también conocida como *La Chicharronera*.\n",
    "\n",
    "Si en las entradas introducidas, el coeficiente cuadrático `a=0`, no se trata de un polinomio de grado 2 y la función\n",
    "arrojará un error.\n",
    "\n",
    "*Uso recomendado* :\n",
    "\n",
    "```julia\n",
    "       raices (Float64 a, Float64 b, Float64 c)\n",
    "``` \n",
    "\"\"\"\n",
    "function raices(a,b,c)\n",
    "    #corrobora que efectivamente sea un polinomio de grado 2\n",
    "    grado_ok = a != 0 && a != 0.0\n",
    "    grado_ok ? nothing : println(\"Este no es un polinomio de grado 2.\")\n",
    "    # Corrobora que las entradas sean de tipo Float64.\n",
    "    entradas_ok = (typeof(a) == Float64 &&  typeof(b) == Float64 &&   typeof(c) == Float64)\n",
    "    entradas_ok ? nothing : println(\"Introduce coeficientes de punto flotante, por favor.\")\n",
    "    # Calcula el valor del Discriminante.\n",
    "    dis = b^2 - (4*a*c)\n",
    "    str = \"El discriminante es menor a cero, este metodo no funciona.\"\n",
    "    dis < 0 ? println(str) : nothing\n",
    "    if (grado_ok && dis >= 0 && entradas_ok)\n",
    "   \n",
    "        \n",
    "        rdis = sqrt(dis)\n",
    "        b1 = (-b + rdis )/(2*a)\n",
    "        b2 = (-b - rdis )/(2*a)\n",
    "        \n",
    "        return (b1, b2)\n",
    "    end\n",
    "end"
   ]
  },
  {
   "cell_type": "markdown",
   "metadata": {},
   "source": [
    "Corroborando la instrucción:\n",
    "```julia \n",
    "? raices \n",
    "```"
   ]
  },
  {
   "cell_type": "code",
   "execution_count": 2,
   "metadata": {
    "collapsed": false
   },
   "outputs": [
    {
     "name": "stdout",
     "output_type": "stream",
     "text": [
      "search: "
     ]
    },
    {
     "data": {
      "text/html": [
       "<div class=\"markdown\"><p>La función <em>raices</em> recibe como entradas los coeficientes a, b y c de un polinomio de grado dos. Para garantizar la estabilidad del tipo,calcula el discriminante &#39;b^2 - 4ac&#39; y se sale en caso de ser negativo y existir raíces complejas.</p>\n",
       "<p>También, demanda que las entradas sean de punto flotante para que la salida corresponda siempre al mismo tipo. Si las condiciones anteriores se cumplen, calcula las raíces reales con la <em>fórmula general de segundo grado</em>, también conocida como <em>La Chicharronera</em>.</p>\n",
       "<p>Si en las entradas introducidas, el coeficiente cuadrático <code>a&#61;0</code>, no se trata de un polinomio de grado 2 y la función arrojará un error.</p>\n",
       "<p><em>Uso recomendado</em> :</p>\n",
       "<pre><code class=\"language-julia\">       raices &#40;Float64 a, Float64 b, Float64 c&#41;</code></pre>\n",
       "\n",
       "</div>"
      ],
      "text/latex": [
       "La función \\emph{raices} recibe como entradas los coeficientes a, b y c de un polinomio de grado dos. Para garantizar la estabilidad del tipo,calcula el discriminante 'b\\^{}2 - 4ac' y se sale en caso de ser negativo y existir raíces complejas.\n",
       "También, demanda que las entradas sean de punto flotante para que la salida corresponda siempre al mismo tipo. Si las condiciones anteriores se cumplen, calcula las raíces reales con la \\emph{fórmula general de segundo grado}, también conocida como \\emph{La Chicharronera}.\n",
       "Si en las entradas introducidas, el coeficiente cuadrático \\texttt{a=0}, no se trata de un polinomio de grado 2 y la función arrojará un error.\n",
       "\\emph{Uso recomendado} :\n",
       "\\begin{verbatim}\n",
       "       raices (Float64 a, Float64 b, Float64 c)\n",
       "\\end{verbatim}\n"
      ],
      "text/plain": [
       "La función *raices* recibe como entradas los coeficientes a, b y c de un polinomio de grado dos. Para garantizar la estabilidad del tipo,calcula el discriminante 'b^2 - 4ac' y se sale en caso de ser negativo y existir raíces complejas.\n",
       "\n",
       "También, demanda que las entradas sean de punto flotante para que la salida corresponda siempre al mismo tipo. Si las condiciones anteriores se cumplen, calcula las raíces reales con la *fórmula general de segundo grado*, también conocida como *La Chicharronera*.\n",
       "\n",
       "Si en las entradas introducidas, el coeficiente cuadrático `a=0`, no se trata de un polinomio de grado 2 y la función arrojará un error.\n",
       "\n",
       "*Uso recomendado* :\n",
       "\n",
       "```julia\n",
       "       raices (Float64 a, Float64 b, Float64 c)\n",
       "```\n"
      ]
     },
     "execution_count": 2,
     "metadata": {},
     "output_type": "execute_result"
    },
    {
     "name": "stdout",
     "output_type": "stream",
     "text": [
      "raices RandomDevice\n",
      "\n"
     ]
    }
   ],
   "source": [
    "? raices"
   ]
  },
  {
   "cell_type": "markdown",
   "metadata": {},
   "source": [
    "Sí obtenemos información.\n",
    "Vamos a probar nuestra función con dos polinomios bastante característicos:\n",
    "\n",
    "- $x^2 + 3x + 2 = 0$ con coeficientes $a = 1, b = 3$ y $c = 2$.\n",
    "- $x^2 + x + 1 = 0 $ con coeficientes $a = 1, b = 1$ y $c = 1$.\n",
    "\n",
    "Introducimos:\n",
    "```julia\n",
    "raices(1,3,2)\n",
    "```\n",
    "Y..."
   ]
  },
  {
   "cell_type": "code",
   "execution_count": 3,
   "metadata": {
    "collapsed": false
   },
   "outputs": [
    {
     "name": "stdout",
     "output_type": "stream",
     "text": [
      "Introduce coeficientes de punto flotante, por favor.\n"
     ]
    }
   ],
   "source": [
    "raices(1,3,2)"
   ]
  },
  {
   "cell_type": "markdown",
   "metadata": {},
   "source": [
    "__Upsis!__... Nos olvidamos que las entradas deben ser números flotantes `Float64`."
   ]
  },
  {
   "cell_type": "code",
   "execution_count": 4,
   "metadata": {
    "collapsed": false
   },
   "outputs": [
    {
     "data": {
      "text/plain": [
       "(-1.0,-2.0)"
      ]
     },
     "execution_count": 4,
     "metadata": {},
     "output_type": "execute_result"
    }
   ],
   "source": [
    "raices(1.0,3.0,2.0)"
   ]
  },
  {
   "cell_type": "markdown",
   "metadata": {},
   "source": [
    "Y sí... sí funciona. Nos damos cuenta cuando reconocemos que el polinomio $x^2 + 3x + 2 = 0$ tiene representación $(x+1)(x+2)$.\n",
    "Ahora probamos con el otro..."
   ]
  },
  {
   "cell_type": "code",
   "execution_count": 5,
   "metadata": {
    "collapsed": false
   },
   "outputs": [
    {
     "name": "stdout",
     "output_type": "stream",
     "text": [
      "El discriminante es menor a cero, este metodo no funciona.\n"
     ]
    }
   ],
   "source": [
    "raices(1.0, 1.0, 1.0)"
   ]
  },
  {
   "cell_type": "markdown",
   "metadata": {},
   "source": [
    "No. La función se niega a continuar porque se rehúsa a devolver números complejos. Además, el método de la raíz cuadrada sólo admite numeros reales...\n",
    "Y éste es un primer intento de construir una función que garantice la estabilidad de tipo."
   ]
  },
  {
   "cell_type": "markdown",
   "metadata": {},
   "source": [
    "Si consideramos la función $x^2 = 0$, tendremos que $b^2 - 4ac = 0$. Probando nuestra función `raices`:"
   ]
  },
  {
   "cell_type": "code",
   "execution_count": 6,
   "metadata": {
    "collapsed": false
   },
   "outputs": [
    {
     "data": {
      "text/plain": [
       "(0.0,-0.0)"
      ]
     },
     "execution_count": 6,
     "metadata": {},
     "output_type": "execute_result"
    }
   ],
   "source": [
    "raices(1.0,0.0,0.0)"
   ]
  },
  {
   "cell_type": "markdown",
   "metadata": {},
   "source": [
    "Ya da el resultado que nos gustaría.\n",
    "\n",
    "¿Qué pasa si, por error, no introducimos un *polinomio de orden 2*, es decir, si $a = 0$?\n",
    "Cuando esto ocurre, la función *chicharronera* truena. Aunque el discriminante _no_ es cero, no podemos dividir entre $2a$.\n",
    "\n",
    "Probemos con:\n",
    "$$ 3x + 2 = 0$$\n"
   ]
  },
  {
   "cell_type": "code",
   "execution_count": 7,
   "metadata": {
    "collapsed": false
   },
   "outputs": [
    {
     "name": "stdout",
     "output_type": "stream",
     "text": [
      "Este no es un polinomio de grado 2.\n",
      "Introduce coeficientes de punto flotante, por favor.\n"
     ]
    }
   ],
   "source": [
    "raices(0, 3, 2)"
   ]
  },
  {
   "cell_type": "markdown",
   "metadata": {},
   "source": [
    "__ups__! Doble error: nos dice que las entradas no son de punto flotante y que, además, no metimos una función cuadrática.\n",
    "\n",
    "Tratemos de corregir al menos uno y probar:\n",
    "```julia\n",
    "raices(0.0, 3.0, 2.0)\n",
    "```"
   ]
  },
  {
   "cell_type": "code",
   "execution_count": 8,
   "metadata": {
    "collapsed": false
   },
   "outputs": [
    {
     "name": "stdout",
     "output_type": "stream",
     "text": [
      "Este no es un polinomio de grado 2.\n"
     ]
    }
   ],
   "source": [
    "raices(0.0,3.0,2.0)"
   ]
  },
  {
   "cell_type": "markdown",
   "metadata": {},
   "source": [
    "... y no nos dice nada que no supiéramos. Esta opción trata de *salvarnos* en el caso en que, por error, introduzcamos un valor de $a$ que haga que el cociente explote."
   ]
  }
 ],
 "metadata": {
  "kernelspec": {
   "display_name": "Julia 0.4.0-dev",
   "language": "julia",
   "name": "julia-0.4"
  },
  "language_info": {
   "name": "julia",
   "version": "0.4.0"
  }
 },
 "nbformat": 4,
 "nbformat_minor": 0
}
