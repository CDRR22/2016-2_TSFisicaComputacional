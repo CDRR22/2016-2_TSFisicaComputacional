{
 "cells": [
  {
   "cell_type": "markdown",
   "metadata": {},
   "source": [
    "> ## 1. Histogramas\n",
    "\n",
    "> Usando la función `randn`, generen $N$ valores tipo `Float64` al azar ($N\\sim 10000$, o mayor, es razonable). Construyan la función `histograma`, que regresa un vector de tamaño $n_{hist}$ (que es un argumento de la función) y que contiene el histograma de frecuencias *sin normalizar*. Esto es, la primer componente del vector corresponde al número de valores generados al azar que caen en el intervalo (llamado *bin* en inglés) $[x_0, x_1)$, los de la segunda componente caen en el intervalo $[x_1, x_2)$, etc, hasta $[x_{n_{hist}-1}, x{n_{hist}})$, donde el tamaño de los intervalos es el mismo y corresponde a $\\Delta x = (\\textrm{sup}(x)-\\textrm{inf}(x))/n_{hist}$. (No escatimen en estética.)\n",
    "> \n",
    "> Dibujen el histograma a partir de sus datos.\n",
    "> \n",
    "> PyPlot (matplotlib) de hecho tiene [una función]() útil para dibujar histogramas a partir de los datos directamente. Utilizando esa función, muestren el histograma de sus datos. Debería ser muy parecida a la que ya obtuvieron antes.\n",
    "\n",
    "> NOTA: Hay esencialmente dos formas de hacerlo, que se distinguen por el número de veces que uno lee los datos. Traten de hacer su implementación usando *una* lectura de los datos. (Si no pueden, llevarán sobre sus hombros esa carga toda su vida.)"
   ]
  },
  {
   "cell_type": "markdown",
   "metadata": {
    "collapsed": false
   },
   "source": [
    "Definimos la función histograma que ya hace magia de implementar un sólo ciclo.\n",
    "Calcula el parámetro:\n",
    "$$ \\delta = d_k - b_{min}$$\n",
    "Si $h$ es el tamaño del bin definido como: \n",
    "$$ h = \\frac{b_{max} - b_{min}}{N_{bins}} $$\n",
    "Y $d_k \\in H$, siendo $H$ el conjunto de datos a utilizar.\n",
    "Tendremos entonces, dividiendo por $h$ en la primera expresión:\n",
    "$$ \\frac{\\delta}{h} = N_{bins} \\left( \\frac{d_k - b_{min}}{b_{max} - b_{min}}    \\right) $$\n",
    "Donde hemos asumido que hemos hecho $N_{bins}$ subintervalos regulares $\\{ N_j \\}$.\n",
    "\n",
    "Como $\\frac{\\delta}{h}$ nos dice _cuántos_ subintervalos de longitud $h$ caben en la distancia $\\delta$:\n",
    "$$ \\frac{\\delta}{h} \\approx j$$\n",
    "Tomando el ___entero mayor más próximo___ (yo hice esto solo por comodidad, por cómo comienza a contar mi función el índice de los histogramas, tomando el límite superior como referencia.) Tendremos: \n",
    "\n",
    "$$ j = \\lfloor \\frac{\\delta}{h}     \\rfloor $$\n",
    "$$ j = \\lfloor N_{bins} \\left( \\frac{d_k - b_{min}}{b_{max} - b_{min}}    \\right)     \\rfloor $$"
   ]
  },
  {
   "cell_type": "code",
   "execution_count": 21,
   "metadata": {
    "collapsed": false
   },
   "outputs": [],
   "source": [
    "using PyPlot"
   ]
  },
  {
   "cell_type": "code",
   "execution_count": 42,
   "metadata": {
    "collapsed": false
   },
   "outputs": [
    {
     "data": {
      "text/plain": [
       "histograma (generic function with 2 methods)"
      ]
     },
     "execution_count": 42,
     "metadata": {},
     "output_type": "execute_result"
    }
   ],
   "source": [
    "\"\"\"\n",
    "```\n",
    "histograma(data::Array{T<:Real, 1}, N::Int64, graficar::Bool)\n",
    "``` \\n\n",
    "\n",
    "Calcula el tamaño del bin tomando en cuenta el valor minimo y maximo del arreglo y devuelve un arreglo de `Int64`\n",
    "con la misma longitud de `N`.\n",
    "\n",
    "- `data`: Datos de entrada en forma de un arreglo.\n",
    "- `N`: Numero deseado de bins.\n",
    "- `graficar`: la posición en True hace que histograma haga la grafica.\n",
    "\"\"\"\n",
    "function histograma{T<:Real}(data::Array{T, 1}, N::Int64, graficar::Bool=false)\n",
    "    b_max =maximum(data)\n",
    "    b_min = minimum(data)\n",
    "    b_size = (b_max - b_min)/N\n",
    "    \n",
    "    Interval = linspace(b_min, b_max, N+1)      # generado para poder graficar.\n",
    "    c = zeros(Int64, N+1)                       # El arreglo guarda N+1 elementos previniendo que necesitamos \n",
    "                                                # un indice extra para generar N subintervalos.\n",
    "      \n",
    "    for dat in data                             # el primer elemento es un problema, no se por que.\n",
    "        δ= (N*(dat - b_min)/(b_max - b_min))    #Sumo este uno por comodidad, los indices comienzan todos en uno.\n",
    "        index = convert(Int64, floor(δ))+1\n",
    "        #println(dat, \" \",δ, \" \", index)\n",
    "        c[index] += 1\n",
    "        \n",
    "        \n",
    "    end\n",
    "    \n",
    "    graficar && bar(Interval, c, b_size, color=\"hotpink\")\n",
    "    \n",
    "\n",
    "    return c[1:N-1]                             # yo ingore el ultimo bin para devolver algo de longitud b.\n",
    "end"
   ]
  },
  {
   "cell_type": "markdown",
   "metadata": {},
   "source": [
    "Comprobamos que nuestra documentacion funcnione:"
   ]
  },
  {
   "cell_type": "code",
   "execution_count": 43,
   "metadata": {
    "collapsed": false
   },
   "outputs": [
    {
     "name": "stdout",
     "output_type": "stream",
     "text": [
      "search: "
     ]
    },
    {
     "data": {
      "text/latex": [
       "\\begin{verbatim}\n",
       "histograma(data::Array{T<:Real, 1}, N::Int64, graficar::Bool)\n",
       "\\end{verbatim}\n",
       "Calcula el tamaño del bin tomando en cuenta el valor minimo y maximo del arreglo y devuelve un arreglo de \\texttt{Int64} con la misma longitud de \\texttt{N}.\n",
       "\\begin{itemize}\n",
       "\\item \\texttt{data}: Datos de entrada en forma de un arreglo.\n",
       "\\item \\texttt{N}: Numero deseado de bins.\n",
       "\\item \\texttt{graficar}: la posición en True hace que histograma haga la grafica.\n",
       "\\end{itemize}\n"
      ],
      "text/markdown": [
       "```\n",
       "histograma(data::Array{T<:Real, 1}, N::Int64, graficar::Bool)\n",
       "```\n",
       "\n",
       "Calcula el tamaño del bin tomando en cuenta el valor minimo y maximo del arreglo y devuelve un arreglo de `Int64` con la misma longitud de `N`.\n",
       "\n",
       "  * `data`: Datos de entrada en forma de un arreglo.\n",
       "  * `N`: Numero deseado de bins.\n",
       "  * `graficar`: la posición en True hace que histograma haga la grafica.\n"
      ],
      "text/plain": [
       "```\n",
       "histograma(data::Array{T<:Real, 1}, N::Int64, graficar::Bool)\n",
       "```\n",
       "\n",
       "Calcula el tamaño del bin tomando en cuenta el valor minimo y maximo del arreglo y devuelve un arreglo de `Int64` con la misma longitud de `N`.\n",
       "\n",
       "  * `data`: Datos de entrada en forma de un arreglo.\n",
       "  * `N`: Numero deseado de bins.\n",
       "  * `graficar`: la posición en True hace que histograma haga la grafica.\n"
      ]
     },
     "execution_count": 43,
     "metadata": {},
     "output_type": "execute_result"
    },
    {
     "name": "stdout",
     "output_type": "stream",
     "text": [
      "histograma\n",
      "\n"
     ]
    }
   ],
   "source": [
    "? histograma"
   ]
  },
  {
   "cell_type": "markdown",
   "metadata": {},
   "source": [
    "Definimos nuestro conjunto de valores aleatorios y nuestro numero de bins... yo voy a poner 100, nada más."
   ]
  },
  {
   "cell_type": "code",
   "execution_count": 44,
   "metadata": {
    "collapsed": false
   },
   "outputs": [
    {
     "data": {
      "text/plain": [
       "100"
      ]
     },
     "execution_count": 44,
     "metadata": {},
     "output_type": "execute_result"
    }
   ],
   "source": [
    "R = rand(100000)   #Este tiene 100 000\n",
    "N = 100"
   ]
  },
  {
   "cell_type": "markdown",
   "metadata": {},
   "source": [
    "Finalmente probamos..."
   ]
  },
  {
   "cell_type": "code",
   "execution_count": 45,
   "metadata": {
    "collapsed": false
   },
   "outputs": [
    {
     "data": {
      "image/png": "[encoded data removed]",
      "text/plain": [
       "PyPlot.Figure(PyObject <matplotlib.figure.Figure object at 0x31b7a4910>)"
      ]
     },
     "metadata": {},
     "output_type": "display_data"
    },
    {
     "data": {
      "text/plain": [
       "99-element Array{Int64,1}:\n",
       "  991\n",
       " 1019\n",
       "  985\n",
       "  994\n",
       " 1034\n",
       "  977\n",
       " 1021\n",
       "  995\n",
       "  940\n",
       "  976\n",
       "  959\n",
       " 1060\n",
       " 1013\n",
       "    ⋮\n",
       "  977\n",
       "  974\n",
       " 1016\n",
       " 1056\n",
       " 1045\n",
       "  996\n",
       " 1043\n",
       " 1036\n",
       "  979\n",
       " 1029\n",
       " 1045\n",
       "  982"
      ]
     },
     "execution_count": 45,
     "metadata": {},
     "output_type": "execute_result"
    }
   ],
   "source": [
    "H = histograma(R,N, true)"
   ]
  },
  {
   "cell_type": "markdown",
   "metadata": {},
   "source": [
    "Lo intentamos ahora con la funcion de pyplot, que está bien rara."
   ]
  },
  {
   "cell_type": "code",
   "execution_count": 32,
   "metadata": {
    "collapsed": false
   },
   "outputs": [
    {
     "data": {
      "image/png": "[encoded data removed]",
      "text/plain": [
       "PyPlot.Figure(PyObject <matplotlib.figure.Figure object at 0x31abd5310>)"
      ]
     },
     "metadata": {},
     "output_type": "display_data"
    },
    {
     "data": {
      "text/plain": [
       "([983.0,993.0,979.0,957.0,973.0,1018.0,995.0,939.0,996.0,965.0  …  1022.0,996.0,999.0,987.0,1010.0,1054.0,1007.0,1017.0,1001.0,1003.0],[3.2542e-6,0.0100032,0.0200031,0.0300031,0.040003,0.050003,0.0600029,0.0700029,0.0800028,0.0900028  …  0.909998,0.919998,0.929998,0.939998,0.949998,0.959998,0.969998,0.979998,0.989998,0.999998],Any[PyObject <matplotlib.patches.Rectangle object at 0x31ad995d0>,PyObject <matplotlib.patches.Rectangle object at 0x31ad99e10>,PyObject <matplotlib.patches.Rectangle object at 0x31ada0790>,PyObject <matplotlib.patches.Rectangle object at 0x31ada5150>,PyObject <matplotlib.patches.Rectangle object at 0x31ada5b10>,PyObject <matplotlib.patches.Rectangle object at 0x31adaa490>,PyObject <matplotlib.patches.Rectangle object at 0x31adaae50>,PyObject <matplotlib.patches.Rectangle object at 0x31adaf7d0>,PyObject <matplotlib.patches.Rectangle object at 0x31adb4190>,PyObject <matplotlib.patches.Rectangle object at 0x31adb4b50>  …  PyObject <matplotlib.patches.Rectangle object at 0x31aed6f90>,PyObject <matplotlib.patches.Rectangle object at 0x31aedba90>,PyObject <matplotlib.patches.Rectangle object at 0x31aee2410>,PyObject <matplotlib.patches.Rectangle object at 0x31aee2dd0>,PyObject <matplotlib.patches.Rectangle object at 0x31aee7750>,PyObject <matplotlib.patches.Rectangle object at 0x31aee7fd0>,PyObject <matplotlib.patches.Rectangle object at 0x31aeedad0>,PyObject <matplotlib.patches.Rectangle object at 0x31aef3450>,PyObject <matplotlib.patches.Rectangle object at 0x31aef3e10>,PyObject <matplotlib.patches.Rectangle object at 0x31aef9790>])"
      ]
     },
     "execution_count": 32,
     "metadata": {},
     "output_type": "execute_result"
    }
   ],
   "source": [
    "p = plt[:hist](R, N, color=\"pink\") #No se que es toda esa basura en la salida."
   ]
  },
  {
   "cell_type": "markdown",
   "metadata": {},
   "source": [
    "Por curiosidad podemos ejecutar el macro `@time`para ver que onda con ambas funciones:\n",
    "\n",
    "\n"
   ]
  },
  {
   "cell_type": "code",
   "execution_count": 41,
   "metadata": {
    "collapsed": false
   },
   "outputs": [
    {
     "name": "stdout",
     "output_type": "stream",
     "text": [
      "  "
     ]
    },
    {
     "data": {
      "image/png": "[encoded data removed]",
      "text/plain": [
       "PyPlot.Figure(PyObject <matplotlib.figure.Figure object at 0x31abf7450>)"
      ]
     },
     "metadata": {},
     "output_type": "display_data"
    },
    {
     "data": {
      "text/plain": [
       "99-element Array{Int64,1}:\n",
       "  983\n",
       "  993\n",
       "  979\n",
       "  957\n",
       "  973\n",
       " 1018\n",
       "  995\n",
       "  939\n",
       "  996\n",
       "  965\n",
       " 1063\n",
       "  966\n",
       "  967\n",
       "    ⋮\n",
       " 1044\n",
       "  985\n",
       " 1026\n",
       " 1022\n",
       "  996\n",
       "  999\n",
       "  987\n",
       " 1010\n",
       " 1054\n",
       " 1007\n",
       " 1017\n",
       " 1001"
      ]
     },
     "execution_count": 41,
     "metadata": {},
     "output_type": "execute_result"
    },
    {
     "name": "stdout",
     "output_type": "stream",
     "text": [
      "0.136718 seconds (1.33 k allocations: 37.266 KB)\n"
     ]
    }
   ],
   "source": [
    "@time histograma(R,N, true)"
   ]
  },
  {
   "cell_type": "code",
   "execution_count": 39,
   "metadata": {
    "collapsed": false
   },
   "outputs": [
    {
     "name": "stdout",
     "output_type": "stream",
     "text": [
      "  "
     ]
    },
    {
     "data": {
      "image/png": "[encoded data removed]",
      "text/plain": [
       "PyPlot.Figure(PyObject <matplotlib.figure.Figure object at 0x31abf73d0>)"
      ]
     },
     "metadata": {},
     "output_type": "display_data"
    },
    {
     "data": {
      "text/plain": [
       "([983.0,993.0,979.0,957.0,973.0,1018.0,995.0,939.0,996.0,965.0  …  1022.0,996.0,999.0,987.0,1010.0,1054.0,1007.0,1017.0,1001.0,1003.0],[3.2542e-6,0.0100032,0.0200031,0.0300031,0.040003,0.050003,0.0600029,0.0700029,0.0800028,0.0900028  …  0.909998,0.919998,0.929998,0.939998,0.949998,0.959998,0.969998,0.979998,0.989998,0.999998],Any[PyObject <matplotlib.patches.Rectangle object at 0x31b427e10>,PyObject <matplotlib.patches.Rectangle object at 0x31b42f690>,PyObject <matplotlib.patches.Rectangle object at 0x31b42fad0>,PyObject <matplotlib.patches.Rectangle object at 0x31b4339d0>,PyObject <matplotlib.patches.Rectangle object at 0x31b439350>,PyObject <matplotlib.patches.Rectangle object at 0x31b439d10>,PyObject <matplotlib.patches.Rectangle object at 0x31b43f690>,PyObject <matplotlib.patches.Rectangle object at 0x31b43ff10>,PyObject <matplotlib.patches.Rectangle object at 0x31b445a10>,PyObject <matplotlib.patches.Rectangle object at 0x31b44a390>  …  PyObject <matplotlib.patches.Rectangle object at 0x31b569950>,PyObject <matplotlib.patches.Rectangle object at 0x31b5702d0>,PyObject <matplotlib.patches.Rectangle object at 0x31b570c90>,PyObject <matplotlib.patches.Rectangle object at 0x31b575610>,PyObject <matplotlib.patches.Rectangle object at 0x31b575fd0>,PyObject <matplotlib.patches.Rectangle object at 0x31b57b990>,PyObject <matplotlib.patches.Rectangle object at 0x31b580310>,PyObject <matplotlib.patches.Rectangle object at 0x31b580cd0>,PyObject <matplotlib.patches.Rectangle object at 0x31b589650>,PyObject <matplotlib.patches.Rectangle object at 0x31b589ad0>])"
      ]
     },
     "execution_count": 39,
     "metadata": {},
     "output_type": "execute_result"
    },
    {
     "name": "stdout",
     "output_type": "stream",
     "text": [
      "0.132239 seconds (816 allocations: 20.922 KB)\n"
     ]
    }
   ],
   "source": [
    "@time plt[:hist](R, N, color=\"pink\")\n"
   ]
  },
  {
   "cell_type": "markdown",
   "metadata": {},
   "source": [
    "Y bueno, para nuestra función da `0.136718 seconds (1.33 k allocations: 37.266 KB)` y para la de pyplot `0.132239 seconds (816 allocations: 20.922 KB)`. Vemos que ahí se andan dando."
   ]
  },
  {
   "cell_type": "markdown",
   "metadata": {},
   "source": [
    ">## 2. Promedio y varianza\n",
    "\n",
    ">(a) Siguiendo con la generación de datos del ejercicio anterior, hagan una subrutina que calcule el promedio y la varianza de los datos generados anteriormente. Comparen su resultado con lo que se obtiene al utilizar `mean` y `var` (que son las funciones nativas de julia que hacen eso).\n",
    "    \n",
    ">(b) Existe un [algoritmo recursivo](https://en.wikipedia.org/wiki/Algorithms_for_calculating_variance#Online_algorithm), ampliamente desconocido, que permite calcular el promedio y la varianza con una sóla lectura de los datos. Impleméntenlo. La *misma* función debería de darles *ambos* valores.\n",
    "    \n",
    ">(c) ¿Cuál de todos los algoritmos es el más rápido? Consideren esto para datos de distinta longitud, cubriendo varios órdenes de magnitud."
   ]
  },
  {
   "cell_type": "markdown",
   "metadata": {},
   "source": [
    "### (A) \n",
    "construimos las dos funciones que necesitamos."
   ]
  },
  {
   "cell_type": "code",
   "execution_count": 51,
   "metadata": {
    "collapsed": false
   },
   "outputs": [
    {
     "data": {
      "text/plain": [
       "varianza_a (generic function with 1 method)"
      ]
     },
     "execution_count": 51,
     "metadata": {},
     "output_type": "execute_result"
    }
   ],
   "source": [
    "function promedio(data)\n",
    "    n = length(data)\n",
    "    p = 0.0\n",
    "    \n",
    "    for dat in data\n",
    "        p += dat\n",
    "    end\n",
    "    return p/n\n",
    "end\n",
    "\n",
    "function varianza_a(data)\n",
    "    n = length(data)\n",
    "    s = 0.0\n",
    "    P = promedio(data)\n",
    "    \n",
    "    for dat in data\n",
    "        s += (dat - P)^2\n",
    "    end\n",
    "    return (s /(n-1))\n",
    "end\n",
    "    "
   ]
  },
  {
   "cell_type": "markdown",
   "metadata": {},
   "source": [
    "Las probamos:"
   ]
  },
  {
   "cell_type": "code",
   "execution_count": 49,
   "metadata": {
    "collapsed": false
   },
   "outputs": [
    {
     "data": {
      "text/plain": [
       "10-element Array{Float64,1}:\n",
       " 0.579244 \n",
       " 0.307847 \n",
       " 0.583242 \n",
       " 0.622852 \n",
       " 0.619379 \n",
       " 0.306397 \n",
       " 0.017404 \n",
       " 0.0576257\n",
       " 0.0195486\n",
       " 0.884606 "
      ]
     },
     "execution_count": 49,
     "metadata": {},
     "output_type": "execute_result"
    }
   ],
   "source": [
    "Prueba = rand(10)"
   ]
  },
  {
   "cell_type": "code",
   "execution_count": 53,
   "metadata": {
    "collapsed": false
   },
   "outputs": [
    {
     "data": {
      "text/plain": [
       "0.3998145925794292"
      ]
     },
     "execution_count": 53,
     "metadata": {},
     "output_type": "execute_result"
    }
   ],
   "source": [
    "prom = promedio(Prueba)"
   ]
  },
  {
   "cell_type": "code",
   "execution_count": 55,
   "metadata": {
    "collapsed": false
   },
   "outputs": [
    {
     "data": {
      "text/plain": [
       "0.09154846596901595"
      ]
     },
     "execution_count": 55,
     "metadata": {},
     "output_type": "execute_result"
    }
   ],
   "source": [
    "vari = varianza_a(Prueba)"
   ]
  },
  {
   "cell_type": "markdown",
   "metadata": {},
   "source": [
    "Veamos que dan las funciones internas:"
   ]
  },
  {
   "cell_type": "code",
   "execution_count": 60,
   "metadata": {
    "collapsed": false
   },
   "outputs": [
    {
     "data": {
      "text/plain": [
       "true"
      ]
     },
     "execution_count": 60,
     "metadata": {},
     "output_type": "execute_result"
    }
   ],
   "source": [
    "prom == mean(Prueba)"
   ]
  },
  {
   "cell_type": "code",
   "execution_count": 62,
   "metadata": {
    "collapsed": false
   },
   "outputs": [
    {
     "data": {
      "text/plain": [
       "true"
      ]
     },
     "execution_count": 62,
     "metadata": {},
     "output_type": "execute_result"
    }
   ],
   "source": [
    "vari == var(Prueba)"
   ]
  },
  {
   "cell_type": "markdown",
   "metadata": {},
   "source": [
    "Vaya! da lo mismo..."
   ]
  },
  {
   "cell_type": "markdown",
   "metadata": {},
   "source": [
    "### (B)\n",
    "\n",
    "Buscando por ahí, hallé una entrada de Wikipedia que podía servir. La dejo aquí [Aquí](https://en.wikipedia.org/wiki/Algorithms_for_calculating_variance \"Wikipedia: algoritmos para la varianza\").\n",
    "\n",
    "Llaman al método *Online Method*, citando el libro de Donald E. Knuth, _The Art of Computer Programming_ , de 1998."
   ]
  },
  {
   "cell_type": "code",
   "execution_count": 78,
   "metadata": {
    "collapsed": false
   },
   "outputs": [
    {
     "data": {
      "text/plain": [
       "varianza_b (generic function with 1 method)"
      ]
     },
     "execution_count": 78,
     "metadata": {},
     "output_type": "execute_result"
    }
   ],
   "source": [
    "\"\"\"\n",
    "Recibe un arreglo y devuelve una tupla:\n",
    "```\n",
    "(varianza, promedio)\n",
    "\n",
    "```\n",
    "\n",
    "\"\"\"\n",
    "function varianza_b(data)\n",
    "    n = 0\n",
    "    promedio = 0.0\n",
    "    M2 = 0.0\n",
    "    \n",
    "    for x in data                   #solo hacemos un ciclo y es recursivo!\n",
    "        n += 1\n",
    "        delta = x - promedio\n",
    "        promedio += delta/n\n",
    "        M2 += delta*(x - promedio)\n",
    "        #println(M2 / (n - 1), \" \", promedio)\n",
    "    end\n",
    "    \n",
    "    if (n < 2)                     #verificamos que almenos haya dos datos... si eso no pasa... tendremos problemas.\n",
    "        return (NaN, promedio)     #no corto con un error porque el promedio no tiene broncas aqui\n",
    "    else\n",
    "        return ((M2 / (n - 1)), promedio)\n",
    "    end\n",
    "    \n",
    "end\n",
    "    \n",
    "    "
   ]
  },
  {
   "cell_type": "markdown",
   "metadata": {},
   "source": [
    "Ahora vamos a probar con algunos conjuntos de diferentes órdenes de magnitud:"
   ]
  },
  {
   "cell_type": "code",
   "execution_count": 68,
   "metadata": {
    "collapsed": false
   },
   "outputs": [
    {
     "data": {
      "text/plain": [
       "1000000-element Array{Float64,1}:\n",
       " 0.503866  \n",
       " 0.139657  \n",
       " 0.0837269 \n",
       " 0.685847  \n",
       " 0.858579  \n",
       " 0.809059  \n",
       " 0.134371  \n",
       " 0.672111  \n",
       " 0.230173  \n",
       " 0.0857119 \n",
       " 0.00864917\n",
       " 0.150434  \n",
       " 0.654203  \n",
       " ⋮         \n",
       " 0.28057   \n",
       " 0.451508  \n",
       " 0.376949  \n",
       " 0.979176  \n",
       " 0.117557  \n",
       " 0.113801  \n",
       " 0.188805  \n",
       " 0.869673  \n",
       " 0.433665  \n",
       " 0.666842  \n",
       " 0.169774  \n",
       " 0.225286  "
      ]
     },
     "execution_count": 68,
     "metadata": {},
     "output_type": "execute_result"
    }
   ],
   "source": [
    "Grande = rand(1000)\n",
    "MuyGrande = rand(10000)\n",
    "SuperGrande = rand(100000)\n",
    "Inmenso = rand(1000000)"
   ]
  },
  {
   "cell_type": "code",
   "execution_count": 79,
   "metadata": {
    "collapsed": false
   },
   "outputs": [
    {
     "data": {
      "text/plain": [
       "(0.08337560408814668,0.4998472501033501)"
      ]
     },
     "execution_count": 79,
     "metadata": {},
     "output_type": "execute_result"
    }
   ],
   "source": [
    "v1 = varianza_b(Grande)\n",
    "v2 = varianza_b(MuyGrande)\n",
    "v3 = varianza_b(SuperGrande)\n",
    "v4 = varianza_b(Inmenso)"
   ]
  },
  {
   "cell_type": "markdown",
   "metadata": {},
   "source": [
    "Y checamos qué onda con los errores relativos de los valores que calcula nuestra función con los que da la máquina."
   ]
  },
  {
   "cell_type": "code",
   "execution_count": 87,
   "metadata": {
    "collapsed": false
   },
   "outputs": [
    {
     "name": "stdout",
     "output_type": "stream",
     "text": [
      "Error varianza_b vs. La maquina de Grande     = 6.938893903907228e-17\n",
      "Error varianza_b vs. La maquina de MuyGrande  = 2.7755575615628914e-16\n",
      "Error varianza_b vs. La maquina de SuperGrande= 4.0245584642661925e-16\n",
      "Error varianza_b vs. La maquina de Inmenso    = 4.0245584642661925e-15\n"
     ]
    }
   ],
   "source": [
    "println(\"Error varianza_b vs. La maquina de Grande     = \", abs(v1[1] - var(Grande)))\n",
    "println(\"Error varianza_b vs. La maquina de MuyGrande  = \", abs(v2[1] - var(MuyGrande)))\n",
    "println(\"Error varianza_b vs. La maquina de SuperGrande= \", abs(v3[1] - var(SuperGrande)))\n",
    "println(\"Error varianza_b vs. La maquina de Inmenso    = \", abs(v4[1] - var(Inmenso)))"
   ]
  },
  {
   "cell_type": "markdown",
   "metadata": {},
   "source": [
    "Parece que pasa algo interesante... veamos con atención:"
   ]
  },
  {
   "cell_type": "code",
   "execution_count": 118,
   "metadata": {
    "collapsed": false
   },
   "outputs": [],
   "source": [
    "X = Float64[]\n",
    "Pr = Float64[]\n",
    "Vr = Float64[]\n",
    "for i in 1:8\n",
    "    e = 10^i\n",
    "    n = convert(Int64, e)\n",
    "    R = rand(n)\n",
    "    V = var(R)\n",
    "    P = mean(R)\n",
    "    v = varianza_b(R)\n",
    "    push!(X, e)\n",
    "    E1 = abs(v[1] - V)\n",
    "    E2 = abs(v[2] - V)\n",
    "    push!(Vr, E1)\n",
    "    push!(Pr, E2)\n",
    "    \n",
    "end"
   ]
  },
  {
   "cell_type": "code",
   "execution_count": 134,
   "metadata": {
    "collapsed": false
   },
   "outputs": [
    {
     "data": {
      "image/png": "[encoded data removed]",
      "text/plain": [
       "PyPlot.Figure(PyObject <matplotlib.figure.Figure object at 0x355fd7a10>)"
      ]
     },
     "metadata": {},
     "output_type": "display_data"
    },
    {
     "data": {
      "text/plain": [
       "PyObject <matplotlib.legend.Legend object at 0x354e367d0>"
      ]
     },
     "execution_count": 134,
     "metadata": {},
     "output_type": "execute_result"
    }
   ],
   "source": [
    "loglog(X, Pr, \".\", label=\"promedio\")\n",
    "loglog(X, Vr, \".\", label=\"varianza\")\n",
    "legend()\n",
    "\n",
    "\n"
   ]
  },
  {
   "cell_type": "markdown",
   "metadata": {},
   "source": [
    "Al parecer, según crece el orden de magnitud de la muestra, el cálculo de la varianza hecho por 'varianza_b' se aleja del obtenido por la funcinón interna. Pero si comparamos el tiempo con `varianza_a`:\n",
    "\n",
    "___"
   ]
  },
  {
   "cell_type": "code",
   "execution_count": 149,
   "metadata": {
    "collapsed": false
   },
   "outputs": [
    {
     "name": "stdout",
     "output_type": "stream",
     "text": [
      "  0.000012 seconds (6 allocations: 208 bytes)\n",
      "  0.000351 seconds (355 allocations: 15.922 KB)\n",
      "(0.08143265510266719,\" <--- (A) vs. (B) --->\",0.0814326551026672)\n"
     ]
    }
   ],
   "source": [
    "println(@time varianza_a(Grande), \" <--- (A) vs. (B) --->\", @time varianza_b(Grande)[1])"
   ]
  },
  {
   "cell_type": "code",
   "execution_count": 150,
   "metadata": {
    "collapsed": false
   },
   "outputs": [
    {
     "name": "stdout",
     "output_type": "stream",
     "text": [
      "  0.000089 seconds (6 allocations: 208 bytes)\n",
      "  0.000426 seconds (355 allocations: 15.922 KB)\n",
      "(0.08431473154790424,\" <--- (A) vs. (B) --->\",0.08431473154790362)\n"
     ]
    }
   ],
   "source": [
    "println(@time varianza_a(MuyGrande), \" <--- (A) vs. (B) --->\", @time varianza_b(MuyGrande)[1])"
   ]
  },
  {
   "cell_type": "code",
   "execution_count": 151,
   "metadata": {
    "collapsed": false
   },
   "outputs": [
    {
     "name": "stdout",
     "output_type": "stream",
     "text": [
      "  0.000879 seconds (6 allocations: 208 bytes)\n",
      "  0.001414 seconds (359 allocations: 16.359 KB)\n",
      "(0.08334936690939203,\" <--- (A) vs. (B) --->\",0.08334936690939201)\n"
     ]
    }
   ],
   "source": [
    "println(@time varianza_a(SuperGrande), \" <--- (A) vs. (B) --->\", @time varianza_b(SuperGrande)[1])"
   ]
  },
  {
   "cell_type": "code",
   "execution_count": 152,
   "metadata": {
    "collapsed": false
   },
   "outputs": [
    {
     "name": "stdout",
     "output_type": "stream",
     "text": [
      "  0.008779 seconds (6 allocations: 208 bytes)\n",
      "  0.011183 seconds (349 allocations: 15.703 KB)\n",
      "(0.08337560408814239,\" <--- (A) vs. (B) --->\",0.08337560408814668)\n"
     ]
    }
   ],
   "source": [
    "println(@time varianza_a(Inmenso), \" <--- (A) vs. (B) --->\", @time varianza_b(Inmenso)[1])"
   ]
  },
  {
   "cell_type": "markdown",
   "metadata": {},
   "source": [
    "___\n",
    "Vaya... el calculo de la funcion `varianza_b` es considerablemente más lento...\n",
    "En un principio consideré estar haciendo algo mal... pero los valores entre ambos son bastante congruentes.\n",
    "Nos quedamos _definitivamente_ con la función __varianza_a__. Quizá tuvimos que hacer dos pasos, pero funcionó.\n"
   ]
  },
  {
   "cell_type": "markdown",
   "metadata": {},
   "source": [
    "Yo usé la __Regla de Simpson Compuesta__ y la tomé de [aquí](https://es.wikipedia.org/wiki/Regla_de_Simpson#Regla_de_Simpson_compuesta \"si... Wikipedia\").\n",
    "Propuse una función muy fácil, la constante:\n",
    "$$f(x) = 3$$\n",
    "Y la integré en el intervalo $[0,1]$.\n",
    "\n",
    "Sabemos cuánto da esto:\n",
    "$$\\int_0^1 f(x) dx = \\int_0^1 3 dx = 3  $$\n",
    "Implementamos:"
   ]
  },
  {
   "cell_type": "code",
   "execution_count": 165,
   "metadata": {
    "collapsed": false
   },
   "outputs": [
    {
     "data": {
      "text/plain": [
       "f (generic function with 1 method)"
      ]
     },
     "execution_count": 165,
     "metadata": {},
     "output_type": "execute_result"
    }
   ],
   "source": [
    "function f(x)\n",
    "    y = 3\n",
    "    return y\n",
    "end"
   ]
  },
  {
   "cell_type": "code",
   "execution_count": 169,
   "metadata": {
    "collapsed": false
   },
   "outputs": [
    {
     "data": {
      "text/plain": [
       "simpson_de_f (generic function with 1 method)"
      ]
     },
     "execution_count": 169,
     "metadata": {},
     "output_type": "execute_result"
    }
   ],
   "source": [
    "\"\"\"\n",
    "Regla de simpson Compuesta. \n",
    "Recibe los limites de integracion y la cantidad de pasos deseados.\n",
    "\"\"\"\n",
    "function simpson_de_f{T<:Real}(a::T,b::T,n::Int64)\n",
    "    (n%2)!= 0 && error(\"Recibido n = \",n, \". Introduce un n par, porfavor\") #solo funciona para n par.\n",
    "    h = (b - a)/n\n",
    "    x = collect(a:h:b)\n",
    "    \n",
    "    index = convert(Int64, n/2)\n",
    "    #println(\"index: \", index)\n",
    "    s_par = 0.0\n",
    "    s_impar = 0.0\n",
    "    \n",
    "    for i in 1:index-1\n",
    "        s_par += f(x[2*i])\n",
    "        s_impar += f(x[(2*i)-1])\n",
    "    end\n",
    "    s_impar += f(x[n-1])\n",
    "    simpson = (h/3)*(f(a) + 2*s_par + 4*s_impar + f(b))\n",
    "        \n",
    "    \n",
    "    #println(\"Funciona.\") \n",
    "        \n",
    "    \n",
    "    \n",
    "    return simpson\n",
    "    \n",
    "    \n",
    "    \n",
    "end"
   ]
  },
  {
   "cell_type": "markdown",
   "metadata": {},
   "source": [
    "Llegada la onda de la verdad..."
   ]
  },
  {
   "cell_type": "code",
   "execution_count": 167,
   "metadata": {
    "collapsed": false
   },
   "outputs": [
    {
     "data": {
      "text/plain": [
       "3.0"
      ]
     },
     "execution_count": 167,
     "metadata": {},
     "output_type": "execute_result"
    }
   ],
   "source": [
    "pasos = 1000\n",
    "Integral = simpson_de_f(0.0,1.0,10000)"
   ]
  },
  {
   "cell_type": "markdown",
   "metadata": {},
   "source": [
    "¡Vaya!... sí da lo que queremos... algo un poco más complicado.\n",
    "\n",
    "$$\\int_0^1 2x dx = x^2 | _0 ^1 = 1$$"
   ]
  },
  {
   "cell_type": "code",
   "execution_count": 168,
   "metadata": {
    "collapsed": false
   },
   "outputs": [
    {
     "data": {
      "text/plain": [
       "f (generic function with 1 method)"
      ]
     },
     "execution_count": 168,
     "metadata": {},
     "output_type": "execute_result"
    }
   ],
   "source": [
    "function f(x)\n",
    "    y = 2*x\n",
    "    return y\n",
    "end"
   ]
  },
  {
   "cell_type": "code",
   "execution_count": 170,
   "metadata": {
    "collapsed": false
   },
   "outputs": [
    {
     "data": {
      "text/plain": [
       "0.9980013333333334"
      ]
     },
     "execution_count": 170,
     "metadata": {},
     "output_type": "execute_result"
    }
   ],
   "source": [
    "simpson_de_f(0.0,1.0, pasos)"
   ]
  },
  {
   "cell_type": "markdown",
   "metadata": {
    "collapsed": true
   },
   "source": [
    "Rayos... no nos aproximamos tan bien como nos hubiera gustado... ¿Mas pasos?\n"
   ]
  },
  {
   "cell_type": "code",
   "execution_count": 175,
   "metadata": {
    "collapsed": false
   },
   "outputs": [
    {
     "data": {
      "text/plain": [
       "0.9999998000000144"
      ]
     },
     "execution_count": 175,
     "metadata": {},
     "output_type": "execute_result"
    }
   ],
   "source": [
    "simpson_de_f(0.0,1.0, 10000000)"
   ]
  },
  {
   "cell_type": "markdown",
   "metadata": {},
   "source": [
    "Casi... pero igual no."
   ]
  }
 ],
 "metadata": {
  "kernelspec": {
   "display_name": "Julia 0.4.3",
   "language": "julia",
   "name": "julia-0.4"
  },
  "language_info": {
   "file_extension": ".jl",
   "mimetype": "application/julia",
   "name": "julia",
   "version": "0.4.3"
  }
 },
 "nbformat": 4,
 "nbformat_minor": 0
}
