{
 "cells": [
  {
   "cell_type": "markdown",
   "metadata": {
    "slideshow": {
     "slide_type": "slide"
    }
   },
   "source": [
    "# Diferenciación automática (o algorítmica): Parte 1"
   ]
  },
  {
   "cell_type": "markdown",
   "metadata": {
    "slideshow": {
     "slide_type": "-"
    }
   },
   "source": [
    "### NOTA\n",
    "\n",
    "Este notebook se iniciará en la clase y **debe** hacerse en equipo de dos personas (máximo tres). La resolución completa de los ejercicios debe ser enviada como \"Tarea4.ipynb\"."
   ]
  },
  {
   "cell_type": "markdown",
   "metadata": {
    "slideshow": {
     "slide_type": "slide"
    }
   },
   "source": [
    "## Motivación"
   ]
  },
  {
   "cell_type": "markdown",
   "metadata": {
    "slideshow": {
     "slide_type": "-"
    }
   },
   "source": [
    "En el [notebook anterior](https://github.com/lbenet/2016-2_TSFisicaComputacional/blob/master/notas_clase/06_Derivacion_numerica.ipynb), vimos que hay diferentes formas de implementar la derivación de una función $f(x)$ en un punto $x_0$ y que éstas dependen de un parámetro $h$, que es la separación entre puntos cercanos. \n",
    "\n",
    "Vimos que el error absoluto en términos de $h$, cuando $h\\to 0$, tiene un comportamiento distinto, y que de hecho puede ser \"contaminado\" por errores de numéricos."
   ]
  },
  {
   "cell_type": "markdown",
   "metadata": {
    "slideshow": {
     "slide_type": "subslide"
    }
   },
   "source": [
    "Se obtuvo que:\n",
    "\n",
    "- La \"derivada derecha\" converge *linealmente* al $h\\to 0$ al valor correcto de la derivada, es decir, el error es proporcional a $\\mathcal{O}(h)$. Sin embargo, para valores *suficientemente* pequeños de $h$, el valor obtenido de la derivada deja de tener sentido ya que pierde exactitud.\n",
    "\n",
    "- La \"derivada simétrica\" converge *cuadráticamente*, es decir, el error escala como $\\mathcal{O}(h^2)$. Al igual que la derivada derecha, para $h$ suficientemente pequeña errores \"de cancelación\" debidos a la diferencia en la definición hacen que el resultado pierda sentido.\n",
    "\n",
    "- La definición de la \"derivada compleja\" también converge *cuadráticamente*; a diferencia de las dos definiciones anteriores *no* exhibe problemas al considerar valores de $h$ muy pequeños."
   ]
  },
  {
   "cell_type": "markdown",
   "metadata": {
    "slideshow": {
     "slide_type": "subslide"
    }
   },
   "source": [
    "Los puntos anteriores muestran que, la manera de implementar un algoritmo (concreto) cualquiera en la computadora es importante respecto a cuestiones de la convergencia y del manejo de errores numéricos. En este sentido, la \"derivada compleja\" da el resultado que más se acerca al exacto, incluso para valores de $h \\sim 10.^{-16}$."
   ]
  },
  {
   "cell_type": "markdown",
   "metadata": {
    "slideshow": {
     "slide_type": "fragment"
    }
   },
   "source": [
    "La pregunta es si podemos ir más allá y obtener el valor exacto, esto es, el que más se acerca al valor obtenido con números reales excepto por cuestiones de redondeo."
   ]
  },
  {
   "cell_type": "markdown",
   "metadata": {
    "slideshow": {
     "slide_type": "slide"
    }
   },
   "source": [
    "## Diferenciación automática (o algorítmica)"
   ]
  },
  {
   "cell_type": "markdown",
   "metadata": {},
   "source": [
    "Citando a [wikipedia](https://en.wikipedia.org/wiki/Automatic_differentiation): ``Automatic differentiation (AD), also called algorithmic differentiation or computational differentiation, is a set of techniques to numerically evaluate the derivative of a function specified by a computer program.''\n",
    "\n",
    "Diferenciación automática **no es** diferenciación numérica. Está basada en cálculos numéricos (evaluación de funciones por la computadora), pero **no** usa ninguna de las definiciones por diferencias finitas, como las que vimos la clase anterior."
   ]
  },
  {
   "cell_type": "markdown",
   "metadata": {
    "slideshow": {
     "slide_type": "subslide"
    }
   },
   "source": [
    "Para ilustrar su funcionamiento, empezaremos recordando cómo funcionan los números complejos: $z = a + \\mathrm{i} b$.\n",
    "\n",
    "Uno puede definir todas las operaciones aritméticas de la manera natural (a partir de los números reales), manteniendo las expresiones con $\\mathrm{i}$ factorizada; en el caso de la multiplicación y división, simplemente recordamos que $\\mathrm{i}^2=-1$."
   ]
  },
  {
   "cell_type": "markdown",
   "metadata": {
    "slideshow": {
     "slide_type": "fragment"
    }
   },
   "source": [
    "Por ejemplo, tenemos que, para $z = a + \\mathrm{i} b$ y $w = c + \\mathrm{i} d$\n",
    "\\begin{eqnarray*}\n",
    "z + w & = & (a + \\mathrm{i} b) + (c + \\mathrm{i} d) = a + c + \\mathrm{i}(b + d),\\\\\n",
    "z \\cdot w & = & (a + \\mathrm{i} b)\\cdot (c + \\mathrm{i} d) \\\\\n",
    "  & = & ac + \\mathrm{i} (ad+bc) + \\mathrm{i}^2 b d\n",
    " = ac - b d + \\mathrm{i} (ad+bc).\n",
    "\\end{eqnarray*}\n",
    "\n",
    "Por último, vale también la pena recordar que, $\\mathbb{C}$ es *isomorfo* a $\\mathbb{R}^2$, esto es, hay un mapeo biyectivo de $ z \\leftrightarrow (a, b)$."
   ]
  },
  {
   "cell_type": "markdown",
   "metadata": {
    "slideshow": {
     "slide_type": "subslide"
    }
   },
   "source": [
    "Volviendo a la cuestión de la diferenciación automática, la idea es introducir un par ordenado donde la primer\n",
    "componente es el valor de una función $f(x)$ evaluada en $x_0$, y la segunda es el valor de su derivada evaluada\n",
    "en el mismo punto. Esto es, definimos a los *duales* como:\n",
    "\n",
    "\\begin{equation}\n",
    "\\vec{f}(x_0) = \\big( f_0, f'_0\\big) = f_0 + \\hat{\\mathbf{h}}\\, f'_0,\n",
    "\\end{equation}\n",
    "\n",
    "donde $f_0 = f(x_0)$ y $f'_0=\\frac{d f}{d x}(x_0)$ y, en la segunda igualdad, $\\hat{\\mathbf{h}}$ sirve para indicar la segunda componente del par ordenado. (En un sentido que se precisará más adelante, $\\hat{\\mathbf{h}}$ se comporta de una manera semejante a $\\mathrm{i}$ para los números complejos, distinguiéndose en $\\hat{\\mathbf{h}}^2$.)"
   ]
  },
  {
   "cell_type": "markdown",
   "metadata": {
    "slideshow": {
     "slide_type": "subslide"
    }
   },
   "source": [
    "En particular, para la función constante $f(x)=c$ se cumple que el dual asociado es $\\vec{c}(x_0)=(c,0)$, y para la función identidad $f(x)=x$ obtenemos $\\vec{x}(x_0)=(x_0,1)$. Vale la pena aquí enfatizar que la función identidad es precisamente la variable independiente, respecto a la que se está derivando."
   ]
  },
  {
   "cell_type": "markdown",
   "metadata": {
    "slideshow": {
     "slide_type": "slide"
    }
   },
   "source": [
    "### Ejercicio\n",
    "\n",
    "Implementen una nueva estructura paramétrica (`type`) que defina los duales, donde el parámetro debe ser un subtipo de `Real` (ver la siguiente celda). La parte que identifica a $f_0$ será llamada `fun`, y la correspondiente a $f'_0$ será `der`.\n",
    "\n",
    "La definición debe incluir métodos que sean compatibles con las dos propiedades arriba mencionadas, es decir, que el dual de una constante (cualquier número real) sea $(c,0)$, y que el de la variable independiente sea $(x_0,1)$. Para lo segundo definiremos una función `xdual` con la propiedad mencionada."
   ]
  },
  {
   "cell_type": "markdown",
   "metadata": {
    "collapsed": false
   },
   "source": [
    "Esto es en otro archivo\n",
    "include <nombre.jl>\n",
    "se debe poner using <modulo>"
   ]
  },
  {
   "cell_type": "code",
   "execution_count": 1,
   "metadata": {
    "collapsed": false
   },
   "outputs": [],
   "source": [
    "\"\"\"Definición de los duales, donde\n",
    "...\n",
    "\"\"\"\n",
    "type Dual{T<:Real} #<: Real\n",
    "    # código:\n",
    "    \n",
    "    fun :: T\n",
    "    der :: T\n",
    "    \n",
    "end\n",
    "\n",
    "#Dual(a, b) = Dual(promote(a,b)...)\n",
    "#Dual(a) = Dual(a, zero(a))"
   ]
  },
  {
   "cell_type": "code",
   "execution_count": 2,
   "metadata": {
    "collapsed": false
   },
   "outputs": [
    {
     "name": "stdout",
     "output_type": "stream",
     "text": [
      "search: "
     ]
    },
    {
     "data": {
      "text/latex": [
       "\\begin{verbatim}\n",
       "promote(xs...)\n",
       "\\end{verbatim}\n",
       "Convert all arguments to their common promotion type (if any), and return them all (as a tuple).\n"
      ],
      "text/markdown": [
       "```\n",
       "promote(xs...)\n",
       "```\n",
       "\n",
       "Convert all arguments to their common promotion type (if any), and return them all (as a tuple).\n"
      ],
      "text/plain": [
       "```\n",
       "promote(xs...)\n",
       "```\n",
       "\n",
       "Convert all arguments to their common promotion type (if any), and return them all (as a tuple).\n"
      ]
     },
     "execution_count": 2,
     "metadata": {},
     "output_type": "execute_result"
    }
   ],
   "source": [
    "?promote"
   ]
  },
  {
   "cell_type": "code",
   "execution_count": 3,
   "metadata": {
    "collapsed": false
   },
   "outputs": [
    {
     "name": "stdout",
     "output_type": "stream",
     "text": [
      "promote promote_type promote_rule promote_shape pointer_from_objref\n",
      "\n"
     ]
    },
    {
     "data": {
      "text/plain": [
       "Dual{T<:Real}"
      ]
     },
     "execution_count": 3,
     "metadata": {},
     "output_type": "execute_result"
    }
   ],
   "source": [
    "# Definan un método que permita la promoción automática cuando no son del mismo tipo\n",
    "Dual(a, b) = Dual(promote(a,b)...)"
   ]
  },
  {
   "cell_type": "code",
   "execution_count": 4,
   "metadata": {
    "collapsed": false
   },
   "outputs": [
    {
     "data": {
      "text/plain": [
       "Dual{T<:Real}"
      ]
     },
     "execution_count": 4,
     "metadata": {},
     "output_type": "execute_result"
    }
   ],
   "source": [
    "# Aqui se define un método que garantiza que el dual de un número cumple lo requerido\n",
    "Dual(a) = Dual(a, zero(a))"
   ]
  },
  {
   "cell_type": "code",
   "execution_count": 5,
   "metadata": {
    "collapsed": false
   },
   "outputs": [
    {
     "data": {
      "text/plain": [
       "Dual{Float64}(1.0,1.0)"
      ]
     },
     "execution_count": 5,
     "metadata": {},
     "output_type": "execute_result"
    }
   ],
   "source": [
    "Dual(1.0, 1)"
   ]
  },
  {
   "cell_type": "code",
   "execution_count": 6,
   "metadata": {
    "collapsed": false
   },
   "outputs": [
    {
     "data": {
      "text/plain": [
       "xdual (generic function with 1 method)"
      ]
     },
     "execution_count": 6,
     "metadata": {},
     "output_type": "execute_result"
    }
   ],
   "source": [
    "# Aqui se define la función `xdual`, que se usará para identificar la variable independiente\n",
    "# La función depende de x_0, y debe regresar el Dual apropiado a la variable independiente\n",
    "function xdual(x0)\n",
    "    # código\n",
    "    \n",
    "    Dual(x0,1)\n",
    "end"
   ]
  },
  {
   "cell_type": "code",
   "execution_count": 7,
   "metadata": {
    "collapsed": false
   },
   "outputs": [
    {
     "data": {
      "text/plain": [
       "Dual{Int64}(7,1)"
      ]
     },
     "execution_count": 7,
     "metadata": {},
     "output_type": "execute_result"
    }
   ],
   "source": [
    "xdual(7)"
   ]
  },
  {
   "cell_type": "code",
   "execution_count": 8,
   "metadata": {
    "collapsed": false
   },
   "outputs": [
    {
     "data": {
      "text/plain": [
       "Dual{Int64}(7,0)"
      ]
     },
     "execution_count": 8,
     "metadata": {},
     "output_type": "execute_result"
    }
   ],
   "source": [
    "Dual(7)"
   ]
  },
  {
   "cell_type": "code",
   "execution_count": 9,
   "metadata": {
    "collapsed": false,
    "slideshow": {
     "slide_type": "subslide"
    }
   },
   "outputs": [
    {
     "ename": "LoadError",
     "evalue": "LoadError: test failed: d2.fun == 7 && d2.der == 1\n in expression: d2.fun == 7 && d2.der == 1\nwhile loading In[9], in expression starting on line 9",
     "output_type": "error",
     "traceback": [
      "LoadError: test failed: d2.fun == 7 && d2.der == 1\n in expression: d2.fun == 7 && d2.der == 1\nwhile loading In[9], in expression starting on line 9",
      "",
      " in error at /Applications/Julia-0.4.3.app/Contents/Resources/julia/lib/julia/sys.dylib",
      " in default_handler at test.jl:30",
      " in do_test at test.jl:53"
     ]
    }
   ],
   "source": [
    "# Muestren que su código funciona con tests adecuados; para los detalles ver \n",
    "# http://julia.readthedocs.org/en/release-0.4/stdlib/test/\n",
    "using Base.Test\n",
    "\n",
    "# Aqui vienen varios tests de cada una de las funciones que implementaron\n",
    "# Para checar la construcción de duales, háganlo verificando cada uno de los campos internos\n",
    "\n",
    "d2 = Dual(7)\n",
    "@test d2.fun == 7 && d2.der == 1\n",
    "\n"
   ]
  },
  {
   "cell_type": "code",
   "execution_count": 10,
   "metadata": {
    "collapsed": true
   },
   "outputs": [],
   "source": [
    "d2 = Dual(7)\n",
    "@test d2.fun == 7 && d2.der == 0\n",
    "#Correcto. No marca error"
   ]
  },
  {
   "cell_type": "markdown",
   "metadata": {
    "slideshow": {
     "slide_type": "slide"
    }
   },
   "source": [
    "## Aritmética de duales"
   ]
  },
  {
   "cell_type": "markdown",
   "metadata": {},
   "source": [
    "De la definición, y recordando el significado de cada una de las componentes del par doble, tenemos que las operaciones aritméticas quedan definidas por:\n",
    "\n",
    "\\begin{eqnarray}\n",
    "    \\vec{u} \\pm \\vec{w} &=& \\big( u_0 \\pm w_0,\\, u'_0\\pm w'_0 \\big),\\\\\n",
    "    \\vec{u} \\times \\vec{w} &=& \\big( u_0 \\cdot w_0,\\, u_0 w'_0 +  w_0 u'_0 \\big),\\\\\n",
    "    \\frac{\\vec{u}}{\\vec{w}} &=& \\big( \\frac{u_0}{w_0},\\, \\frac{ u'_0 - (u_0/w_0)w'_0}{w_0}\\big),\\\\\n",
    "    {\\vec{u}}^\\alpha &=& \\big( u_0^\\alpha,\\, \\alpha u_0^{\\alpha-1} u'_0 \\big).\\\\\n",
    "\\end{eqnarray}    \n",
    "\n",
    "Además, están los operadores unitarios, que satisfacen:\n",
    "\\begin{equation}\n",
    "    \\pm \\vec{u} = \\big(\\pm u_0, \\pm u'_0 \\big).\n",
    "\\end{equation}    \n",
    "\n",
    "Noten que las dos relaciones anteriores son compatibles con $\\hat{\\mathbf{h}}^2=0$."
   ]
  },
  {
   "cell_type": "markdown",
   "metadata": {
    "slideshow": {
     "slide_type": "slide"
    }
   },
   "source": [
    "### Ejercicio\n",
    "\n",
    "Implementen *todas* las operaciones aritméticas. Estas operaciones deben incluir las operaciones aritméticas que involucran un número cualquiera (`a :: Real`) y un dual (`b::Dual`). Esto se puede hacer implementando los métodos específicos para estos casos (¡y que sirven en cualquier órden!). Implementen también la comparación entre duales (`==`). Incluyan tests que muestren que cada una de ellas está bien definida, y que sus resultados dan valores consistentes."
   ]
  },
  {
   "cell_type": "code",
   "execution_count": 11,
   "metadata": {
    "collapsed": false
   },
   "outputs": [
    {
     "name": "stderr",
     "output_type": "stream",
     "text": [
      "WARNING: New definition \n",
      "    ^(Main.Dual, Real) at In[11]:22\n",
      "is ambiguous with: \n",
      "    ^(Any, Integer) at intfuncs.jl:108.\n",
      "To fix, define \n",
      "    ^(Main.Dual, Integer)\n",
      "before the new definition.\n"
     ]
    },
    {
     "data": {
      "text/plain": [
       "== (generic function with 110 methods)"
      ]
     },
     "execution_count": 11,
     "metadata": {},
     "output_type": "execute_result"
    }
   ],
   "source": [
    "import Base: +, -, *, /, ^, ==\n",
    "\n",
    "# Aqui se implementan los métodos necesarios para cada función\n",
    "\n",
    "\n",
    "+(a::Dual, b::Dual) = Dual(a.fun + b.fun, a.der + b.der) \n",
    "+(a::Real, b::Dual) = Dual(a + b.fun, b.der)\n",
    "+(a::Dual, b::Real) = Dual(a.fun + b, a.der)\n",
    "\n",
    "-(a::Dual, b::Dual) = Dual(a.fun - b.fun, a.der - b.der) \n",
    "-(a::Real, b::Dual) = Dual(a - b.fun, b.der)\n",
    "-(a::Dual, b::Real) = Dual(a.fun - b, a.der)\n",
    "\n",
    "*(a::Dual, b::Dual) = Dual(a.fun * b.fun, a.fun*b.der + b.fun*a.der) \n",
    "*(a::Real, b::Dual) = Dual(a * b.fun, a*b.der)\n",
    "*(a::Dual, b::Real) = Dual(a.fun * b, b*a.der)\n",
    "\n",
    "/(a::Dual, b::Dual) = Dual(a.fun / b.fun, (a.der - ((a.fun/b.fun)*b.der)) / b.fun)\n",
    "/(a::Real, b::Dual) = Dual(a / b.fun, ((a/b.fun)*b.der) / b.fun) \n",
    "/(a::Dual, b::Real) = Dual(a.fun / b, a.der / b)\n",
    "\n",
    "^(a::Dual, c::Real) = Dual(a.fun^c, (c*(a.fun^(c-1))) * a.der)\n",
    "\n",
    "redondear(a::Dual) = Dual(round(a.fun), round(a.der))\n",
    "\n",
    "convertir(a::Dual) = Dual(Float64(a.fun), round(a.der))\n",
    "\n",
    "==(a::Dual, b::Dual) = a.fun==b.fun && a.der==b.der \n",
    "\n"
   ]
  },
  {
   "cell_type": "code",
   "execution_count": 12,
   "metadata": {
    "collapsed": false
   },
   "outputs": [
    {
     "data": {
      "text/plain": [
       "Dual{Float64}(2.1,3.0)"
      ]
     },
     "execution_count": 12,
     "metadata": {},
     "output_type": "execute_result"
    }
   ],
   "source": [
    "# Aqui se incluyen las pruebas necesarias\n",
    "d1 = Dual(2.0,3.0)\n",
    "d2 = Dual(2.1,3.0)"
   ]
  },
  {
   "cell_type": "code",
   "execution_count": 13,
   "metadata": {
    "collapsed": false,
    "slideshow": {
     "slide_type": "subslide"
    }
   },
   "outputs": [
    {
     "ename": "LoadError",
     "evalue": "LoadError: test failed: Dual{Float64}(2.0,3.0) == Dual{Float64}(2.1,3.0)\n in expression: d1 == d2\nwhile loading In[13], in expression starting on line 1",
     "output_type": "error",
     "traceback": [
      "LoadError: test failed: Dual{Float64}(2.0,3.0) == Dual{Float64}(2.1,3.0)\n in expression: d1 == d2\nwhile loading In[13], in expression starting on line 1",
      "",
      " in error at /Applications/Julia-0.4.3.app/Contents/Resources/julia/lib/julia/sys.dylib",
      " in default_handler at test.jl:30",
      " in do_test at test.jl:53"
     ]
    }
   ],
   "source": [
    "@test d1 == d2 #Correcto, da error"
   ]
  },
  {
   "cell_type": "code",
   "execution_count": 14,
   "metadata": {
    "collapsed": false
   },
   "outputs": [
    {
     "ename": "LoadError",
     "evalue": "LoadError: test failed: Dual{Float64}(4.1,6.0) == Dual{Int64}(4,6)\n in expression: d1 + d2 == Dual(4,6)\nwhile loading In[14], in expression starting on line 1",
     "output_type": "error",
     "traceback": [
      "LoadError: test failed: Dual{Float64}(4.1,6.0) == Dual{Int64}(4,6)\n in expression: d1 + d2 == Dual(4,6)\nwhile loading In[14], in expression starting on line 1",
      "",
      " in error at /Applications/Julia-0.4.3.app/Contents/Resources/julia/lib/julia/sys.dylib",
      " in default_handler at test.jl:30",
      " in do_test at test.jl:53"
     ]
    }
   ],
   "source": [
    "@test d1 + d2 == Dual(4, 6) #Correcto, da error"
   ]
  },
  {
   "cell_type": "code",
   "execution_count": 15,
   "metadata": {
    "collapsed": true
   },
   "outputs": [],
   "source": [
    "@test d1 + d2 == Dual(4.1, 6)\n",
    "#Correcto. No marca error"
   ]
  },
  {
   "cell_type": "code",
   "execution_count": 16,
   "metadata": {
    "collapsed": true
   },
   "outputs": [],
   "source": [
    "@test d1 + 2.0 == Dual(4.0, 3.0)\n",
    "#Correcto. No marca error"
   ]
  },
  {
   "cell_type": "code",
   "execution_count": 17,
   "metadata": {
    "collapsed": true
   },
   "outputs": [],
   "source": [
    "@test 2.0 + d1 == Dual(4.0, 3.0)\n",
    "#Correcto. No marca error"
   ]
  },
  {
   "cell_type": "code",
   "execution_count": 18,
   "metadata": {
    "collapsed": false
   },
   "outputs": [
    {
     "ename": "LoadError",
     "evalue": "LoadError: test failed: Dual{Float64}(4.0,3.0) == Dual{Float64}(4.3,3.0)\n in expression: 2.0 + d1 == Dual(4.3,3.0)\nwhile loading In[18], in expression starting on line 1",
     "output_type": "error",
     "traceback": [
      "LoadError: test failed: Dual{Float64}(4.0,3.0) == Dual{Float64}(4.3,3.0)\n in expression: 2.0 + d1 == Dual(4.3,3.0)\nwhile loading In[18], in expression starting on line 1",
      "",
      " in error at /Applications/Julia-0.4.3.app/Contents/Resources/julia/lib/julia/sys.dylib",
      " in default_handler at test.jl:30",
      " in do_test at test.jl:53"
     ]
    }
   ],
   "source": [
    "@test 2.0 + d1 == Dual(4.3, 3.0)\n",
    "#Correcto. Marca error"
   ]
  },
  {
   "cell_type": "code",
   "execution_count": 19,
   "metadata": {
    "collapsed": false
   },
   "outputs": [
    {
     "ename": "LoadError",
     "evalue": "LoadError: test failed: Dual{Float64}(-0.10000000000000009,0.0) == Dual{Float64}(-0.1,0.0)\n in expression: d1 - d2 == Dual(-0.1,0)\nwhile loading In[19], in expression starting on line 1",
     "output_type": "error",
     "traceback": [
      "LoadError: test failed: Dual{Float64}(-0.10000000000000009,0.0) == Dual{Float64}(-0.1,0.0)\n in expression: d1 - d2 == Dual(-0.1,0)\nwhile loading In[19], in expression starting on line 1",
      "",
      " in error at /Applications/Julia-0.4.3.app/Contents/Resources/julia/lib/julia/sys.dylib",
      " in default_handler at test.jl:30",
      " in do_test at test.jl:53"
     ]
    }
   ],
   "source": [
    "@test d1 - d2 == Dual(-0.1, 0)\n",
    "#Incorrecto. No debería marcar error..."
   ]
  },
  {
   "cell_type": "code",
   "execution_count": 20,
   "metadata": {
    "collapsed": false
   },
   "outputs": [],
   "source": [
    "#Haciendo lo siguiente ya no marca el error, es correcto el test\n",
    "#res = d1-d2\n",
    "#print(res)\n",
    "#res = Float64(round(res*1000))/1000\n",
    "pres = Dual(1000, 1000)\n",
    "res = d1 - d2\n",
    "#println(convertir(pres))\n",
    "@test convertir(redondear((res*pres)))/pres == Dual(-0.1, 0)\n",
    "#test = 2.0 - 2.1\n",
    "#println(test)\n",
    "#println(Int32(round(test*1000))/1000)"
   ]
  },
  {
   "cell_type": "code",
   "execution_count": 21,
   "metadata": {
    "collapsed": true
   },
   "outputs": [],
   "source": [
    "#Ahora ya es correcto el test\n",
    "\n",
    "pres = Dual(1000, 1000)\n",
    "res = d1 - d2\n",
    "@test convertir(redondear((res*pres)))/pres == Dual(-0.1, 0)\n"
   ]
  },
  {
   "cell_type": "code",
   "execution_count": 22,
   "metadata": {
    "collapsed": false
   },
   "outputs": [
    {
     "ename": "LoadError",
     "evalue": "LoadError: test failed: Dual{Float64}(-0.1,0.0) == Dual{Float64}(-0.1,0.1)\n in expression: convertir(redondear(res * pres)) / pres == Dual(-0.1,0.1)\nwhile loading In[22], in expression starting on line 5",
     "output_type": "error",
     "traceback": [
      "LoadError: test failed: Dual{Float64}(-0.1,0.0) == Dual{Float64}(-0.1,0.1)\n in expression: convertir(redondear(res * pres)) / pres == Dual(-0.1,0.1)\nwhile loading In[22], in expression starting on line 5",
      "",
      " in error at /Applications/Julia-0.4.3.app/Contents/Resources/julia/lib/julia/sys.dylib",
      " in default_handler at test.jl:30",
      " in do_test at test.jl:53"
     ]
    }
   ],
   "source": [
    "#Este test es correcto, marca error\n",
    "pres = Dual(1000, 1000)\n",
    "res = d1 - d2\n",
    "\n",
    "@test convertir(redondear((res*pres)))/pres == Dual(-0.1, 0.1)"
   ]
  },
  {
   "cell_type": "code",
   "execution_count": 23,
   "metadata": {
    "collapsed": false
   },
   "outputs": [],
   "source": [
    "@test d1*d2 == Dual(4.2, 12.3)\n",
    "#Correcto. No da error"
   ]
  },
  {
   "cell_type": "code",
   "execution_count": 24,
   "metadata": {
    "collapsed": false
   },
   "outputs": [
    {
     "ename": "LoadError",
     "evalue": "LoadError: test failed: Dual{Float64}(4.0,12.0) == Dual{Int64}(4,24)\n in expression: d1 ^ 2 == Dual(4,24)\nwhile loading In[24], in expression starting on line 1",
     "output_type": "error",
     "traceback": [
      "LoadError: test failed: Dual{Float64}(4.0,12.0) == Dual{Int64}(4,24)\n in expression: d1 ^ 2 == Dual(4,24)\nwhile loading In[24], in expression starting on line 1",
      "",
      " in error at /Applications/Julia-0.4.3.app/Contents/Resources/julia/lib/julia/sys.dylib",
      " in default_handler at test.jl:30",
      " in do_test at test.jl:53"
     ]
    }
   ],
   "source": [
    "@test d1^2 == Dual(4, 24)\n",
    "#Marca error, es correcto"
   ]
  },
  {
   "cell_type": "code",
   "execution_count": 25,
   "metadata": {
    "collapsed": false
   },
   "outputs": [],
   "source": [
    "@test d1^2 == Dual(4, 12)\n",
    "#Test correcto"
   ]
  },
  {
   "cell_type": "markdown",
   "metadata": {
    "slideshow": {
     "slide_type": "slide"
    }
   },
   "source": [
    "Ahora probaremos la infraestructura que han desarrollado hasta ahora. En particular, usaremos la misma función que se\n",
    "utilizón en la clase anterior:\n",
    "\n",
    "\\begin{equation}\n",
    "    f_\\textrm{test}(x) = 3x^3 - 2,\n",
    "\\end{equation}\n",
    "\n",
    "y la idea es calcular la derivada en $x_0=1$."
   ]
  },
  {
   "cell_type": "code",
   "execution_count": 26,
   "metadata": {
    "collapsed": false
   },
   "outputs": [
    {
     "data": {
      "text/plain": [
       "f_test (generic function with 1 method)"
      ]
     },
     "execution_count": 26,
     "metadata": {},
     "output_type": "execute_result"
    }
   ],
   "source": [
    "f_test(x) = 3*x^3 - 2"
   ]
  },
  {
   "cell_type": "code",
   "execution_count": 48,
   "metadata": {
    "collapsed": false
   },
   "outputs": [
    {
     "data": {
      "text/plain": [
       "Dual{Int64}(1,9)"
      ]
     },
     "execution_count": 48,
     "metadata": {},
     "output_type": "execute_result"
    }
   ],
   "source": [
    "f_test( xdual(1) )"
   ]
  },
  {
   "cell_type": "code",
   "execution_count": 49,
   "metadata": {
    "collapsed": false
   },
   "outputs": [
    {
     "name": "stdout",
     "output_type": "stream",
     "text": [
      "Dual{Int64}(1,1)"
     ]
    }
   ],
   "source": [
    "# Del resultado anterior, obtengan el valor de la derivada\n",
    "print(xdual(1))"
   ]
  },
  {
   "cell_type": "code",
   "execution_count": 50,
   "metadata": {
    "collapsed": false
   },
   "outputs": [
    {
     "data": {
      "text/plain": [
       "Dual{Float64}(1.0,1.0)"
      ]
     },
     "execution_count": 50,
     "metadata": {},
     "output_type": "execute_result"
    }
   ],
   "source": [
    "du1 = Dual(1.0, 1.0)"
   ]
  },
  {
   "cell_type": "code",
   "execution_count": 51,
   "metadata": {
    "collapsed": false
   },
   "outputs": [
    {
     "name": "stdout",
     "output_type": "stream",
     "text": [
      "Dual{Float64}(1.0,3.0)"
     ]
    }
   ],
   "source": [
    "print(du1^3)\n"
   ]
  },
  {
   "cell_type": "code",
   "execution_count": 52,
   "metadata": {
    "collapsed": false
   },
   "outputs": [
    {
     "name": "stdout",
     "output_type": "stream",
     "text": [
      "Dual{Float64}(3.0,9.0)\n"
     ]
    }
   ],
   "source": [
    "du2 = Dual(1.0, 3.0)\n",
    "println(du2*3)"
   ]
  },
  {
   "cell_type": "code",
   "execution_count": 53,
   "metadata": {
    "collapsed": false
   },
   "outputs": [
    {
     "name": "stdout",
     "output_type": "stream",
     "text": [
      "Dual{Float64}(1.0,9.0)\n"
     ]
    }
   ],
   "source": [
    "du3 = Dual(3.0, 9.0)\n",
    "println(du3-2)"
   ]
  },
  {
   "cell_type": "code",
   "execution_count": 54,
   "metadata": {
    "collapsed": false
   },
   "outputs": [
    {
     "data": {
      "text/plain": [
       "Dual{Float64}(1.0,9.0)"
      ]
     },
     "execution_count": 54,
     "metadata": {},
     "output_type": "execute_result"
    }
   ],
   "source": [
    "du4 = Dual(1.0, 9.0)"
   ]
  },
  {
   "cell_type": "code",
   "execution_count": 55,
   "metadata": {
    "collapsed": false
   },
   "outputs": [
    {
     "name": "stdout",
     "output_type": "stream",
     "text": [
      "9.0\n"
     ]
    }
   ],
   "source": [
    "#Derivada de f_test en x0 = 1\n",
    "println(du4.der)"
   ]
  },
  {
   "cell_type": "markdown",
   "metadata": {
    "slideshow": {
     "slide_type": "slide"
    }
   },
   "source": [
    "Consideremos otra función racional:\n",
    "\n",
    "$$\n",
    "g_\\textrm{test}(x) = (3x^2-8x+5)/(7x^3-1)\n",
    "$$\n",
    "\n",
    "cuya derivada queremos calcular en $x_0=1$. Según [WolframAlpha](http://www.wolframalpha.com/input/?i=D%5B+%283x%5E2-8x%2B5%29%2F%287x%5E3-1%29+%2C+x+%5D+%2F.+x-%3E+1), el resultado exacto es $-1/3$.\n"
   ]
  },
  {
   "cell_type": "code",
   "execution_count": 35,
   "metadata": {
    "collapsed": false
   },
   "outputs": [
    {
     "data": {
      "text/plain": [
       "gtest (generic function with 1 method)"
      ]
     },
     "execution_count": 35,
     "metadata": {},
     "output_type": "execute_result"
    }
   ],
   "source": [
    "gtest(x) = (3x^2-8x+5)/(7x^3-1)"
   ]
  },
  {
   "cell_type": "code",
   "execution_count": 36,
   "metadata": {
    "collapsed": false
   },
   "outputs": [
    {
     "data": {
      "text/plain": [
       "Dual{Float64}(0.0,-0.3333333333333333)"
      ]
     },
     "execution_count": 36,
     "metadata": {},
     "output_type": "execute_result"
    }
   ],
   "source": [
    "gtest( xdual(1) )"
   ]
  },
  {
   "cell_type": "markdown",
   "metadata": {
    "slideshow": {
     "slide_type": "subslide"
    }
   },
   "source": [
    "El resultado anterior es la representación en números de punto flotante de $-1/3$. La pregunta es si podemos obtener\n",
    "el resultado exacto."
   ]
  },
  {
   "cell_type": "code",
   "execution_count": 56,
   "metadata": {
    "collapsed": false
   },
   "outputs": [
    {
     "name": "stdout",
     "output_type": "stream",
     "text": [
      "Dual{Float64}(1.0,1.0)\n"
     ]
    }
   ],
   "source": [
    "# Evalúen `gtest` de manera que el resultado sea el exacto\n",
    "println(xdual(1.0))\n"
   ]
  },
  {
   "cell_type": "code",
   "execution_count": 57,
   "metadata": {
    "collapsed": false
   },
   "outputs": [
    {
     "name": "stdout",
     "output_type": "stream",
     "text": [
      "Dual{Float64}(1.0,2.0)\n",
      "Dual{Float64}(1.0,3.0)\n",
      "Dual{Float64}(8.0,8.0)\n"
     ]
    }
   ],
   "source": [
    "f1 = Dual(1.0, 1.0)\n",
    "\n",
    "#Calculando x^2\n",
    "println(f1^2)\n",
    "\n",
    "#Calculando x^3\n",
    "println(f1^3)\n",
    "\n",
    "#Calculando 8(x)\n",
    "println(f1*8)\n"
   ]
  },
  {
   "cell_type": "code",
   "execution_count": 58,
   "metadata": {
    "collapsed": false
   },
   "outputs": [
    {
     "data": {
      "text/plain": [
       "Dual{Float64}(8.0,8.0)"
      ]
     },
     "execution_count": 58,
     "metadata": {},
     "output_type": "execute_result"
    }
   ],
   "source": [
    "#Renombrando variables\n",
    "f2 = Dual(1.0, 2.0)\n",
    "f3 = Dual(1.0, 3.0)\n",
    "f4 = Dual(8.0, 8.0)"
   ]
  },
  {
   "cell_type": "code",
   "execution_count": 59,
   "metadata": {
    "collapsed": false
   },
   "outputs": [
    {
     "name": "stdout",
     "output_type": "stream",
     "text": [
      "Dual{Float64}(3.0,6.0)\n",
      "Dual{Float64}(7.0,21.0)\n"
     ]
    }
   ],
   "source": [
    "#Calculando 3(x^2)\n",
    "println(f2*3)\n",
    "\n",
    "#Calculando 7(x^3)\n",
    "println(7*f3)"
   ]
  },
  {
   "cell_type": "code",
   "execution_count": 60,
   "metadata": {
    "collapsed": false
   },
   "outputs": [
    {
     "data": {
      "text/plain": [
       "Dual{Float64}(7.0,21.0)"
      ]
     },
     "execution_count": 60,
     "metadata": {},
     "output_type": "execute_result"
    }
   ],
   "source": [
    "#Renombrando\n",
    "f5 = Dual(3.0, 6.0)\n",
    "f6 = Dual(7.0, 21.0)"
   ]
  },
  {
   "cell_type": "code",
   "execution_count": 61,
   "metadata": {
    "collapsed": false
   },
   "outputs": [
    {
     "name": "stdout",
     "output_type": "stream",
     "text": [
      "Dual{Float64}(-5.0,-2.0)\n"
     ]
    }
   ],
   "source": [
    "#Calculando el numerador\n",
    "println(f5-f4)"
   ]
  },
  {
   "cell_type": "code",
   "execution_count": 62,
   "metadata": {
    "collapsed": false
   },
   "outputs": [
    {
     "data": {
      "text/plain": [
       "Dual{Float64}(-5.0,-2.0)"
      ]
     },
     "execution_count": 62,
     "metadata": {},
     "output_type": "execute_result"
    }
   ],
   "source": [
    "f7 = Dual(-5.0, -2.0)"
   ]
  },
  {
   "cell_type": "code",
   "execution_count": 63,
   "metadata": {
    "collapsed": false
   },
   "outputs": [
    {
     "name": "stdout",
     "output_type": "stream",
     "text": [
      "Dual{Float64}(0.0,-2.0)\n"
     ]
    }
   ],
   "source": [
    "#Resultado del numerador\n",
    "println(f7+5)"
   ]
  },
  {
   "cell_type": "code",
   "execution_count": 65,
   "metadata": {
    "collapsed": false
   },
   "outputs": [
    {
     "data": {
      "text/plain": [
       "Dual{Float64}(0.0,-2.0)"
      ]
     },
     "execution_count": 65,
     "metadata": {},
     "output_type": "execute_result"
    }
   ],
   "source": [
    "f8 = Dual(0.0, -2.0)"
   ]
  },
  {
   "cell_type": "code",
   "execution_count": 66,
   "metadata": {
    "collapsed": false
   },
   "outputs": [
    {
     "name": "stdout",
     "output_type": "stream",
     "text": [
      "Dual{Float64}(6.0,21.0)\n"
     ]
    }
   ],
   "source": [
    "#Calculando el denominador\n",
    "println(f6-1)"
   ]
  },
  {
   "cell_type": "code",
   "execution_count": 67,
   "metadata": {
    "collapsed": false
   },
   "outputs": [
    {
     "data": {
      "text/plain": [
       "Dual{Float64}(6.0,21.0)"
      ]
     },
     "execution_count": 67,
     "metadata": {},
     "output_type": "execute_result"
    }
   ],
   "source": [
    "#Resultado del denominador\n",
    "f9 = Dual(6.0, 21.0)"
   ]
  },
  {
   "cell_type": "code",
   "execution_count": 68,
   "metadata": {
    "collapsed": false
   },
   "outputs": [
    {
     "name": "stdout",
     "output_type": "stream",
     "text": [
      "Dual{Float64}(0.0,-0.3333333333333333)\n"
     ]
    }
   ],
   "source": [
    "#Calculando f9/f10\n",
    "println(f8/f9)\n"
   ]
  },
  {
   "cell_type": "code",
   "execution_count": 69,
   "metadata": {
    "collapsed": false
   },
   "outputs": [
    {
     "data": {
      "text/plain": [
       "Dual{Float64}(0.0,-0.3333333333333333)"
      ]
     },
     "execution_count": 69,
     "metadata": {},
     "output_type": "execute_result"
    }
   ],
   "source": [
    "#Resultado de g_test evaluado en x0 = 1\n",
    "f10 = (f8/f9)\n"
   ]
  },
  {
   "cell_type": "code",
   "execution_count": null,
   "metadata": {
    "collapsed": true
   },
   "outputs": [],
   "source": [
    "\n"
   ]
  },
  {
   "cell_type": "markdown",
   "metadata": {
    "slideshow": {
     "slide_type": "slide"
    }
   },
   "source": [
    "Para entender cómo funciona esto, evaluaremos explícitamente y paso a paso $g_\\textrm{test}(x)$ en $\\vec{x_0} = (1,1)$:"
   ]
  },
  {
   "cell_type": "markdown",
   "metadata": {
    "slideshow": {
     "slide_type": "subslide"
    }
   },
   "source": [
    "\\begin{equation}\n",
    "\\vec{g}_\\textrm{test}(\\vec{x_0}) = \\frac{\\vec{3}\\cdot{\\vec{x_0}}^2-\\vec{8}\\cdot\\vec{x_0}+\\vec{5}}{\\vec{7}\\cdot{\\vec{x_0}}^3-\\vec{1}}\n",
    "\\end{equation}\n"
   ]
  },
  {
   "cell_type": "markdown",
   "metadata": {
    "slideshow": {
     "slide_type": "subslide"
    }
   },
   "source": [
    "\\begin{eqnarray}\n",
    "\\vec{g}_\\textrm{test}(\\vec{x_0}) & = & \n",
    "\\frac{(3,0)\\cdot{(1,1)}^2-(8,0)\\cdot(1,1)+(5,0)}{(7,0)\\cdot{(1,1)}^3-(1,0)}\\\\\n",
    "& = & \\frac{(3,0)\\cdot(1,2)-(8,0)\\cdot(1,1)+(5,0)}{(7,0)\\cdot(1,3)-(1,0)}\n",
    "\\end{eqnarray}\n"
   ]
  },
  {
   "cell_type": "markdown",
   "metadata": {
    "slideshow": {
     "slide_type": "subslide"
    }
   },
   "source": [
    "\\begin{equation}\n",
    "\\vec{g}_\\textrm{test}(\\vec{x_0}) = \n",
    "\\frac{ (3,6)-(8,1)+(5,0)}{(7,21)-(1,0)} = \\frac{ \\Big(3-8+5, 6-8\\Big)}{\\Big( 7-1,21\\Big)} = \n",
    "\\frac{ \\Big(0, -2\\Big)}{\\Big( 6,21\\Big)} \n",
    "\\end{equation}"
   ]
  },
  {
   "cell_type": "markdown",
   "metadata": {
    "slideshow": {
     "slide_type": "subslide"
    }
   },
   "source": [
    "\\begin{equation}\n",
    "\\vec{g}_\\textrm{test}(\\vec{x_0}) = \\Big(\\frac{0}{6}, \\frac{(-2)-21\\cdot(0/6)}{6} \\Big) = \n",
    "\\Big(0, -\\frac{1}{3}\\Big). \\Box\n",
    "\\end{equation}\n"
   ]
  },
  {
   "cell_type": "markdown",
   "metadata": {
    "slideshow": {
     "slide_type": "slide"
    }
   },
   "source": [
    "## Modulos y \"runtests.jl\" en julia"
   ]
  },
  {
   "cell_type": "markdown",
   "metadata": {},
   "source": [
    "### Ejercicio\n",
    "\n",
    "Para reutilizar el código que han hecho en este notebook, y de hecho seguirlo desarrollando, conviene ponerlo dentro de un módulo. Para hacer esto, deberán copiar todo el código necesario (y que aparece en la resolución de los ejercicios anteriores) en un archivo coyo nombre será \"AutomDiff.jl\" y cuya estructura es:\n",
    "\n",
    "```julia\n",
    "# Aqui viene una explicación de lo que se hace en el módulo, los autores y la fecha\n",
    "\n",
    "# La siguiente instrucción sirve para *precompilar* el módulo\n",
    "__precompile__(true)\n",
    "\n",
    "module AD\n",
    "    import Base: +, -, *, /, ^\n",
    "    \n",
    "    export Dual, xdual\n",
    "    \n",
    "    # Aqui viene TODO el código que implementaron\n",
    "\n",
    "end\n",
    "```\n",
    "\n",
    "Todas las pruebas deberán ser incluídas en un archivo llamado \"runtest.jl\", y su estructura es:\n",
    "\n",
    "```julia\n",
    "# Este archivo incluye los tests del módulo AD\n",
    "include(\"AutomDiff.jl\")\n",
    "using Base.test\n",
    "using AD\n",
    "\n",
    "# A continuación vienen los tests que implementaron y que deben \n",
    "# ser suficientemente exhaustivos\n",
    "\n",
    "\n",
    "```\n",
    "\n",
    "Estos dos archivos deben incluirlos en el envío de su tarea."
   ]
  },
  {
   "cell_type": "code",
   "execution_count": null,
   "metadata": {
    "collapsed": true
   },
   "outputs": [],
   "source": []
  }
 ],
 "metadata": {
  "kernelspec": {
   "display_name": "Julia 0.4.3",
   "language": "julia",
   "name": "julia-0.4"
  },
  "language_info": {
   "file_extension": ".jl",
   "mimetype": "application/julia",
   "name": "julia",
   "version": "0.4.3"
  }
 },
 "nbformat": 4,
 "nbformat_minor": 0
}
