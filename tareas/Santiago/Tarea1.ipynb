{
 "cells": [
  {
   "cell_type": "markdown",
   "metadata": {},
   "source": [
    "# Tarea 1: Raíces cuadráticas\n",
    "## Santiago Ontañón Sánchez"
   ]
  },
  {
   "cell_type": "markdown",
   "metadata": {},
   "source": [
    "Lo primero que se hace es escribir la forma general de la función. Esta considera todos los tipos de casos que pueden suceder para los coeficientes reales `a,b,c.`"
   ]
  },
  {
   "cell_type": "code",
   "execution_count": 1,
   "metadata": {
    "collapsed": false
   },
   "outputs": [
    {
     "data": {
      "text/plain": [
       "cuad (generic function with 1 method)"
      ]
     },
     "execution_count": 1,
     "metadata": {},
     "output_type": "execute_result"
    }
   ],
   "source": [
    "function cuad(a,b,c)\n",
    "    d = b^2-4*a*c\n",
    "    if (a == 0) & (b == 0) & (c == 0)\n",
    "        println(\"Solucion trivial con coeficientes cero.\")\n",
    "    elseif (a == 0) & (b == 0)\n",
    "        println(\"Error, $c = 0.\")\n",
    "    elseif (a == 0)\n",
    "        x1 = -c/b\n",
    "        println(\"Solucion reducible a un grado, x = $x1\")\n",
    "        return x1\n",
    "    elseif d == 0\n",
    "        x1 = -b/2*a\n",
    "        println(\"La solucion es de doble multiplicidad: x = $x1\")\n",
    "        return x1\n",
    "    elseif d > 0\n",
    "        x1 = (-b+sqrt(d))/2*a\n",
    "        x2 = (-b-sqrt(d))/2*a\n",
    "        println(\"Las soluciones reales son $x1, $x2.\")\n",
    "        return x1, x2\n",
    "    elseif d < 0\n",
    "        x1 = -b/2*a\n",
    "        x1i = sqrt(-d)/2*a\n",
    "        x2 = -b/2*a\n",
    "        x2i = -sqrt(-d)/2*a\n",
    "        println(\"Las soluciones son complejas: x1 = ($x1,$x1i i), x2 = ($x2,$x2i)\")\n",
    "        return ((x1,x1i),(x2,x2i))\n",
    "    end\n",
    "end"
   ]
  },
  {
   "cell_type": "markdown",
   "metadata": {},
   "source": [
    "A continuación un ejemplo para cada caso:"
   ]
  },
  {
   "cell_type": "code",
   "execution_count": 2,
   "metadata": {
    "collapsed": false
   },
   "outputs": [
    {
     "name": "stdout",
     "output_type": "stream",
     "text": [
      "Solucion trivial con coeficientes cero.\n"
     ]
    }
   ],
   "source": [
    "cuad(0,0,0)"
   ]
  },
  {
   "cell_type": "code",
   "execution_count": 3,
   "metadata": {
    "collapsed": false
   },
   "outputs": [
    {
     "data": {
      "text/plain": [
       "Void"
      ]
     },
     "execution_count": 3,
     "metadata": {},
     "output_type": "execute_result"
    }
   ],
   "source": [
    "typeof(ans)"
   ]
  },
  {
   "cell_type": "code",
   "execution_count": 4,
   "metadata": {
    "collapsed": false
   },
   "outputs": [
    {
     "name": "stdout",
     "output_type": "stream",
     "text": [
      "Error, 1 = 0.\n"
     ]
    }
   ],
   "source": [
    "cuad(0,0,1)"
   ]
  },
  {
   "cell_type": "code",
   "execution_count": 5,
   "metadata": {
    "collapsed": false
   },
   "outputs": [
    {
     "data": {
      "text/plain": [
       "Void"
      ]
     },
     "execution_count": 5,
     "metadata": {},
     "output_type": "execute_result"
    }
   ],
   "source": [
    "typeof(ans)"
   ]
  },
  {
   "cell_type": "code",
   "execution_count": 6,
   "metadata": {
    "collapsed": false
   },
   "outputs": [
    {
     "name": "stdout",
     "output_type": "stream",
     "text": [
      "Solucion reducible a un grado, x = -2.0\n"
     ]
    },
    {
     "data": {
      "text/plain": [
       "-2.0"
      ]
     },
     "execution_count": 6,
     "metadata": {},
     "output_type": "execute_result"
    }
   ],
   "source": [
    "cuad(0,1,2)"
   ]
  },
  {
   "cell_type": "code",
   "execution_count": 7,
   "metadata": {
    "collapsed": false
   },
   "outputs": [
    {
     "data": {
      "text/plain": [
       "Float64"
      ]
     },
     "execution_count": 7,
     "metadata": {},
     "output_type": "execute_result"
    }
   ],
   "source": [
    "typeof(ans)"
   ]
  },
  {
   "cell_type": "code",
   "execution_count": 8,
   "metadata": {
    "collapsed": false
   },
   "outputs": [
    {
     "name": "stdout",
     "output_type": "stream",
     "text": [
      "La solucion es de doble multiplicidad: x = -1.0\n"
     ]
    },
    {
     "data": {
      "text/plain": [
       "-1.0"
      ]
     },
     "execution_count": 8,
     "metadata": {},
     "output_type": "execute_result"
    }
   ],
   "source": [
    "cuad(1,2,1)"
   ]
  },
  {
   "cell_type": "code",
   "execution_count": 9,
   "metadata": {
    "collapsed": false
   },
   "outputs": [
    {
     "data": {
      "text/plain": [
       "Float64"
      ]
     },
     "execution_count": 9,
     "metadata": {},
     "output_type": "execute_result"
    }
   ],
   "source": [
    "typeof(ans)"
   ]
  },
  {
   "cell_type": "code",
   "execution_count": 10,
   "metadata": {
    "collapsed": false
   },
   "outputs": [
    {
     "name": "stdout",
     "output_type": "stream",
     "text": [
      "Las soluciones reales son -1.0, -4.0.\n"
     ]
    },
    {
     "data": {
      "text/plain": [
       "(-1.0,-4.0)"
      ]
     },
     "execution_count": 10,
     "metadata": {},
     "output_type": "execute_result"
    }
   ],
   "source": [
    "cuad(1,5,4)"
   ]
  },
  {
   "cell_type": "code",
   "execution_count": 11,
   "metadata": {
    "collapsed": false
   },
   "outputs": [
    {
     "data": {
      "text/plain": [
       "Tuple{Float64,Float64}"
      ]
     },
     "execution_count": 11,
     "metadata": {},
     "output_type": "execute_result"
    }
   ],
   "source": [
    "typeof(ans)"
   ]
  },
  {
   "cell_type": "code",
   "execution_count": 12,
   "metadata": {
    "collapsed": false
   },
   "outputs": [
    {
     "name": "stdout",
     "output_type": "stream",
     "text": [
      "Las soluciones son complejas: x1 = (0.0,1.0 i), x2 = (0.0,-1.0)\n"
     ]
    },
    {
     "data": {
      "text/plain": [
       "((0.0,1.0),(0.0,-1.0))"
      ]
     },
     "execution_count": 12,
     "metadata": {},
     "output_type": "execute_result"
    }
   ],
   "source": [
    "cuad(1,0,1)"
   ]
  },
  {
   "cell_type": "code",
   "execution_count": 13,
   "metadata": {
    "collapsed": false
   },
   "outputs": [
    {
     "data": {
      "text/plain": [
       "Tuple{Tuple{Float64,Float64},Tuple{Float64,Float64}}"
      ]
     },
     "execution_count": 13,
     "metadata": {},
     "output_type": "execute_result"
    }
   ],
   "source": [
    "typeof(ans)"
   ]
  },
  {
   "cell_type": "markdown",
   "metadata": {},
   "source": [
    "Como se puede ver, la función da los resultados correctos. Sin embargo, no es de tipo estable pues tuvimos salidas de muchos tipos, desde `Void` hasta un tuple doble de tipo `Float64`. ¿Cómo arreglamos esto? Lo que se hace es ver si hay un tipo de output que podemos generalizar para todos. Lo que se optó fue tomar la doble tupla. En el caso de que sea un error devuelve `(NaN, NaN),(NaN, NaN)`; en caso de que sea una sola solución real se llena sólo la primera parte de la tupla exterior (indicando que se trata de una solución) y luego sólo la primera parte de la segunda tupla (indicando que sólo tienen parte real); así sucesivamente hasta llegar al caso más general. Esta función la llamamos `cuads`."
   ]
  },
  {
   "cell_type": "code",
   "execution_count": 14,
   "metadata": {
    "collapsed": false
   },
   "outputs": [
    {
     "data": {
      "text/plain": [
       "cuads (generic function with 1 method)"
      ]
     },
     "execution_count": 14,
     "metadata": {},
     "output_type": "execute_result"
    }
   ],
   "source": [
    "\"\"\"\n",
    "cuads(a,b,c)\n",
    "\n",
    "Función que recibe entradas reales a,b,c y resuleve la ecuación cuadrática a*x^2+b*x+c=0.\n",
    "Si las entradas no son del tipo `Float64` se convierten a este tipo\n",
    "Dependiendo de las combinaciones de entradas pueden existir dos soluciones complejas, dos\n",
    "soluciones reales, una solución real o ninguna.\n",
    "\n",
    "Sin importar los tipos de entrada, la salida es una doble tupla \n",
    "`Tuple{Tuple{Float64,Float64},Tuple{Float64,Float64}}`, de tal manera que en la primera parte\n",
    "`Tuple{Float64,Float64}` se ponga la primera o única solución de la forma `ParteReal, ParteIm`\n",
    "y en la segunda `Tuple{Float64,Float64}` se ponga la otra solución. Si no existe segunda \n",
    "solución o ninguna, se devuelve cada tupla con la forma `NaN, NaN`.\n",
    "\n",
    "Ejemplos:\n",
    "\n",
    "julia> cuads(0,0,0)\n",
    "\n",
    "Solucion trivial con coeficientes cero.\n",
    "\n",
    "((NaN,NaN),(NaN,NaN))\n",
    "\n",
    "julia> cuads(0,1,-1)\n",
    "\n",
    "Solucion reducible a un grado, x = 1.0\n",
    "\n",
    "((1.0,0.0)),(NaN,NaN))\n",
    "\n",
    "julia> cuads(1,0,1)\n",
    "\n",
    "Las soluciones son complejas: x1 = (0.0,1.0 i), x2 = (0.0, -1.0 i)\n",
    "\n",
    "((0.0,1.0),(0.0,-1.0))\n",
    "\n",
    "\"\"\"\n",
    "\n",
    "function cuads(a,b,c)\n",
    "    if (typeof(a)!=Float64) || (typeof(b)!=Float64) || (typeof(c)==Float64)\n",
    "        a,b,c = Float64(a),Float64(b),Float64(c)\n",
    "    end\n",
    "    \n",
    "    d = b^2.0-4.0*a*c\n",
    "    \n",
    "    if (a == 0.0) & (b == 0.0) & (c == 0.0)\n",
    "        println(\"Solucion trivial con coeficientes cero.\")\n",
    "        return ((NaN,NaN),(NaN,NaN))\n",
    "    elseif (a == 0.0) & (b == 0.0)\n",
    "        println(\"Error, $c = 0.\")\n",
    "        return ((NaN,NaN),(NaN,NaN))\n",
    "    elseif (a == 0.0)\n",
    "        x1 = -c/b\n",
    "        println(\"Solucion reducible a un grado, x = $x1\")\n",
    "        return ((x1,0.0),(NaN,NaN))\n",
    "    elseif d == 0.0\n",
    "        x1 = -b/2.0*a\n",
    "        println(\"La solucion es de doble multiplicidad: x = $x1\")\n",
    "        return ((x1,0.0),(x1,0.0))\n",
    "    elseif d > 0.0\n",
    "        x1 = (-b+sqrt(d))/2.0*a\n",
    "        x2 = (-b-sqrt(d))/2.0*a\n",
    "        println(\"Las soluciones reales son $x1, $x2.\")\n",
    "        return ((x1,0.0),(x2,0.0))\n",
    "    elseif d < 0.0\n",
    "        x1 = -b/2.0*a\n",
    "        x1i = sqrt(-d)/2.0*a\n",
    "        x2 = -b/2.0*a\n",
    "        x2i = -sqrt(-d)/2.0*a\n",
    "        println(\"Las soluciones son complejas: x1 = ($x1,$x1i i), x2 = ($x2,$x2i i)\")\n",
    "        return ((x1,x1i),(x2,x2i))\n",
    "    end\n",
    "end"
   ]
  },
  {
   "cell_type": "markdown",
   "metadata": {},
   "source": [
    "Nótese que aquí se ha añadido otro paso importante: las variables `a,b,c` se convierten inmediatamente como `Float64` y todas las operaciones, tanto de comparación como de aritmética tienen los factores numéricos de forma `Float64` explícitamente. Así los tipos se mantienen estables y siempre son `Float64` **sin importar el tipo de entrada**.\n",
    "\n",
    "A continuación los mismos ejemplos pero ahora con la función mejorada. Nótese que todas las salidas son del mismo tipo:"
   ]
  },
  {
   "cell_type": "code",
   "execution_count": 15,
   "metadata": {
    "collapsed": false
   },
   "outputs": [
    {
     "name": "stdout",
     "output_type": "stream",
     "text": [
      "Solucion trivial con coeficientes cero.\n"
     ]
    },
    {
     "data": {
      "text/plain": [
       "((NaN,NaN),(NaN,NaN))"
      ]
     },
     "execution_count": 15,
     "metadata": {},
     "output_type": "execute_result"
    }
   ],
   "source": [
    "cuads(0,0,0)"
   ]
  },
  {
   "cell_type": "code",
   "execution_count": 16,
   "metadata": {
    "collapsed": false
   },
   "outputs": [
    {
     "data": {
      "text/plain": [
       "Tuple{Tuple{Float64,Float64},Tuple{Float64,Float64}}"
      ]
     },
     "execution_count": 16,
     "metadata": {},
     "output_type": "execute_result"
    }
   ],
   "source": [
    "typeof(ans)"
   ]
  },
  {
   "cell_type": "code",
   "execution_count": 17,
   "metadata": {
    "collapsed": false
   },
   "outputs": [
    {
     "name": "stdout",
     "output_type": "stream",
     "text": [
      "Error, 1.0 = 0.\n"
     ]
    },
    {
     "data": {
      "text/plain": [
       "((NaN,NaN),(NaN,NaN))"
      ]
     },
     "execution_count": 17,
     "metadata": {},
     "output_type": "execute_result"
    }
   ],
   "source": [
    "cuads(0,0,1)"
   ]
  },
  {
   "cell_type": "code",
   "execution_count": 18,
   "metadata": {
    "collapsed": false
   },
   "outputs": [
    {
     "data": {
      "text/plain": [
       "Tuple{Tuple{Float64,Float64},Tuple{Float64,Float64}}"
      ]
     },
     "execution_count": 18,
     "metadata": {},
     "output_type": "execute_result"
    }
   ],
   "source": [
    "typeof(ans)"
   ]
  },
  {
   "cell_type": "code",
   "execution_count": 19,
   "metadata": {
    "collapsed": false
   },
   "outputs": [
    {
     "name": "stdout",
     "output_type": "stream",
     "text": [
      "Solucion reducible a un grado, x = 1.0\n"
     ]
    },
    {
     "data": {
      "text/plain": [
       "((1.0,0.0),(NaN,NaN))"
      ]
     },
     "execution_count": 19,
     "metadata": {},
     "output_type": "execute_result"
    }
   ],
   "source": [
    "cuads(0,1,-1)"
   ]
  },
  {
   "cell_type": "code",
   "execution_count": 20,
   "metadata": {
    "collapsed": false
   },
   "outputs": [
    {
     "data": {
      "text/plain": [
       "Tuple{Tuple{Float64,Float64},Tuple{Float64,Float64}}"
      ]
     },
     "execution_count": 20,
     "metadata": {},
     "output_type": "execute_result"
    }
   ],
   "source": [
    "typeof(ans)"
   ]
  },
  {
   "cell_type": "code",
   "execution_count": 21,
   "metadata": {
    "collapsed": false
   },
   "outputs": [
    {
     "name": "stdout",
     "output_type": "stream",
     "text": [
      "La solucion es de doble multiplicidad: x = -1.0\n"
     ]
    },
    {
     "data": {
      "text/plain": [
       "((-1.0,0.0),(-1.0,0.0))"
      ]
     },
     "execution_count": 21,
     "metadata": {},
     "output_type": "execute_result"
    }
   ],
   "source": [
    "cuads(1,2,1)"
   ]
  },
  {
   "cell_type": "code",
   "execution_count": 22,
   "metadata": {
    "collapsed": false
   },
   "outputs": [
    {
     "data": {
      "text/plain": [
       "Tuple{Tuple{Float64,Float64},Tuple{Float64,Float64}}"
      ]
     },
     "execution_count": 22,
     "metadata": {},
     "output_type": "execute_result"
    }
   ],
   "source": [
    "typeof(ans)"
   ]
  },
  {
   "cell_type": "code",
   "execution_count": 23,
   "metadata": {
    "collapsed": false
   },
   "outputs": [
    {
     "name": "stdout",
     "output_type": "stream",
     "text": [
      "Las soluciones reales son -1.0, -4.0.\n"
     ]
    },
    {
     "data": {
      "text/plain": [
       "((-1.0,0.0),(-4.0,0.0))"
      ]
     },
     "execution_count": 23,
     "metadata": {},
     "output_type": "execute_result"
    }
   ],
   "source": [
    "cuads(1,5,4)"
   ]
  },
  {
   "cell_type": "code",
   "execution_count": 24,
   "metadata": {
    "collapsed": false
   },
   "outputs": [
    {
     "data": {
      "text/plain": [
       "Tuple{Tuple{Float64,Float64},Tuple{Float64,Float64}}"
      ]
     },
     "execution_count": 24,
     "metadata": {},
     "output_type": "execute_result"
    }
   ],
   "source": [
    "typeof(ans)"
   ]
  },
  {
   "cell_type": "code",
   "execution_count": 25,
   "metadata": {
    "collapsed": false
   },
   "outputs": [
    {
     "name": "stdout",
     "output_type": "stream",
     "text": [
      "Las soluciones son complejas: x1 = (-0.0,1.0 i), x2 = (-0.0,-1.0 i)\n"
     ]
    },
    {
     "data": {
      "text/plain": [
       "((-0.0,1.0),(-0.0,-1.0))"
      ]
     },
     "execution_count": 25,
     "metadata": {},
     "output_type": "execute_result"
    }
   ],
   "source": [
    "cuads(1,0,1)"
   ]
  },
  {
   "cell_type": "code",
   "execution_count": 26,
   "metadata": {
    "collapsed": false
   },
   "outputs": [
    {
     "data": {
      "text/plain": [
       "Tuple{Tuple{Float64,Float64},Tuple{Float64,Float64}}"
      ]
     },
     "execution_count": 26,
     "metadata": {},
     "output_type": "execute_result"
    }
   ],
   "source": [
    "typeof(ans)"
   ]
  },
  {
   "cell_type": "markdown",
   "metadata": {},
   "source": [
    "Como se puede ver en la declaración de la función, tiene su propia documentación que se puede acceder:"
   ]
  },
  {
   "cell_type": "code",
   "execution_count": 27,
   "metadata": {
    "collapsed": false
   },
   "outputs": [
    {
     "name": "stdout",
     "output_type": "stream",
     "text": [
      "search: "
     ]
    },
    {
     "data": {
      "text/latex": [
       "cuads(a,b,c)\n",
       "Función que recibe entradas reales a,b,c y resuleve la ecuación cuadrática a\\emph{x\\^{}2+b}x+c=0. Si las entradas no son del tipo \\texttt{Float64} se convierten a este tipo Dependiendo de las combinaciones de entradas pueden existir dos soluciones complejas, dos soluciones reales, una solución real o ninguna.\n",
       "Sin importar los tipos de entrada, la salida es una doble tupla  \\texttt{Tuple{Tuple{Float64,Float64},Tuple{Float64,Float64}}}, de tal manera que en la primera parte \\texttt{Tuple{Float64,Float64}} se ponga la primera o única solución de la forma \\texttt{ParteReal, ParteIm} y en la segunda \\texttt{Tuple{Float64,Float64}} se ponga la otra solución. Si no existe segunda  solución o ninguna, se devuelve cada tupla con la forma \\texttt{NaN, NaN}.\n",
       "Ejemplos:\n",
       "julia> cuads(0,0,0)\n",
       "Solucion trivial con coeficientes cero.\n",
       "((NaN,NaN),(NaN,NaN))\n",
       "julia> cuads(0,1,-1)\n",
       "Solucion reducible a un grado, x = 1.0\n",
       "((1.0,0.0)),(NaN,NaN))\n",
       "julia> cuads(1,0,1)\n",
       "Las soluciones son complejas: x1 = (0.0,1.0 i), x2 = (0.0, -1.0 i)\n",
       "((0.0,1.0),(0.0,-1.0))\n"
      ],
      "text/markdown": [
       "cuads(a,b,c)\n",
       "\n",
       "Función que recibe entradas reales a,b,c y resuleve la ecuación cuadrática a*x^2+b*x+c=0. Si las entradas no son del tipo `Float64` se convierten a este tipo Dependiendo de las combinaciones de entradas pueden existir dos soluciones complejas, dos soluciones reales, una solución real o ninguna.\n",
       "\n",
       "Sin importar los tipos de entrada, la salida es una doble tupla  `Tuple{Tuple{Float64,Float64},Tuple{Float64,Float64}}`, de tal manera que en la primera parte `Tuple{Float64,Float64}` se ponga la primera o única solución de la forma `ParteReal, ParteIm` y en la segunda `Tuple{Float64,Float64}` se ponga la otra solución. Si no existe segunda  solución o ninguna, se devuelve cada tupla con la forma `NaN, NaN`.\n",
       "\n",
       "Ejemplos:\n",
       "\n",
       "julia> cuads(0,0,0)\n",
       "\n",
       "Solucion trivial con coeficientes cero.\n",
       "\n",
       "((NaN,NaN),(NaN,NaN))\n",
       "\n",
       "julia> cuads(0,1,-1)\n",
       "\n",
       "Solucion reducible a un grado, x = 1.0\n",
       "\n",
       "((1.0,0.0)),(NaN,NaN))\n",
       "\n",
       "julia> cuads(1,0,1)\n",
       "\n",
       "Las soluciones son complejas: x1 = (0.0,1.0 i), x2 = (0.0, -1.0 i)\n",
       "\n",
       "((0.0,1.0),(0.0,-1.0))\n"
      ],
      "text/plain": [
       "cuads(a,b,c)\n",
       "\n",
       "Función que recibe entradas reales a,b,c y resuleve la ecuación cuadrática a*x^2+b*x+c=0. Si las entradas no son del tipo `Float64` se convierten a este tipo Dependiendo de las combinaciones de entradas pueden existir dos soluciones complejas, dos soluciones reales, una solución real o ninguna.\n",
       "\n",
       "Sin importar los tipos de entrada, la salida es una doble tupla  `Tuple{Tuple{Float64,Float64},Tuple{Float64,Float64}}`, de tal manera que en la primera parte `Tuple{Float64,Float64}` se ponga la primera o única solución de la forma `ParteReal, ParteIm` y en la segunda `Tuple{Float64,Float64}` se ponga la otra solución. Si no existe segunda  solución o ninguna, se devuelve cada tupla con la forma `NaN, NaN`.\n",
       "\n",
       "Ejemplos:\n",
       "\n",
       "julia> cuads(0,0,0)\n",
       "\n",
       "Solucion trivial con coeficientes cero.\n",
       "\n",
       "((NaN,NaN),(NaN,NaN))\n",
       "\n",
       "julia> cuads(0,1,-1)\n",
       "\n",
       "Solucion reducible a un grado, x = 1.0\n",
       "\n",
       "((1.0,0.0)),(NaN,NaN))\n",
       "\n",
       "julia> cuads(1,0,1)\n",
       "\n",
       "Las soluciones son complejas: x1 = (0.0,1.0 i), x2 = (0.0, -1.0 i)\n",
       "\n",
       "((0.0,1.0),(0.0,-1.0))\n"
      ]
     },
     "execution_count": 27,
     "metadata": {},
     "output_type": "execute_result"
    },
    {
     "name": "stdout",
     "output_type": "stream",
     "text": [
      "cuads cuad\n",
      "\n"
     ]
    }
   ],
   "source": [
    "?cuads"
   ]
  },
  {
   "cell_type": "code",
   "execution_count": null,
   "metadata": {
    "collapsed": true
   },
   "outputs": [],
   "source": []
  }
 ],
 "metadata": {
  "kernelspec": {
   "display_name": "Julia 0.4.2",
   "language": "julia",
   "name": "julia-0.4"
  },
  "language_info": {
   "file_extension": ".jl",
   "mimetype": "application/julia",
   "name": "julia",
   "version": "0.4.2"
  }
 },
 "nbformat": 4,
 "nbformat_minor": 0
}
