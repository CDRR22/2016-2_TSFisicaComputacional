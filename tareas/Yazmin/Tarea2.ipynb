{
 "cells": [
  {
   "cell_type": "markdown",
   "metadata": {},
   "source": [
    "# Tarea 2\n",
    "\n",
    "#### Eva Yazmín Santiago Santos\n",
    "#### César Daniel Rodríguez Rosenblueth"
   ]
  },
  {
   "cell_type": "markdown",
   "metadata": {},
   "source": [
    "Como siempre, documenten **todo** lo que hacen en el notebook\n",
    "\n",
    "Se recomienda que *colaboren* (equipos de máximo dos personas) en la tarea."
   ]
  },
  {
   "cell_type": "markdown",
   "metadata": {},
   "source": [
    "## 1. Histogramas\n",
    "\n",
    "Usando la función `randn`, generen $N$ valores tipo `Float64` al azar ($N\\sim 10000$, o mayor, es razonable). Construyan la función `histograma`, que regresa un vector de tamaño $n_{hist}$ (que es un argumento de la función) y que contiene el histograma de frecuencias *sin normalizar*. Esto es, la primer componente del vector corresponde al número de valores generados al azar que caen en el intervalo (llamado *bin* en inglés) $[x_0, x_1)$, los de la segunda componente caen en el intervalo $[x_1, x_2)$, etc, hasta $[x_{n_{hist}-1}, x{n_{hist}})$, donde el tamaño de los intervalos es el mismo y corresponde a $\\Delta x = (\\textrm{sup}(x)-\\textrm{inf}(x))/n_{hist}$. (No escatimen en estética.)\n",
    "\n",
    "Dibujen el histograma a partir de sus datos.\n",
    "\n",
    "PyPlot (matplotlib) de hecho tiene [una función]() útil para dibujar histogramas a partir de los datos directamente. Utilizando esa función, muestren el histograma de sus datos. Debería ser muy parecida a la que ya obtuvieron antes.\n",
    "\n",
    "NOTA: Hay esencialmente dos formas de hacerlo, que se distinguen por el número de veces que uno lee los datos. Traten de hacer su implementación usando *una* lectura de los datos. (Si no pueden, llevarán sobre sus hombros esa carga toda su vida.)"
   ]
  },
  {
   "cell_type": "code",
   "execution_count": 1,
   "metadata": {
    "collapsed": false,
    "scrolled": false
   },
   "outputs": [],
   "source": [
    "using PyPlot"
   ]
  },
  {
   "cell_type": "markdown",
   "metadata": {},
   "source": [
    "Agregamos el paquete Vega porque una de nuestras funciones, histograma1 la utiliza para graficar barras. Intentamos graficar las barras con pyplot originalmente pero tuvimos problemas con su ancho y se sobreponían."
   ]
  },
  {
   "cell_type": "code",
   "execution_count": 2,
   "metadata": {
    "collapsed": false
   },
   "outputs": [
    {
     "name": "stderr",
     "output_type": "stream",
     "text": [
      "INFO: Nothing to be done\n",
      "INFO: METADATA is out-of-date — you may not have the latest version of Vega\n",
      "INFO: Use `Pkg.update()` to get the latest versions of your packages\n"
     ]
    }
   ],
   "source": [
    "Pkg.add(\"Vega\")\n",
    "using Vega"
   ]
  },
  {
   "cell_type": "code",
   "execution_count": 66,
   "metadata": {
    "collapsed": false
   },
   "outputs": [
    {
     "data": {
      "text/plain": [
       "histograma1 (generic function with 1 method)"
      ]
     },
     "execution_count": 66,
     "metadata": {},
     "output_type": "execute_result"
    }
   ],
   "source": [
    "M=10000\n",
    "r = randn(M)\n",
    "\n",
    "function histograma1(rdm, nh)\n",
    "    max = maximum(rdm)\n",
    "    min = minimum(rdm)\n",
    "    dx = (max - min)/nh\n",
    "    nhist=[]\n",
    "    hist=zeros(nh)\n",
    "    n=0\n",
    "    for\n",
    "        k=1:nh\n",
    "        delx = min+k*dx\n",
    "        push!(nhist,delx)\n",
    "    end\n",
    "    for j in rdm \n",
    "        for i= 1:nh\n",
    "            if i<nh\n",
    "                if j>=(min+dx*(i-1))\n",
    "                    if j<(min+dx*i)\n",
    "                        hist[i]=hist[i]+1\n",
    "                    end  \n",
    "                end\n",
    "            end\n",
    "            if i==nh\n",
    "                if j>=(min+dx*(i-1))\n",
    "                    hist[i]=hist[i]+1\n",
    "                end\n",
    "            end\n",
    "        end\n",
    "    end\n",
    "    barplot(x=nhist,y=hist)    \n",
    "end \n",
    "\n",
    "\n"
   ]
  },
  {
   "cell_type": "code",
   "execution_count": 67,
   "metadata": {
    "collapsed": false,
    "scrolled": false
   },
   "outputs": [
    {
     "data": {
      "text/html": [
       "\n",
       "<body>\n",
       "  <div id=\"vgkQx\"></div>\n",
       "</body>\n",
       "\n",
       "  <script type=\"text/javascript\">\n",
       "\n",
       "      require.config({\n",
       "        paths: {\n",
       "          d3: \"https://vega.github.io/vega-editor/vendor/d3.min\",\n",
       "          vega: \"https://vega.github.io/vega/vega.min\",\n",
       "          cloud: \"https://vega.github.io/vega-editor/vendor/d3.layout.cloud\",\n",
       "          topojson: \"https://vega.github.io/vega-editor/vendor/topojson\"\n",
       "        }\n",
       "      });\n",
       "\n",
       "      require([\"d3\", \"topojson\", \"cloud\"], function(d3, topojson, cloud){\n",
       "\n",
       "          window.d3 = d3;\n",
       "          window.topojson = topojson;\n",
       "          window.d3.layout.cloud = cloud;\n",
       "\n",
       "                require([\"vega\"], function(vg) {\n",
       "\n",
       "                vg.parse.spec({\"name\":\"Vega Visualization\",\"height\":450,\"padding\":\"auto\",\"marks\":[{\"properties\":{\"enter\":{\"x\":{\"field\":\"x\",\"scale\":\"x\"},\"y2\":{\"field\":\"y2\",\"scale\":\"y\"},\"width\":{\"offset\":-1,\"scale\":\"x\",\"band\":true},\"fill\":{\"field\":\"group\",\"scale\":\"group\"},\"y\":{\"field\":\"y\",\"scale\":\"y\"}}},\"from\":{\"data\":\"table_gkjwe\"},\"type\":\"rect\"}],\"axes\":[{\"layer\":\"front\",\"properties\":{\"title\":{\"fontSize\":{\"value\":14}}},\"title\":\"x\",\"grid\":false,\"type\":\"x\",\"scale\":\"x\"},{\"layer\":\"front\",\"properties\":{\"title\":{\"fontSize\":{\"value\":14}}},\"title\":\"y\",\"grid\":false,\"type\":\"y\",\"scale\":\"y\"}],\"data\":[{\"name\":\"table_gkjwe\",\"values\":[{\"x\":-3.479057182822641,\"y2\":0,\"group\":1,\"y\":2.0},{\"x\":-3.406204613016428,\"y2\":0,\"group\":1,\"y\":0.0},{\"x\":-3.3333520432102155,\"y2\":0,\"group\":1,\"y\":1.0},{\"x\":-3.2604994734040025,\"y2\":0,\"group\":1,\"y\":0.0},{\"x\":-3.18764690359779,\"y2\":0,\"group\":1,\"y\":1.0},{\"x\":-3.114794333791577,\"y2\":0,\"group\":1,\"y\":0.0},{\"x\":-3.0419417639853643,\"y2\":0,\"group\":1,\"y\":3.0},{\"x\":-2.9690891941791513,\"y2\":0,\"group\":1,\"y\":4.0},{\"x\":-2.8962366243729387,\"y2\":0,\"group\":1,\"y\":2.0},{\"x\":-2.8233840545667257,\"y2\":0,\"group\":1,\"y\":5.0},{\"x\":-2.750531484760513,\"y2\":0,\"group\":1,\"y\":5.0},{\"x\":-2.6776789149543,\"y2\":0,\"group\":1,\"y\":5.0},{\"x\":-2.6048263451480875,\"y2\":0,\"group\":1,\"y\":11.0},{\"x\":-2.531973775341875,\"y2\":0,\"group\":1,\"y\":5.0},{\"x\":-2.459121205535662,\"y2\":0,\"group\":1,\"y\":15.0},{\"x\":-2.386268635729449,\"y2\":0,\"group\":1,\"y\":15.0},{\"x\":-2.3134160659232363,\"y2\":0,\"group\":1,\"y\":17.0},{\"x\":-2.2405634961170238,\"y2\":0,\"group\":1,\"y\":23.0},{\"x\":-2.1677109263108107,\"y2\":0,\"group\":1,\"y\":25.0},{\"x\":-2.0948583565045977,\"y2\":0,\"group\":1,\"y\":24.0},{\"x\":-2.022005786698385,\"y2\":0,\"group\":1,\"y\":33.0},{\"x\":-1.9491532168921724,\"y2\":0,\"group\":1,\"y\":39.0},{\"x\":-1.8763006470859596,\"y2\":0,\"group\":1,\"y\":50.0},{\"x\":-1.803448077279747,\"y2\":0,\"group\":1,\"y\":48.0},{\"x\":-1.7305955074735342,\"y2\":0,\"group\":1,\"y\":76.0},{\"x\":-1.6577429376673214,\"y2\":0,\"group\":1,\"y\":71.0},{\"x\":-1.5848903678611086,\"y2\":0,\"group\":1,\"y\":71.0},{\"x\":-1.5120377980548958,\"y2\":0,\"group\":1,\"y\":68.0},{\"x\":-1.4391852282486828,\"y2\":0,\"group\":1,\"y\":84.0},{\"x\":-1.3663326584424702,\"y2\":0,\"group\":1,\"y\":123.0},{\"x\":-1.2934800886362572,\"y2\":0,\"group\":1,\"y\":125.0},{\"x\":-1.2206275188300446,\"y2\":0,\"group\":1,\"y\":139.0},{\"x\":-1.147774949023832,\"y2\":0,\"group\":1,\"y\":152.0},{\"x\":-1.074922379217619,\"y2\":0,\"group\":1,\"y\":139.0},{\"x\":-1.0020698094114064,\"y2\":0,\"group\":1,\"y\":180.0},{\"x\":-0.9292172396051934,\"y2\":0,\"group\":1,\"y\":219.0},{\"x\":-0.8563646697989808,\"y2\":0,\"group\":1,\"y\":194.0},{\"x\":-0.7835120999927678,\"y2\":0,\"group\":1,\"y\":201.0},{\"x\":-0.7106595301865553,\"y2\":0,\"group\":1,\"y\":205.0},{\"x\":-0.6378069603803422,\"y2\":0,\"group\":1,\"y\":235.0},{\"x\":-0.5649543905741297,\"y2\":0,\"group\":1,\"y\":243.0},{\"x\":-0.49210182076791664,\"y2\":0,\"group\":1,\"y\":259.0},{\"x\":-0.41924925096170407,\"y2\":0,\"group\":1,\"y\":269.0},{\"x\":-0.34639668115549105,\"y2\":0,\"group\":1,\"y\":270.0},{\"x\":-0.2735441113492785,\"y2\":0,\"group\":1,\"y\":286.0},{\"x\":-0.20069154154306545,\"y2\":0,\"group\":1,\"y\":279.0},{\"x\":-0.12783897173685288,\"y2\":0,\"group\":1,\"y\":286.0},{\"x\":-0.054986401930640305,\"y2\":0,\"group\":1,\"y\":289.0},{\"x\":0.017866167875572714,\"y2\":0,\"group\":1,\"y\":293.0},{\"x\":0.09071873768178529,\"y2\":0,\"group\":1,\"y\":303.0},{\"x\":0.1635713074879983,\"y2\":0,\"group\":1,\"y\":260.0},{\"x\":0.23642387729421088,\"y2\":0,\"group\":1,\"y\":280.0},{\"x\":0.3092764471004239,\"y2\":0,\"group\":1,\"y\":291.0},{\"x\":0.3821290169066365,\"y2\":0,\"group\":1,\"y\":264.0},{\"x\":0.45498158671284905,\"y2\":0,\"group\":1,\"y\":277.0},{\"x\":0.5278341565190621,\"y2\":0,\"group\":1,\"y\":230.0},{\"x\":0.6006867263252751,\"y2\":0,\"group\":1,\"y\":243.0},{\"x\":0.6735392961314881,\"y2\":0,\"group\":1,\"y\":243.0},{\"x\":0.7463918659377002,\"y2\":0,\"group\":1,\"y\":223.0},{\"x\":0.8192444357439133,\"y2\":0,\"group\":1,\"y\":215.0},{\"x\":0.8920970055501263,\"y2\":0,\"group\":1,\"y\":198.0},{\"x\":0.9649495753563393,\"y2\":0,\"group\":1,\"y\":201.0},{\"x\":1.0378021451625514,\"y2\":0,\"group\":1,\"y\":192.0},{\"x\":1.1106547149687644,\"y2\":0,\"group\":1,\"y\":155.0},{\"x\":1.1835072847749775,\"y2\":0,\"group\":1,\"y\":154.0},{\"x\":1.2563598545811896,\"y2\":0,\"group\":1,\"y\":128.0},{\"x\":1.3292124243874026,\"y2\":0,\"group\":1,\"y\":125.0},{\"x\":1.4020649941936156,\"y2\":0,\"group\":1,\"y\":125.0},{\"x\":1.4749175639998287,\"y2\":0,\"group\":1,\"y\":101.0},{\"x\":1.5477701338060408,\"y2\":0,\"group\":1,\"y\":79.0},{\"x\":1.6206227036122538,\"y2\":0,\"group\":1,\"y\":86.0},{\"x\":1.6934752734184668,\"y2\":0,\"group\":1,\"y\":71.0},{\"x\":1.7663278432246798,\"y2\":0,\"group\":1,\"y\":64.0},{\"x\":1.839180413030892,\"y2\":0,\"group\":1,\"y\":79.0},{\"x\":1.912032982837105,\"y2\":0,\"group\":1,\"y\":59.0},{\"x\":1.984885552643318,\"y2\":0,\"group\":1,\"y\":45.0},{\"x\":2.057738122449531,\"y2\":0,\"group\":1,\"y\":44.0},{\"x\":2.130590692255743,\"y2\":0,\"group\":1,\"y\":37.0},{\"x\":2.203443262061956,\"y2\":0,\"group\":1,\"y\":20.0},{\"x\":2.276295831868169,\"y2\":0,\"group\":1,\"y\":20.0},{\"x\":2.3491484016743813,\"y2\":0,\"group\":1,\"y\":18.0},{\"x\":2.4220009714805943,\"y2\":0,\"group\":1,\"y\":18.0},{\"x\":2.4948535412868074,\"y2\":0,\"group\":1,\"y\":11.0},{\"x\":2.5677061110930204,\"y2\":0,\"group\":1,\"y\":17.0},{\"x\":2.6405586808992325,\"y2\":0,\"group\":1,\"y\":5.0},{\"x\":2.7134112507054455,\"y2\":0,\"group\":1,\"y\":8.0},{\"x\":2.7862638205116586,\"y2\":0,\"group\":1,\"y\":6.0},{\"x\":2.8591163903178716,\"y2\":0,\"group\":1,\"y\":3.0},{\"x\":2.9319689601240837,\"y2\":0,\"group\":1,\"y\":2.0},{\"x\":3.0048215299302967,\"y2\":0,\"group\":1,\"y\":2.0},{\"x\":3.0776740997365097,\"y2\":0,\"group\":1,\"y\":1.0},{\"x\":3.1505266695427228,\"y2\":0,\"group\":1,\"y\":2.0},{\"x\":3.223379239348935,\"y2\":0,\"group\":1,\"y\":0.0},{\"x\":3.296231809155148,\"y2\":0,\"group\":1,\"y\":1.0},{\"x\":3.369084378961361,\"y2\":0,\"group\":1,\"y\":1.0},{\"x\":3.441936948767573,\"y2\":0,\"group\":1,\"y\":0.0},{\"x\":3.514789518573786,\"y2\":0,\"group\":1,\"y\":0.0},{\"x\":3.587642088379999,\"y2\":0,\"group\":1,\"y\":1.0},{\"x\":3.660494658186212,\"y2\":0,\"group\":1,\"y\":0.0},{\"x\":3.7333472279924242,\"y2\":0,\"group\":1,\"y\":3.0}]}],\"scales\":[{\"name\":\"x\",\"range\":\"width\",\"domain\":{\"sort\":true,\"data\":\"table_gkjwe\",\"field\":\"x\"},\"type\":\"ordinal\"},{\"name\":\"y\",\"range\":\"height\",\"domain\":{\"data\":\"table_gkjwe\",\"field\":\"y\"},\"type\":\"linear\"},{\"name\":\"group\",\"range\":[\"rgb(166,206,227)\",\"rgb( 31,120,180)\",\"rgb(178,223,138)\",\"rgb( 51,160, 44)\",\"rgb(251,154,153)\",\"rgb(227, 26, 28)\",\"rgb(253,191,111)\",\"rgb(255,127,  0)\",\"rgb(202,178,214)\",\"rgb(106, 61,154)\",\"rgb(255,255,153)\",\"rgb(177, 89, 40)\"],\"domain\":{\"data\":\"table_gkjwe\",\"field\":\"group\"},\"type\":\"ordinal\"}],\"width\":450}, function(chart) { chart({el:\"#vgkQx\"}).update(); });\n",
       "\n",
       "                window.setTimeout(function() {\n",
       "                  var pnglink = document.getElementById(\"vgkQx\").getElementsByTagName(\"canvas\")[0].toDataURL(\"image/png\")\n",
       "                  document.getElementById(\"vgkQx\").insertAdjacentHTML('beforeend', '<br><a href=\"' + pnglink + '\" download>Save as PNG</a>')\n",
       "\n",
       "                }, 20);\n",
       "\n",
       "            }); //vega require end\n",
       "\n",
       "      }); //d3 require end\n",
       "\n",
       "    </script>\n",
       "\n"
      ]
     },
     "metadata": {},
     "output_type": "display_data"
    },
    {
     "data": {
      "text/html": [],
      "text/plain": []
     },
     "execution_count": 67,
     "metadata": {},
     "output_type": "execute_result"
    }
   ],
   "source": [
    "histograma1(r,100)"
   ]
  },
  {
   "cell_type": "markdown",
   "metadata": {},
   "source": [
    "Comparamos con la función de histrograma integrada en PyPlot, podemos apreciar son la misma aunque utilizan escalas distintas. Adicionalmente hay un problema con nuestra función ya que se pierde la escala del eje x. "
   ]
  },
  {
   "cell_type": "code",
   "execution_count": 5,
   "metadata": {
    "collapsed": false
   },
   "outputs": [
    {
     "data": {
      "image/png": "[encoded data removed]",
      "text/plain": [
       "PyPlot.Figure(PyObject <matplotlib.figure.Figure object at 0x7f0a84fcff90>)"
      ]
     },
     "metadata": {},
     "output_type": "display_data"
    },
    {
     "data": {
      "text/plain": [
       "([2.0,0.0,0.0,3.0,1.0,3.0,2.0,3.0,3.0,4.0  …  4.0,2.0,1.0,3.0,1.0,0.0,0.0,0.0,0.0,1.0],[-3.68,-3.60501,-3.53001,-3.45501,-3.38001,-3.30502,-3.23002,-3.15502,-3.08002,-3.00503  …  3.14477,3.21977,3.29477,3.36977,3.44476,3.51976,3.59476,3.66976,3.74476,3.81975],Any[PyObject <matplotlib.patches.Rectangle object at 0x7f0a84c54d90>,PyObject <matplotlib.patches.Rectangle object at 0x7f0a84c63450>,PyObject <matplotlib.patches.Rectangle object at 0x7f0a84c63ad0>,PyObject <matplotlib.patches.Rectangle object at 0x7f0a84c63fd0>,PyObject <matplotlib.patches.Rectangle object at 0x7f0a84bf5810>,PyObject <matplotlib.patches.Rectangle object at 0x7f0a84bf5e90>,PyObject <matplotlib.patches.Rectangle object at 0x7f0a84c02550>,PyObject <matplotlib.patches.Rectangle object at 0x7f0a84c02bd0>,PyObject <matplotlib.patches.Rectangle object at 0x7f0a84c0f290>,PyObject <matplotlib.patches.Rectangle object at 0x7f0a84c0f910>  …  PyObject <matplotlib.patches.Rectangle object at 0x7f0a84ab2390>,PyObject <matplotlib.patches.Rectangle object at 0x7f0a84ab2a10>,PyObject <matplotlib.patches.Rectangle object at 0x7f0a84ab2f10>,PyObject <matplotlib.patches.Rectangle object at 0x7f0a84a40750>,PyObject <matplotlib.patches.Rectangle object at 0x7f0a84a40dd0>,PyObject <matplotlib.patches.Rectangle object at 0x7f0a84a4f490>,PyObject <matplotlib.patches.Rectangle object at 0x7f0a84a4fb10>,PyObject <matplotlib.patches.Rectangle object at 0x7f0a84a5a1d0>,PyObject <matplotlib.patches.Rectangle object at 0x7f0a84a5a850>,PyObject <matplotlib.patches.Rectangle object at 0x7f0a84a5aed0>])"
      ]
     },
     "execution_count": 5,
     "metadata": {},
     "output_type": "execute_result"
    }
   ],
   "source": [
    "plt[:hist](r, 100)"
   ]
  },
  {
   "cell_type": "markdown",
   "metadata": {},
   "source": [
    "En seguida presentamos nuestra segunda función histograma, a diferencia de la anterior esta grafica un punto en la mitad de cada bin."
   ]
  },
  {
   "cell_type": "code",
   "execution_count": 6,
   "metadata": {
    "collapsed": true
   },
   "outputs": [],
   "source": [
    "N=10000\n",
    "v=randn(N);"
   ]
  },
  {
   "cell_type": "code",
   "execution_count": 7,
   "metadata": {
    "collapsed": false
   },
   "outputs": [
    {
     "data": {
      "text/plain": [
       "histograma2 (generic function with 1 method)"
      ]
     },
     "execution_count": 7,
     "metadata": {},
     "output_type": "execute_result"
    }
   ],
   "source": [
    "function histograma2(data,n)\n",
    "    nhist = zeros(n) #Creamos el arreglo que regresará la función histograma\n",
    "    supremo = maximum(data)\n",
    "    infimo = minimum(data)\n",
    "    Δx = (supremo - infimo)/n #Definimos el tamañano del intervalo\n",
    "    nbins = (infimo+Δx/2):Δx:(supremo-Δx/2) #\n",
    "    for h in data\n",
    "        for i in 1:n\n",
    "            #Separamos en dos casos, el segundo caso es para el último intervalo es cerrado de ambos lados, y el resto\n",
    "            #en el que son abiertos del lado derecho. Ya que si no puede llegar a saltarse un punto.\n",
    "            if (i<n) && (h >= infimo+Δx*(i-1)) && (h < infimo+Δx*i)\n",
    "                nhist[i]=nhist[i]+1\n",
    "            end\n",
    "            if (i==n) && (h>=infimo+Δx*(i-1))\n",
    "                nhist[i]=nhist[i]+1\n",
    "            end\n",
    "        end\n",
    "    end\n",
    "    graf=plot(nbins,nhist,\"r.\"), xlim(infimo,supremo)\n",
    "end"
   ]
  },
  {
   "cell_type": "code",
   "execution_count": 8,
   "metadata": {
    "collapsed": false,
    "scrolled": false
   },
   "outputs": [
    {
     "data": {
      "image/png": "[encoded data removed]",
      "text/plain": [
       "PyPlot.Figure(PyObject <matplotlib.figure.Figure object at 0x7f0a84f5c350>)"
      ]
     },
     "metadata": {},
     "output_type": "display_data"
    },
    {
     "data": {
      "text/plain": [
       "(Any[PyObject <matplotlib.lines.Line2D object at 0x7f0a848fbe10>],(-3.9219517596468156,4.119404173282345))"
      ]
     },
     "execution_count": 8,
     "metadata": {},
     "output_type": "execute_result"
    }
   ],
   "source": [
    "plt[:hist](v, 50)\n",
    "ejemplo=histograma2(v,50)"
   ]
  },
  {
   "cell_type": "markdown",
   "metadata": {},
   "source": [
    "Como se puede ver en la gráfica corresponden perfectamente nuestra función con la que tiene el paquete PyPlot. Con la diferencia que la nuestra grafica puntos en lugar de una barra."
   ]
  },
  {
   "cell_type": "markdown",
   "metadata": {},
   "source": [
    "## 2. Promedio y varianza\n",
    "\n",
    "(a) Siguiendo con la generación de datos del ejercicio anterior, hagan una subrutina que calcule el promedio y la varianza de los datos generados anteriormente. Comparen su resultado con lo que se obtiene al utilizar `mean` y `var` (que son las funciones nativas de julia que hacen eso).\n",
    "    \n",
    "(b) Existe un [algoritmo recursivo](https://en.wikipedia.org/wiki/Algorithms_for_calculating_variance#Online_algorithm), ampliamente desconocido, que permite calcular el promedio y la varianza con una sóla lectura de los datos. Impleméntenlo. La *misma* función debería de darles *ambos* valores.\n",
    "    \n",
    "(c) ¿Cuál de todos los algoritmos es el más rápido? Consideren esto para datos de distinta longitud, cubriendo varios órdenes de magnitud.\n"
   ]
  },
  {
   "cell_type": "markdown",
   "metadata": {},
   "source": [
    "## a)"
   ]
  },
  {
   "cell_type": "code",
   "execution_count": 9,
   "metadata": {
    "collapsed": false
   },
   "outputs": [
    {
     "data": {
      "text/plain": [
       "promvar (generic function with 1 method)"
      ]
     },
     "execution_count": 9,
     "metadata": {},
     "output_type": "execute_result"
    }
   ],
   "source": [
    "function promvar(data)\n",
    "    p=0 #suma para calular la varianza\n",
    "    n=length(data)\n",
    "    promedio=sum(data)/n\n",
    "    for h in data\n",
    "        p=p+(h-promedio)^2\n",
    "    end\n",
    "    var=p/n\n",
    "    return(promedio, var)\n",
    "end\n",
    "        "
   ]
  },
  {
   "cell_type": "code",
   "execution_count": 10,
   "metadata": {
    "collapsed": false,
    "scrolled": true
   },
   "outputs": [
    {
     "data": {
      "text/plain": [
       "(-0.004825469545077064,0.9870999245766104)"
      ]
     },
     "execution_count": 10,
     "metadata": {},
     "output_type": "execute_result"
    }
   ],
   "source": [
    "promvar(r)"
   ]
  },
  {
   "cell_type": "markdown",
   "metadata": {},
   "source": [
    "Comparamos con las funciones que ya tiene integradas Julia"
   ]
  },
  {
   "cell_type": "code",
   "execution_count": 11,
   "metadata": {
    "collapsed": false
   },
   "outputs": [
    {
     "data": {
      "text/plain": [
       "(-0.004825469545077064,0.9871986444410542)"
      ]
     },
     "execution_count": 11,
     "metadata": {},
     "output_type": "execute_result"
    }
   ],
   "source": [
    "(mean(r), var(r))"
   ]
  },
  {
   "cell_type": "code",
   "execution_count": 12,
   "metadata": {
    "collapsed": false
   },
   "outputs": [
    {
     "data": {
      "text/plain": [
       "0.0"
      ]
     },
     "execution_count": 12,
     "metadata": {},
     "output_type": "execute_result"
    }
   ],
   "source": [
    "promvar(r)[1]-mean(r)"
   ]
  },
  {
   "cell_type": "markdown",
   "metadata": {},
   "source": [
    "El error entre nuestra función y la que está integrada en Julia es de 0 por lo que sospechamos están definidas de la misma manera. Hacemos un interludio para mencionar que cuando calculamos la suma explícitamente usando:"
   ]
  },
  {
   "cell_type": "code",
   "execution_count": 13,
   "metadata": {
    "collapsed": false
   },
   "outputs": [
    {
     "data": {
      "text/plain": [
       "-0.004825469545077066"
      ]
     },
     "execution_count": 13,
     "metadata": {},
     "output_type": "execute_result"
    }
   ],
   "source": [
    "s = 0\n",
    "for i in r\n",
    "    s+=i\n",
    "end\n",
    "s/length(r)"
   ]
  },
  {
   "cell_type": "markdown",
   "metadata": {},
   "source": [
    "Se obtiene un valor ligeramente distinto"
   ]
  },
  {
   "cell_type": "markdown",
   "metadata": {},
   "source": [
    "Calculamos el error de la varianza"
   ]
  },
  {
   "cell_type": "code",
   "execution_count": 14,
   "metadata": {
    "collapsed": false
   },
   "outputs": [
    {
     "data": {
      "text/plain": [
       "9.871986444376368e-5"
      ]
     },
     "execution_count": 14,
     "metadata": {},
     "output_type": "execute_result"
    }
   ],
   "source": [
    "error1=abs(promvar(r)[2]-var(r))"
   ]
  },
  {
   "cell_type": "markdown",
   "metadata": {},
   "source": [
    "Calculamos el error porcentual"
   ]
  },
  {
   "cell_type": "code",
   "execution_count": 15,
   "metadata": {
    "collapsed": false,
    "scrolled": true
   },
   "outputs": [
    {
     "data": {
      "text/plain": [
       "0.009999999999965384"
      ]
     },
     "execution_count": 15,
     "metadata": {},
     "output_type": "execute_result"
    }
   ],
   "source": [
    "error1/var(r)*100"
   ]
  },
  {
   "cell_type": "markdown",
   "metadata": {},
   "source": [
    "Para estos datos el error en la varianza de nuestro cálculo con el de Julia es de tan solo 0.1% Nosotros creemos que esto se debe a que estamos calculando la varianza considerando que todos los datos tienen la misma probabilidad y Julia tiene implementada una corrección."
   ]
  },
  {
   "cell_type": "markdown",
   "metadata": {},
   "source": [
    "## b)\n",
    "\n",
    "A continuación tomamos la función presente en el codigo que nos 'envió' el profesor para calcular el promedio y la varianza recursivamente."
   ]
  },
  {
   "cell_type": "code",
   "execution_count": 16,
   "metadata": {
    "collapsed": false
   },
   "outputs": [
    {
     "data": {
      "text/plain": [
       "online_variance (generic function with 1 method)"
      ]
     },
     "execution_count": 16,
     "metadata": {},
     "output_type": "execute_result"
    }
   ],
   "source": [
    "function online_variance(rdm)\n",
    "    n = 0\n",
    "    mean = 0.0\n",
    "    M2 = 0.0\n",
    "     \n",
    "for x in rdm\n",
    "        n += 1\n",
    "        delta = x - mean\n",
    "        mean += delta/n\n",
    "        M2 += delta*(x - mean)\n",
    "    end\n",
    "    if n < 2\n",
    "        return (mean, NaN)\n",
    "    else\n",
    "    return (mean, M2 / (n - 1))\n",
    "    end\n",
    "end"
   ]
  },
  {
   "cell_type": "markdown",
   "metadata": {},
   "source": [
    "Después comparamos los valores obtenidos de esta función con respecto a las que ya incluye Julia y la que nosotros definimos."
   ]
  },
  {
   "cell_type": "code",
   "execution_count": 17,
   "metadata": {
    "collapsed": false
   },
   "outputs": [
    {
     "data": {
      "text/plain": [
       "(-0.0048254695450770735,0.9871986444410545)"
      ]
     },
     "execution_count": 17,
     "metadata": {},
     "output_type": "execute_result"
    }
   ],
   "source": [
    "online_variance(r)"
   ]
  },
  {
   "cell_type": "markdown",
   "metadata": {},
   "source": [
    "Primero calculamos el del promedio"
   ]
  },
  {
   "cell_type": "code",
   "execution_count": 18,
   "metadata": {
    "collapsed": false,
    "scrolled": true
   },
   "outputs": [
    {
     "data": {
      "text/plain": [
       "9.540979117872439e-18"
      ]
     },
     "execution_count": 18,
     "metadata": {},
     "output_type": "execute_result"
    }
   ],
   "source": [
    "error2=abs(online_variance(r)[1]-promvar(r)[1])"
   ]
  },
  {
   "cell_type": "code",
   "execution_count": 19,
   "metadata": {
    "collapsed": false
   },
   "outputs": [
    {
     "data": {
      "text/plain": [
       "1.977212585997176e-13"
      ]
     },
     "execution_count": 19,
     "metadata": {},
     "output_type": "execute_result"
    }
   ],
   "source": [
    "error2/abs(promvar(r)[1])*100"
   ]
  },
  {
   "cell_type": "markdown",
   "metadata": {},
   "source": [
    "Por el orden de magnitud podemos concluir que es desprecibale el error que presenta en el cálculo del promedio"
   ]
  },
  {
   "cell_type": "code",
   "execution_count": 20,
   "metadata": {
    "collapsed": false
   },
   "outputs": [
    {
     "data": {
      "text/plain": [
       "9.871986444409675e-5"
      ]
     },
     "execution_count": 20,
     "metadata": {},
     "output_type": "execute_result"
    }
   ],
   "source": [
    "error3=abs(online_variance(r)[2]-promvar(r)[2])"
   ]
  },
  {
   "cell_type": "code",
   "execution_count": 22,
   "metadata": {
    "collapsed": false,
    "scrolled": true
   },
   "outputs": [
    {
     "data": {
      "text/plain": [
       "0.010001000100009119"
      ]
     },
     "execution_count": 22,
     "metadata": {},
     "output_type": "execute_result"
    }
   ],
   "source": [
    "error3/promvar(r)[2]*100"
   ]
  },
  {
   "cell_type": "markdown",
   "metadata": {},
   "source": [
    "El error de la varianza es más sustancial ya que es del orden de 1%."
   ]
  },
  {
   "cell_type": "markdown",
   "metadata": {},
   "source": [
    "## c)\n",
    "\n",
    "Calculamos el tiempo que se tarda en ejecutar las distintas funciones Julia para los arreglos que se muestran a continuación. Las celdas con nuestra función promvar(x) y online_variance(x) son ejecutadas dos veces para que no tomemos el tiempo de compilación en la ejecución."
   ]
  },
  {
   "cell_type": "code",
   "execution_count": 23,
   "metadata": {
    "collapsed": false
   },
   "outputs": [],
   "source": [
    "a=rand(100)\n",
    "b=rand(10000)\n",
    "c=rand(10000000);"
   ]
  },
  {
   "cell_type": "code",
   "execution_count": 64,
   "metadata": {
    "collapsed": false
   },
   "outputs": [
    {
     "name": "stdout",
     "output_type": "stream",
     "text": [
      "  "
     ]
    },
    {
     "data": {
      "text/plain": [
       "0.4998830489193225"
      ]
     },
     "execution_count": 64,
     "metadata": {},
     "output_type": "execute_result"
    },
    {
     "name": "stdout",
     "output_type": "stream",
     "text": [
      "0.000003 seconds (5 allocations: 176 bytes)\n",
      "  0.000009 seconds (5 allocations: 176 bytes)\n",
      "  0.007064 seconds (5 allocations: 176 bytes)\n"
     ]
    }
   ],
   "source": [
    "@time mean(a)\n",
    "@time mean(b)\n",
    "@time mean(c)"
   ]
  },
  {
   "cell_type": "code",
   "execution_count": 63,
   "metadata": {
    "collapsed": false
   },
   "outputs": [
    {
     "name": "stdout",
     "output_type": "stream",
     "text": [
      "  0.000013 seconds (206 allocations: 3.328 KB)\n",
      "  0.000290 seconds (20.01 k allocations: 312.719 KB)\n",
      "  "
     ]
    },
    {
     "data": {
      "text/plain": [
       "(0.4998830489193225,0.08335649472203044)"
      ]
     },
     "execution_count": 63,
     "metadata": {},
     "output_type": "execute_result"
    },
    {
     "name": "stdout",
     "output_type": "stream",
     "text": [
      "0.308126 seconds (20.00 M allocations: 305.176 MB, 9.98% gc time)\n"
     ]
    }
   ],
   "source": [
    "@time promvar(a) \n",
    "@time promvar(b)\n",
    "@time promvar(c)"
   ]
  },
  {
   "cell_type": "code",
   "execution_count": 61,
   "metadata": {
    "collapsed": false
   },
   "outputs": [
    {
     "name": "stdout",
     "output_type": "stream",
     "text": [
      "  "
     ]
    },
    {
     "data": {
      "text/plain": [
       "(0.08335650305767492,0.4998830489193225)"
      ]
     },
     "execution_count": 61,
     "metadata": {},
     "output_type": "execute_result"
    },
    {
     "name": "stdout",
     "output_type": "stream",
     "text": [
      "0.000022 seconds (10 allocations: 336 bytes)\n",
      "  0.000080 seconds (10 allocations: 336 bytes)\n",
      "  0.026138 seconds (10 allocations: 336 bytes)\n"
     ]
    }
   ],
   "source": [
    "@time var(a),mean(a) #Ponemos las dos en un mismo time para que sume el tiempo\n",
    "@time var(b),mean(b)\n",
    "@time var(c),mean(c)"
   ]
  },
  {
   "cell_type": "code",
   "execution_count": 65,
   "metadata": {
    "collapsed": false
   },
   "outputs": [
    {
     "name": "stdout",
     "output_type": "stream",
     "text": [
      "  "
     ]
    },
    {
     "data": {
      "text/plain": [
       "(0.49988304891925084,0.08335650305766909)"
      ]
     },
     "execution_count": 65,
     "metadata": {},
     "output_type": "execute_result"
    },
    {
     "name": "stdout",
     "output_type": "stream",
     "text": [
      "0.000007 seconds (5 allocations: 192 bytes)\n",
      "  0.000239 seconds (5 allocations: 192 bytes)\n",
      "  0.084227 seconds (5 allocations: 192 bytes)\n"
     ]
    }
   ],
   "source": [
    "@time online_variance(a)\n",
    "@time online_variance(b)\n",
    "@time online_variance(c)"
   ]
  },
  {
   "cell_type": "markdown",
   "metadata": {},
   "source": [
    "Si comparamos los valores de cada una con respecto a una misma variable (a,b,c) podemos ver que la más rapida para secuencias de datos pequeñas es online_variance(), para arreglos con 10000 datos la mejor es la que tiene integrada Julia y la peor es nuestra función promvar(), aunque todas tienen el mismo orden de magnitud. Finalmente para arreglos muy grandes las funciones integradas en Julia son cuatro veces más rapidas que la online_variance() y la nuestra es un orden de magnitud más lenta. "
   ]
  },
  {
   "cell_type": "markdown",
   "metadata": {},
   "source": [
    "## 3. Método de Simpson para integrar $f(x)$ en un intervalo\n",
    "\n",
    "Implementen el método de Simpson para integrar una función arbitraria $f(x)$."
   ]
  },
  {
   "cell_type": "code",
   "execution_count": 53,
   "metadata": {
    "collapsed": false
   },
   "outputs": [
    {
     "data": {
      "text/plain": [
       "simpson (generic function with 1 method)"
      ]
     },
     "execution_count": 53,
     "metadata": {},
     "output_type": "execute_result"
    }
   ],
   "source": [
    "function simpson(f::Function,a::Real,b::Real,n::Int64)\n",
    "    suma = 0.0\n",
    "    Δx = (b-a)/n\n",
    "    v = (a:Δx:b)\n",
    "    c=length(v)-1\n",
    "    for j=1:c\n",
    "        int = (Δx/6)*(f(v[j])+4*f((v[j]+v[j+1])/2)+f(v[j+1]))\n",
    "        suma = suma+int\n",
    "    end\n",
    "    return suma\n",
    "end"
   ]
  },
  {
   "cell_type": "code",
   "execution_count": 60,
   "metadata": {
    "collapsed": false
   },
   "outputs": [
    {
     "data": {
      "text/plain": [
       "1.0000000004166667"
      ]
     },
     "execution_count": 60,
     "metadata": {},
     "output_type": "execute_result"
    }
   ],
   "source": [
    "simpson(x->5x^4,0,1,100)"
   ]
  }
 ],
 "metadata": {
  "kernelspec": {
   "display_name": "Julia 0.4.2",
   "language": "julia",
   "name": "julia-0.4"
  },
  "language_info": {
   "file_extension": ".jl",
   "mimetype": "application/julia",
   "name": "julia",
   "version": "0.4.2"
  }
 },
 "nbformat": 4,
 "nbformat_minor": 0
}
