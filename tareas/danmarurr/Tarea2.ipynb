{
 "cells": [
  {
   "cell_type": "markdown",
   "metadata": {},
   "source": [
    "# Tarea 2\n",
    "### Daniel Martínez Urrieta"
   ]
  },
  {
   "cell_type": "markdown",
   "metadata": {},
   "source": [
    "Como siempre, documenten **todo** lo que hacen en el notebook\n",
    "\n",
    "Se recomienda que *colaboren* (equipos de máximo dos personas) en la tarea."
   ]
  },
  {
   "cell_type": "markdown",
   "metadata": {},
   "source": [
    "## 1. Histogramas\n",
    "\n",
    "Usando la función `randn`, generen $N$ valores tipo `Float64` al azar ($N\\sim 10000$, o mayor, es razonable). Construyan la función `histograma`, que regresa un vector de tamaño $n_{hist}$ (que es un argumento de la función) y que contiene el histograma de frecuencias *sin normalizar*. Esto es, la primer componente del vector corresponde al número de valores generados al azar que caen en el intervalo (llamado *bin* en inglés) $[x_0, x_1)$, los de la segunda componente caen en el intervalo $[x_1, x_2)$, etc, hasta $[x_{n_{hist}-1}, x{n_{hist}})$, donde el tamaño de los intervalos es el mismo y corresponde a $\\Delta x = (\\textrm{sup}(x)-\\textrm{inf}(x))/n_{hist}$. (No escatimen en estética.)\n",
    "\n",
    "Dibujen el histograma a partir de sus datos.\n",
    "\n",
    "PyPlot (matplotlib) de hecho tiene [una función]() útil para dibujar histogramas a partir de los datos directamente. Utilizando esa función, muestren el histograma de sus datos. Debería ser muy parecida a la que ya obtuvieron antes.\n",
    "\n",
    "NOTA: Hay esencialmente dos formas de hacerlo, que se distinguen por el número de veces que uno lee los datos. Traten de hacer su implementación usando *una* lectura de los datos. (Si no pueden, llevarán sobre sus hombros esa carga toda su vida.)"
   ]
  },
  {
   "cell_type": "markdown",
   "metadata": {},
   "source": [
    "### Solución\n",
    "\n",
    "La función histograma debe recibir un arreglo de números $\\vec{R}$ y el número $n_{hist}$ (este valor tiene que ser menor que el tamaño del vector), a partir de ello, obtener el histograma sin normalizar. Para dicha obtención, hay que notar que si $\\Delta x = (\\sup(\\vec{R})- \\inf(\\vec{R}))/n_hist$ entonces $x_i$ y $x_{i-1}$ se pueden obtener de la siguiente forma:\n",
    "\\begin{align}\n",
    "    x_i &= i\\Delta x + x_0 \\\\\n",
    "    x_{i-1} &= (i-1)\\Delta x + x_0\n",
    "\\end{align}\n",
    "\n",
    "Afortunadamente, `Julia` puede ordenar los valores del arreglo mediante la función `sort`, aprovechando esto, podemos revisar la condición de si un valor `R[j]` cumple que $R_j < x_i $.\n",
    "\n",
    "Primero se creará el vector $V$ que contendrá el histograma con la función `zeros(n_hist)`, posteriormente se usará un loop `for` para llenar cada entrada `i` (desde 1 hasta `n_hist`) con el conteo de números contenidos en $[x_{i-1},x_i)$. Para realizar el conteo, se implementará otro `for` que corra desde el valor $l= (\\sum_{j=1}^{i}V_j) + 1$ (ya que los valores anteriores ya fueron contados) hasta $n_hist$ por principio de cuentas. En este segundo `for` implementaremos una operación ternaria donde verifique si el valor $R_r < x_i$, en caso positivo, sumará uno en un contador, de lo contrario, se romperá el loop con la instrucción `break`, una vez terminado, almacena el valor del contador en `V[i]`, continuando el loop con reiniciando el valor del contador a 0 y calculando el siguiente $x_i$."
   ]
  },
  {
   "cell_type": "code",
   "execution_count": 30,
   "metadata": {
    "collapsed": false
   },
   "outputs": [
    {
     "data": {
      "text/plain": [
       "histograma (generic function with 1 method)"
      ]
     },
     "execution_count": 30,
     "metadata": {},
     "output_type": "execute_result"
    }
   ],
   "source": [
    "\"\"\"\n",
    "`histograma(arr, n_hist)` obtiene el histograma de frecuencias sin normalizar del arreglo de N valores `Float64`\n",
    "considerando `n_hist` intervalos de longitud Δx = (sup(`arr`)-inf(`arr`))/`n_hist`. Es necesario que 0 < `n_hist`\n",
    "≦ N.\n",
    "***Nota:*** El arreglo debe tener como mínimo un elemento.\n",
    "Dicho histograma es devuelto como un vector con `n_hist` entradas, cada entrada tiene el número de valores\n",
    "encontrados en el intervalo [x_{i-1},x_i).\n",
    "\"\"\"\n",
    "function histograma(arr::Array{Float64,1},n_hist::Int) #Requerimos el vector de datos, así como n_hist\n",
    "    n = length(arr)\n",
    "    n == 0 ? error(\"Tamaño de arreglo inválido. Revisa la documentación\"):\n",
    "    (n < n_hist || n_hist <= 0) ? error(\"Valor para `n_hist` inválido. Revisa la documentación.\") :\n",
    "    orden = sort(arr) #Ordena elementos aleatorios\n",
    "    Δx = (orden[end] - orden[1])/n_hist #Calculamos Δx\n",
    "    vector = zeros(n_hist) #Creamos el vector de salida\n",
    "    for i in 1:n_hist\n",
    "        contador = 0 #Contador de número de elementos en el intervalo\n",
    "        x_i = i*Δx + orden[1] #Forma genérica de obtener x_i\n",
    "        last = round(Int64,sum(vector[1:i]) + 1) #Aunque sé que esto siempre es entero, sum() devuelve Float64\n",
    "        for r in last:n\n",
    "            check = orden[r]\n",
    "            check < x_i ? contador += 1 : break\n",
    "        end\n",
    "        vector[i] = contador\n",
    "    end\n",
    "    vector[end] += 1\n",
    "    vector\n",
    "end"
   ]
  },
  {
   "cell_type": "code",
   "execution_count": 2,
   "metadata": {
    "collapsed": false
   },
   "outputs": [
    {
     "name": "stdout",
     "output_type": "stream",
     "text": [
      "search: "
     ]
    },
    {
     "data": {
      "text/latex": [
       "\\texttt{histograma(arr, n_hist)} obtiene el histograma de frecuencias sin normalizar del arreglo de N valores \\texttt{Float64} considerando \\texttt{n_hist} intervalos de longitud Δx = (sup(\\texttt{arr})-inf(\\texttt{arr}))/\\texttt{n_hist}. Es necesario que 0 < \\texttt{n_hist} ≦ N. ***Nota:*** El arreglo debe tener como mínimo un elemento. Dicho histograma es devuelto como un vector con \\texttt{n_hist} entradas, cada entrada tiene el número de valores encontrados en el intervalo [x\\_\\{i-1\\},x\\_i).\n"
      ],
      "text/markdown": [
       "`histograma(arr, n_hist)` obtiene el histograma de frecuencias sin normalizar del arreglo de N valores `Float64` considerando `n_hist` intervalos de longitud Δx = (sup(`arr`)-inf(`arr`))/`n_hist`. Es necesario que 0 < `n_hist` ≦ N. ***Nota:*** El arreglo debe tener como mínimo un elemento. Dicho histograma es devuelto como un vector con `n_hist` entradas, cada entrada tiene el número de valores encontrados en el intervalo [x_{i-1},x_i).\n"
      ],
      "text/plain": [
       "`histograma(arr, n_hist)` obtiene el histograma de frecuencias sin normalizar del arreglo de N valores `Float64` considerando `n_hist` intervalos de longitud Δx = (sup(`arr`)-inf(`arr`))/`n_hist`. Es necesario que 0 < `n_hist` ≦ N. ***Nota:*** El arreglo debe tener como mínimo un elemento. Dicho histograma es devuelto como un vector con `n_hist` entradas, cada entrada tiene el número de valores encontrados en el intervalo [x_{i-1},x_i).\n"
      ]
     },
     "execution_count": 2,
     "metadata": {},
     "output_type": "execute_result"
    },
    {
     "name": "stdout",
     "output_type": "stream",
     "text": [
      "histograma\n",
      "\n"
     ]
    }
   ],
   "source": [
    "? histograma"
   ]
  },
  {
   "cell_type": "markdown",
   "metadata": {},
   "source": [
    "Usemos la función `histograma` dándole un vector con 1000 números aleatorios, posteriormente se graficará el vector con el histograma usando la función `xcorr` y se comparará con el que se obtenga de la función `histogram` con los datos originales."
   ]
  },
  {
   "cell_type": "code",
   "execution_count": 3,
   "metadata": {
    "collapsed": true
   },
   "outputs": [],
   "source": [
    "using PyPlot"
   ]
  },
  {
   "cell_type": "code",
   "execution_count": 4,
   "metadata": {
    "collapsed": true
   },
   "outputs": [],
   "source": [
    "al = randn(10000)\n",
    "histo = histograma(al, 100);"
   ]
  },
  {
   "cell_type": "code",
   "execution_count": 11,
   "metadata": {
    "collapsed": false
   },
   "outputs": [
    {
     "data": {
      "image/png": "[encoded data removed]",
      "text/plain": [
       "PyPlot.Figure(PyObject <matplotlib.figure.Figure object at 0x7f633aef85f8>)"
      ]
     },
     "metadata": {},
     "output_type": "display_data"
    },
    {
     "data": {
      "text/plain": [
       "PyObject <matplotlib.text.Text object at 0x7f633af21e80>"
      ]
     },
     "execution_count": 11,
     "metadata": {},
     "output_type": "execute_result"
    }
   ],
   "source": [
    "index = collect(1:100)\n",
    "figure(figsize=(5,4))\n",
    "bar(index,histo)\n",
    "title(\"Histograma usando función `histograma`\")"
   ]
  },
  {
   "cell_type": "code",
   "execution_count": 12,
   "metadata": {
    "collapsed": false
   },
   "outputs": [
    {
     "data": {
      "image/png": "[encoded data removed]",
      "text/plain": [
       "PyPlot.Figure(PyObject <matplotlib.figure.Figure object at 0x7f633aeebba8>)"
      ]
     },
     "metadata": {},
     "output_type": "display_data"
    },
    {
     "data": {
      "text/plain": [
       "PyObject <matplotlib.text.Text object at 0x7f633ade65c0>"
      ]
     },
     "execution_count": 12,
     "metadata": {},
     "output_type": "execute_result"
    }
   ],
   "source": [
    "figure(figsize = (5,4))\n",
    "plt[:hist](al,100)\n",
    "title(\"Histograma usando `hist`\")"
   ]
  },
  {
   "cell_type": "markdown",
   "metadata": {},
   "source": [
    "## 2. Promedio y varianza\n",
    "\n",
    "(a) Siguiendo con la generación de datos del ejercicio anterior, hagan una subrutina que calcule el promedio y la varianza de los datos generados anteriormente. Comparen su resultado con lo que se obtiene al utilizar `mean` y `var` (que son las funciones nativas de julia que hacen eso).\n",
    "    \n",
    "(b) Existe un [algoritmo recursivo](https://en.wikipedia.org/wiki/Algorithms_for_calculating_variance#Online_algorithm), ampliamente desconocido, que permite calcular el promedio y la varianza con una sóla lectura de los datos. Impleméntenlo. La *misma* función debería de darles *ambos* valores.\n",
    "    \n",
    "(c) ¿Cuál de todos los algoritmos es el más rápido? Consideren esto para datos de distinta longitud, cubriendo varios órdenes de magnitud.\n"
   ]
  },
  {
   "cell_type": "code",
   "execution_count": 35,
   "metadata": {
    "collapsed": false
   },
   "outputs": [
    {
     "data": {
      "text/plain": [
       "prom_var (generic function with 1 method)"
      ]
     },
     "execution_count": 35,
     "metadata": {},
     "output_type": "execute_result"
    }
   ],
   "source": [
    "\"\"\"\n",
    "`prom_var(arr)` devuelve el valor del promedio y la varianza de los datos contenidos en un `Array{Float64,1}`,\n",
    "es requerido que `arr`tenga por lo menos un dato`\n",
    "\"\"\"\n",
    "function prom_var(arr::Array{Float64,1})\n",
    "    n = length(arr)\n",
    "    n == 0 ? error(\"Tamaño de arreglo inválido. Revisa la documentación.\") :\n",
    "    prom = sum(arr)/n\n",
    "    var = (sum(arr.*arr))/n -prom^2\n",
    "    Val = Float64[prom, var]\n",
    "    Val\n",
    "end"
   ]
  },
  {
   "cell_type": "code",
   "execution_count": 38,
   "metadata": {
    "collapsed": false
   },
   "outputs": [
    {
     "data": {
      "text/plain": [
       "2-element Array{Float64,1}:\n",
       " -0.00317794\n",
       "  0.991147  "
      ]
     },
     "execution_count": 38,
     "metadata": {},
     "output_type": "execute_result"
    }
   ],
   "source": [
    "R = prom_var(al)"
   ]
  },
  {
   "cell_type": "code",
   "execution_count": 39,
   "metadata": {
    "collapsed": false
   },
   "outputs": [
    {
     "data": {
      "text/plain": [
       "2-element Array{Float64,1}:\n",
       "  0.0       \n",
       " -9.91246e-5"
      ]
     },
     "execution_count": 39,
     "metadata": {},
     "output_type": "execute_result"
    }
   ],
   "source": [
    "R - [mean(al), var(al)]"
   ]
  },
  {
   "cell_type": "markdown",
   "metadata": {},
   "source": [
    "***a)*** Se nota una pequeña diferencia entre el valor de la varianza calculada con mi subrutina y la que calcula Julia, con el promedio no se tiene discrepancia.\n",
    "\n",
    "***b)*** Se implementará la función `prom_var2` empleando el algoritmo recursivo citado."
   ]
  },
  {
   "cell_type": "code",
   "execution_count": 40,
   "metadata": {
    "collapsed": false
   },
   "outputs": [
    {
     "data": {
      "text/plain": [
       "prom_var2 (generic function with 1 method)"
      ]
     },
     "execution_count": 40,
     "metadata": {},
     "output_type": "execute_result"
    }
   ],
   "source": [
    "\"\"\"\n",
    "`prom_var2(arr)` calcula el valor del promedio y la varianza de los datos contenidos en `arr` empleando un \n",
    "[algoritmo recursivo](https://en.wikipedia.org/wiki/Algorithms_for_calculating_variance#Online_algorithm).\n",
    "\n",
    "Es requerido que `arr` sea del tipo `Array{Float64,1}` y que contenga por lo menos un dato.\n",
    "\"\"\"\n",
    "function prom_var2(arr::Array{Float64,1})\n",
    "    length(arr) == 0 ? error(\"Tamaño de arreglo inválido, revisa la documentación.\") :\n",
    "    prom = 0.0\n",
    "    var = 0.0\n",
    "    n = 0\n",
    "    for x in arr\n",
    "        n += 1\n",
    "        r = (x - prom)/n\n",
    "        prom += r\n",
    "        var = (n-1)*var/n + r*(x-prom)\n",
    "    end\n",
    "    Float64[prom, var]\n",
    "end        "
   ]
  },
  {
   "cell_type": "code",
   "execution_count": 42,
   "metadata": {
    "collapsed": false
   },
   "outputs": [
    {
     "name": "stdout",
     "output_type": "stream",
     "text": [
      "search: "
     ]
    },
    {
     "data": {
      "text/latex": [
       "\\texttt{prom_var2(arr)} calcula el valor del promedio y la varianza de los datos contenidos en \\texttt{arr} empleando un  \\href{https://en.wikipedia.org/wiki/Algorithms_for_calculating_variance#Online_algorithm}{algoritmo recursivo}. Es requerido que \\texttt{arr} sea del tipo \\texttt{Array{Float64,1}} y que contenga por lo menos un dato.\n"
      ],
      "text/markdown": [
       "`prom_var2(arr)` calcula el valor del promedio y la varianza de los datos contenidos en `arr` empleando un  [algoritmo recursivo](https://en.wikipedia.org/wiki/Algorithms_for_calculating_variance#Online_algorithm). Es requerido que `arr` sea del tipo `Array{Float64,1}` y que contenga por lo menos un dato.\n"
      ],
      "text/plain": [
       "`prom_var2(arr)` calcula el valor del promedio y la varianza de los datos contenidos en `arr` empleando un  [algoritmo recursivo](https://en.wikipedia.org/wiki/Algorithms_for_calculating_variance#Online_algorithm). Es requerido que `arr` sea del tipo `Array{Float64,1}` y que contenga por lo menos un dato.\n"
      ]
     },
     "execution_count": 42,
     "metadata": {},
     "output_type": "execute_result"
    },
    {
     "name": "stdout",
     "output_type": "stream",
     "text": [
      "prom_var2 prom_var\n",
      "\n"
     ]
    }
   ],
   "source": [
    "? prom_var2"
   ]
  },
  {
   "cell_type": "code",
   "execution_count": 41,
   "metadata": {
    "collapsed": false
   },
   "outputs": [
    {
     "data": {
      "text/plain": [
       "2-element Array{Float64,1}:\n",
       " -0.00317794\n",
       "  0.991147  "
      ]
     },
     "execution_count": 41,
     "metadata": {},
     "output_type": "execute_result"
    }
   ],
   "source": [
    "prom_var2(al)"
   ]
  },
  {
   "cell_type": "markdown",
   "metadata": {},
   "source": [
    "*** c) *** Para revisar la eficiencia de los métodos crearemos 5 arreglos de números aleatorios de distinto orden de magnitud, crearemos una subrutina que use el macro `@time` y devuelva el tiempo empleado para calcular el método y la varianza usando los tres métodos disponibles."
   ]
  },
  {
   "cell_type": "code",
   "execution_count": 45,
   "metadata": {
    "collapsed": false
   },
   "outputs": [
    {
     "data": {
      "text/plain": [
       "prom_var3 (generic function with 1 method)"
      ]
     },
     "execution_count": 45,
     "metadata": {},
     "output_type": "execute_result"
    }
   ],
   "source": [
    "\"\"\"\n",
    "`prom_var3(arr)` regresa los valores de promedio y la varianza asociada a los datos en `arr` usando las funciones\n",
    "de `Julia`: `mean` y `var`.\n",
    "\n",
    "Es requerido que `arr` sea del tipo `Array{Float64,1}` y que contenga por lo menos un dato.\n",
    "\"\"\"\n",
    "function prom_var3(arr::Array{Float64,1})\n",
    "    length(arr) == 0 ? error(\"Tamaño de arreglo inválido, revisa la documentación.\") :\n",
    "    Float64[mean(arr), var(arr)]\n",
    "end"
   ]
  },
  {
   "cell_type": "code",
   "execution_count": 48,
   "metadata": {
    "collapsed": false
   },
   "outputs": [
    {
     "data": {
      "text/plain": [
       "2-element Array{Float64,1}:\n",
       " -0.00317794\n",
       "  0.991246  "
      ]
     },
     "execution_count": 48,
     "metadata": {},
     "output_type": "execute_result"
    }
   ],
   "source": [
    "function evalua_tiempo(arr::Array{Float64,1})\n",
    "    println(\"Tiempo usando `prom_var`\")"
   ]
  },
  {
   "cell_type": "markdown",
   "metadata": {},
   "source": [
    "## 3. Método de Simpson para integrar $f(x)$ en un intervalo\n",
    "\n",
    "Implementen el método de Simpson para integrar una función arbitraria $f(x)$."
   ]
  },
  {
   "cell_type": "markdown",
   "metadata": {},
   "source": [
    "1. Lugar de donde supe como encontrar mínimos y máximos [aquí](http://docs.julialang.org/en/latest/stdlib/math/?highlight=max#Base.max).\n",
    "2. Sintaxis de Markdown [acá](https://github.com/adam-p/markdown-here/wiki/Markdown-Cheatsheet#lists)."
   ]
  },
  {
   "cell_type": "code",
   "execution_count": null,
   "metadata": {
    "collapsed": true
   },
   "outputs": [],
   "source": []
  }
 ],
 "metadata": {
  "kernelspec": {
   "display_name": "Julia 0.4.2",
   "language": "julia",
   "name": "julia-0.4"
  },
  "language_info": {
   "file_extension": ".jl",
   "mimetype": "application/julia",
   "name": "julia",
   "version": "0.4.2"
  }
 },
 "nbformat": 4,
 "nbformat_minor": 0
}
