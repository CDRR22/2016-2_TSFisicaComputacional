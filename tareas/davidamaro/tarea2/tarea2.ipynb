{
 "cells": [
  {
   "cell_type": "markdown",
   "metadata": {},
   "source": [
    "# Tarea 2 --- Amaro-Alcalá David"
   ]
  },
  {
   "cell_type": "markdown",
   "metadata": {},
   "source": [
    "# Razonamiento\n",
    "Me pareció correcta la idea de tomar el valor de mayor complejidad como el tipo de dato que fuera el que devolviera la función, _i.e._, si le metemos a la función un real y dos enteros que tomara el entero como el valor a devolver (cuando la solución fuera real), así que el primer paso era conocer este tipo. Para hacerlo primero se me ocurrio aplicar `typeof` a cada elemento de la lista y de alguna manera conocerlo. Afortunadamente al utilizar la función `map` y meter en una lista los coeficientes esta devolvía por igual el valor del término de mayor complejidad.\n",
    "\n",
    "Por lo que sólo basta calcular la raíz y convertirlo al tipo encontrado. Esto hubiera sido sencillo si no fuera porque `convert` no convierte `Complex{Float64}` a otro que no sea el mismo, ni siquiera `Complex{Int64}`, como se puede observar en el primer ejemplo."
   ]
  },
  {
   "cell_type": "code",
   "execution_count": 1,
   "metadata": {
    "collapsed": false
   },
   "outputs": [
    {
     "data": {
      "text/plain": [
       "3-element Array{DataType,1}:\n",
       " Complex{Float64}\n",
       " Complex{Float64}\n",
       " Complex{Float64}"
      ]
     },
     "execution_count": 1,
     "metadata": {},
     "output_type": "execute_result"
    }
   ],
   "source": [
    "map(typeof,[1,1.,1+im])"
   ]
  },
  {
   "cell_type": "code",
   "execution_count": 2,
   "metadata": {
    "collapsed": false
   },
   "outputs": [
    {
     "data": {
      "text/plain": [
       "identificador (generic function with 1 method)"
      ]
     },
     "execution_count": 2,
     "metadata": {},
     "output_type": "execute_result"
    }
   ],
   "source": [
    "doc\"\"\"\n",
    "`raiz1` recibe los tres coeficientes de la ecuación de segundo grado $ax^2+bx+c$ y calcula la raíz.\n",
    "\"\"\"\n",
    "function raiz1(a,b,c)\n",
    "    valor = tipo(a,b,c)\n",
    "    Any[convert(valor,(-b+sqrt(complex(b^2-4*a*c)))/2a),\n",
    "        convert(valor,(-b-sqrt(complex(b^2-4*a*c)))/2a)]\n",
    "end\n",
    "doc\"\"\"\n",
    "`tipo` recibe los coeficientes `a`, `b` y `c` y devuelve el que tiene el tipo según esté en $\\mathbb{R}$, $\\mathbb{C}$ ó $\\mathbb{Z}$.\n",
    "\"\"\"\n",
    "function tipo(a,b,c)\n",
    "    tipos = map(typeof,[a,b,c])\n",
    "    tipos[1]\n",
    "end\n",
    "doc\"\"\"\n",
    "`identificador` redondea la `raíz` dependiendo el tipo de la raíz, _i.e._, si la raíz era `0.1+0.0im` regresaba `0.1`.\n",
    "\"\"\"\n",
    "function identificador(raiz)\n",
    "    if isreal(raiz)\n",
    "        if isinteger(raiz)\n",
    "            return round(Int,real(raiz))\n",
    "        end\n",
    "        return real(raiz)\n",
    "    else\n",
    "        return raiz\n",
    "    end\n",
    "end"
   ]
  },
  {
   "cell_type": "code",
   "execution_count": 3,
   "metadata": {
    "collapsed": false
   },
   "outputs": [
    {
     "name": "stdout",
     "output_type": "stream",
     "text": [
      "search: "
     ]
    },
    {
     "data": {
      "text/latex": [
       "\\texttt{raiz1} recibe los tres coeficientes de la ecuación de segundo grado $ax^2+bx+c$ y calcula la raíz.\n"
      ],
      "text/markdown": [
       "`raiz1` recibe los tres coeficientes de la ecuación de segundo grado $ax^2+bx+c$ y calcula la raíz.\n"
      ],
      "text/plain": [
       "`raiz1` recibe los tres coeficientes de la ecuación de segundo grado $ax^2+bx+c$ y calcula la raíz.\n"
      ]
     },
     "execution_count": 3,
     "metadata": {},
     "output_type": "execute_result"
    }
   ],
   "source": [
    "?raiz1"
   ]
  },
  {
   "cell_type": "code",
   "execution_count": 4,
   "metadata": {
    "collapsed": false
   },
   "outputs": [
    {
     "name": "stdout",
     "output_type": "stream",
     "text": [
      "raiz1 serialize Serializer normalize_string SerializationState\n",
      "\n",
      "search: "
     ]
    },
    {
     "data": {
      "text/latex": [
       "\\texttt{tipo} recibe los coeficientes \\texttt{a}, \\texttt{b} y \\texttt{c} y devuelve el que tiene el tipo según esté en $\\mathbb{R}$, $\\mathbb{C}$ ó $\\mathbb{Z}$.\n"
      ],
      "text/markdown": [
       "`tipo` recibe los coeficientes `a`, `b` y `c` y devuelve el que tiene el tipo según esté en $\\mathbb{R}$, $\\mathbb{C}$ ó $\\mathbb{Z}$.\n"
      ],
      "text/plain": [
       "`tipo` recibe los coeficientes `a`, `b` y `c` y devuelve el que tiene el tipo según esté en $\\mathbb{R}$, $\\mathbb{C}$ ó $\\mathbb{Z}$.\n"
      ]
     },
     "execution_count": 4,
     "metadata": {},
     "output_type": "execute_result"
    }
   ],
   "source": [
    "?tipo"
   ]
  },
  {
   "cell_type": "code",
   "execution_count": 5,
   "metadata": {
    "collapsed": false
   },
   "outputs": [
    {
     "data": {
      "text/latex": [
       "\\texttt{identificador} redondea la \\texttt{raíz} dependiendo el tipo de la raíz, \\_i.e.\\_, si la raíz era \\texttt{0.1+0.0im} regresaba \\texttt{0.1}.\n"
      ],
      "text/markdown": [
       "`identificador` redondea la `raíz` dependiendo el tipo de la raíz, _i.e._, si la raíz era `0.1+0.0im` regresaba `0.1`.\n"
      ],
      "text/plain": [
       "`identificador` redondea la `raíz` dependiendo el tipo de la raíz, _i.e._, si la raíz era `0.1+0.0im` regresaba `0.1`.\n"
      ]
     },
     "execution_count": 5,
     "metadata": {},
     "output_type": "execute_result"
    }
   ],
   "source": [
    "?identificador"
   ]
  },
  {
   "cell_type": "code",
   "execution_count": 6,
   "metadata": {
    "collapsed": false
   },
   "outputs": [
    {
     "ename": "LoadError",
     "evalue": "LoadError: InexactError()\nwhile loading In[6], in expression starting on line 1",
     "output_type": "error",
     "traceback": [
      "LoadError: InexactError()\nwhile loading In[6], in expression starting on line 1",
      "",
      " in convert at complex.jl:18",
      " in raiz1 at In[2]:6"
     ]
    }
   ],
   "source": [
    "raiz1(1,3,33)"
   ]
  },
  {
   "cell_type": "code",
   "execution_count": 7,
   "metadata": {
    "collapsed": false
   },
   "outputs": [
    {
     "name": "stdout",
     "output_type": "stream",
     "text": [
      "tipo set_bigfloat_precision get_bigfloat_precision\n",
      "\n",
      "search: identificador\n",
      "\n"
     ]
    },
    {
     "data": {
      "text/plain": [
       "2-element Array{Any,1}:\n",
       " -1.5+5.54527im\n",
       " -1.5-5.54527im"
      ]
     },
     "execution_count": 7,
     "metadata": {},
     "output_type": "execute_result"
    }
   ],
   "source": [
    "raiz1(1.+0.im,3.+0.im,33.+0.im)"
   ]
  },
  {
   "cell_type": "code",
   "execution_count": 8,
   "metadata": {
    "collapsed": false
   },
   "outputs": [
    {
     "ename": "LoadError",
     "evalue": "LoadError: InexactError()\nwhile loading In[8], in expression starting on line 1",
     "output_type": "error",
     "traceback": [
      "LoadError: InexactError()\nwhile loading In[8], in expression starting on line 1",
      "",
      " in convert at complex.jl:17",
      " in raiz1 at In[2]:6"
     ]
    }
   ],
   "source": [
    "raiz1(1.+0im,3.+0im,33.+0im)"
   ]
  },
  {
   "cell_type": "code",
   "execution_count": 9,
   "metadata": {
    "collapsed": false
   },
   "outputs": [
    {
     "data": {
      "text/plain": [
       "-1.5 + 5.545268253204709im"
      ]
     },
     "execution_count": 9,
     "metadata": {},
     "output_type": "execute_result"
    }
   ],
   "source": [
    "convert(Complex{Float64},-1.5 + 5.545268253204709im)"
   ]
  },
  {
   "cell_type": "code",
   "execution_count": 10,
   "metadata": {
    "collapsed": false
   },
   "outputs": [
    {
     "data": {
      "text/plain": [
       "2-element Array{Any,1}:\n",
       " -1.16334\n",
       " -2.83666"
      ]
     },
     "execution_count": 10,
     "metadata": {},
     "output_type": "execute_result"
    }
   ],
   "source": [
    "raiz1(1,4,3.3)"
   ]
  },
  {
   "cell_type": "code",
   "execution_count": 11,
   "metadata": {
    "collapsed": false
   },
   "outputs": [
    {
     "data": {
      "text/plain": [
       "2-element Array{Any,1}:\n",
       " -1.16334\n",
       " -2.83666"
      ]
     },
     "execution_count": 11,
     "metadata": {},
     "output_type": "execute_result"
    }
   ],
   "source": [
    "raiz1(1,4,3.3)"
   ]
  },
  {
   "cell_type": "code",
   "execution_count": 12,
   "metadata": {
    "collapsed": false
   },
   "outputs": [
    {
     "data": {
      "text/plain": [
       "2-element Array{Any,1}:\n",
       " -2\n",
       " -2"
      ]
     },
     "execution_count": 12,
     "metadata": {},
     "output_type": "execute_result"
    }
   ],
   "source": [
    "raiz1(1,4,4)"
   ]
  }
 ],
 "metadata": {
  "kernelspec": {
   "display_name": "Julia 0.4.3",
   "language": "julia",
   "name": "julia-0.4"
  },
  "language_info": {
   "file_extension": ".jl",
   "mimetype": "application/julia",
   "name": "julia",
   "version": "0.4.3"
  }
 },
 "nbformat": 4,
 "nbformat_minor": 0
}
