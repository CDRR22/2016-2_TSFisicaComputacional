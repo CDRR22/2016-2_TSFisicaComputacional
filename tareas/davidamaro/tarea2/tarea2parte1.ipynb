{
 "cells": [
  {
   "cell_type": "markdown",
   "metadata": {},
   "source": [
    "#  Tarea 2 | Amaro-Alcalá David"
   ]
  },
  {
   "cell_type": "markdown",
   "metadata": {},
   "source": [
    "##  Ejercicio 1"
   ]
  },
  {
   "cell_type": "markdown",
   "metadata": {},
   "source": [
    "Creamos diez datos aleatorios."
   ]
  },
  {
   "cell_type": "code",
   "execution_count": 1,
   "metadata": {
    "collapsed": false
   },
   "outputs": [
    {
     "data": {
      "text/plain": [
       "10-element Array{Float64,1}:\n",
       " -0.772143\n",
       "  0.773134\n",
       "  1.12138 \n",
       "  0.532148\n",
       " -1.29523 \n",
       " -0.773597\n",
       " -1.04053 \n",
       " -0.887683\n",
       " -0.971733\n",
       " -0.864367"
      ]
     },
     "execution_count": 1,
     "metadata": {},
     "output_type": "execute_result"
    }
   ],
   "source": [
    "aleas = randn(10)"
   ]
  },
  {
   "cell_type": "code",
   "execution_count": 6,
   "metadata": {
    "collapsed": false
   },
   "outputs": [
    {
     "data": {
      "text/plain": [
       "histograma (generic function with 1 method)"
      ]
     },
     "execution_count": 6,
     "metadata": {},
     "output_type": "execute_result"
    }
   ],
   "source": [
    "function histograma(nhist)\n",
    "    # código\n",
    "end"
   ]
  },
  {
   "cell_type": "code",
   "execution_count": 2,
   "metadata": {
    "collapsed": false
   },
   "outputs": [
    {
     "data": {
      "text/plain": [
       "3"
      ]
     },
     "execution_count": 2,
     "metadata": {},
     "output_type": "execute_result"
    }
   ],
   "source": [
    "nhis = 3"
   ]
  },
  {
   "cell_type": "markdown",
   "metadata": {},
   "source": [
    "Se juega con las funciones `max` y `min`."
   ]
  },
  {
   "cell_type": "code",
   "execution_count": 3,
   "metadata": {
    "collapsed": false
   },
   "outputs": [
    {
     "data": {
      "text/plain": [
       "1.1213800545291968"
      ]
     },
     "execution_count": 3,
     "metadata": {},
     "output_type": "execute_result"
    }
   ],
   "source": [
    "max(aleas...)"
   ]
  },
  {
   "cell_type": "code",
   "execution_count": 4,
   "metadata": {
    "collapsed": false
   },
   "outputs": [
    {
     "data": {
      "text/plain": [
       "-1.2952341083226764"
      ]
     },
     "execution_count": 4,
     "metadata": {},
     "output_type": "execute_result"
    }
   ],
   "source": [
    "min(aleas...)"
   ]
  },
  {
   "cell_type": "markdown",
   "metadata": {},
   "source": [
    "Definimos una cantidad que se usa después."
   ]
  },
  {
   "cell_type": "code",
   "execution_count": 5,
   "metadata": {
    "collapsed": false
   },
   "outputs": [
    {
     "data": {
      "text/plain": [
       "0.8055380542839577"
      ]
     },
     "execution_count": 5,
     "metadata": {},
     "output_type": "execute_result"
    }
   ],
   "source": [
    "Δx = (max(aleas...) - min(aleas...))/nhis"
   ]
  },
  {
   "cell_type": "markdown",
   "metadata": {},
   "source": [
    "Quiero ver los intervalos."
   ]
  },
  {
   "cell_type": "code",
   "execution_count": 14,
   "metadata": {
    "collapsed": false
   },
   "outputs": [
    {
     "name": "stdout",
     "output_type": "stream",
     "text": [
      "-1.2952341083226764\n",
      "-0.48969605403871863\n",
      "0.3158420002452391\n",
      "1.121380054529197\n"
     ]
    }
   ],
   "source": [
    "a = min(aleas...)\n",
    "\n",
    "for i in 1:nhis+1\n",
    "    println(a)\n",
    "    a += Δx\n",
    "end"
   ]
  },
  {
   "cell_type": "markdown",
   "metadata": {},
   "source": [
    "Haciendo caso de la advertencia, tenemos que pensar la forma en la que poder tener que leer sólo una vez los datos. Esto es leemos un valor y aumentamos un \"vector\" en la entrada que corresponde al intervalo donde cae el valor."
   ]
  },
  {
   "cell_type": "code",
   "execution_count": 17,
   "metadata": {
    "collapsed": false
   },
   "outputs": [],
   "source": [
    "a = min(aleas...)\n",
    "res = zeros(nhis+1)\n",
    "for i in 1:nhis+1\n",
    "    if aleas[2] <= a + Δx && aleas[2] >= a\n",
    "        res[i] += 1\n",
    "    end\n",
    "    a += Δx\n",
    "end"
   ]
  },
  {
   "cell_type": "code",
   "execution_count": 18,
   "metadata": {
    "collapsed": false
   },
   "outputs": [
    {
     "data": {
      "text/plain": [
       "4-element Array{Float64,1}:\n",
       " 0.0\n",
       " 0.0\n",
       " 1.0\n",
       " 0.0"
      ]
     },
     "execution_count": 18,
     "metadata": {},
     "output_type": "execute_result"
    }
   ],
   "source": [
    "res"
   ]
  },
  {
   "cell_type": "markdown",
   "metadata": {},
   "source": [
    "Definimos la función `paso` que para un único valor, nos devuelve el vector con el valor que corresponde al intervalo en el que cae el valor, aumentado. En matemáticas: Si $\\mathrm{valor} \\in R_n$ entonces, $\\mathrm{Vector}[R_n]++$."
   ]
  },
  {
   "cell_type": "code",
   "execution_count": 1,
   "metadata": {
    "collapsed": false
   },
   "outputs": [
    {
     "data": {
      "text/plain": [
       "paso (generic function with 1 method)"
      ]
     },
     "execution_count": 1,
     "metadata": {},
     "output_type": "execute_result"
    }
   ],
   "source": [
    "\"\"\"\n",
    "Función `paso`. Recibe __dos__ argumentos:\n",
    "\n",
    "1. `valor`: Valor numérico que se va a buscar su lugar en algún intervalo.\n",
    "2. `res`: Vector resultado de aumentar el valor que corresponde al intervalo en el que cae  `valor`.\n",
    "\"\"\"\n",
    "\n",
    "function paso(valor, res)\n",
    "    a = min(aleas...)\n",
    "    for i in 1:nhis+1\n",
    "        if valor <= a + Δx && valor >= a\n",
    "            res[i] += 1\n",
    "        end\n",
    "        a += Δx\n",
    "    end\n",
    "    res\n",
    "end"
   ]
  },
  {
   "cell_type": "code",
   "execution_count": 2,
   "metadata": {
    "collapsed": false
   },
   "outputs": [
    {
     "name": "stdout",
     "output_type": "stream",
     "text": [
      "search: "
     ]
    },
    {
     "data": {
      "text/latex": [
       "Función \\texttt{paso}. Recibe \\_\\_dos\\_\\_ argumentos:\n",
       "\\begin{enumerate}\n",
       "\\item \\texttt{valor}: Valor numérico que se va a buscar su lugar en algún intervalo.\n",
       "\\item \\texttt{res}: Vector resultado de aumentar el valor que corresponde al intervalo en el que cae  \\texttt{valor}.\n",
       "\\end{enumerate}\n"
      ],
      "text/markdown": [
       "Función `paso`. Recibe __dos__ argumentos:\n",
       "\n",
       "1. `valor`: Valor numérico que se va a buscar su lugar en algún intervalo.\n",
       "2. `res`: Vector resultado de aumentar el valor que corresponde al intervalo en el que cae  `valor`.\n"
      ],
      "text/plain": [
       "Función `paso`. Recibe __dos__ argumentos:\n",
       "\n",
       "1. `valor`: Valor numérico que se va a buscar su lugar en algún intervalo.\n",
       "2. `res`: Vector resultado de aumentar el valor que corresponde al intervalo en el que cae  `valor`.\n"
      ]
     },
     "execution_count": 2,
     "metadata": {},
     "output_type": "execute_result"
    },
    {
     "name": "stdout",
     "output_type": "stream",
     "text": [
      "paso parsefloat ParseError AbstractSparseVector PartialQuickSort parse\n",
      "\n"
     ]
    }
   ],
   "source": [
    "?paso"
   ]
  },
  {
   "cell_type": "code",
   "execution_count": 28,
   "metadata": {
    "collapsed": false
   },
   "outputs": [
    {
     "data": {
      "text/plain": [
       "4-element Array{Float64,1}:\n",
       " 0.0\n",
       " 0.0\n",
       " 1.0\n",
       " 0.0"
      ]
     },
     "execution_count": 28,
     "metadata": {},
     "output_type": "execute_result"
    }
   ],
   "source": [
    "paso(aleas[2],zeros(nhis+1))"
   ]
  },
  {
   "cell_type": "code",
   "execution_count": 3,
   "metadata": {
    "collapsed": false
   },
   "outputs": [
    {
     "data": {
      "text/plain": [
       "completo (generic function with 1 method)"
      ]
     },
     "execution_count": 3,
     "metadata": {},
     "output_type": "execute_result"
    }
   ],
   "source": [
    "\"\"\"\n",
    "Función `completa` evalúa `paso` para cada uno de los valores en `listaValores`.\n",
    "\"\"\"\n",
    "\n",
    "function completo(listaValores)\n",
    "    res = zeros(nhis + 1)\n",
    "    for i in 1:length(listaValores)\n",
    "        res = paso(listaValores[i], res)\n",
    "    end\n",
    "    res\n",
    "end"
   ]
  },
  {
   "cell_type": "code",
   "execution_count": 30,
   "metadata": {
    "collapsed": false
   },
   "outputs": [
    {
     "data": {
      "text/plain": [
       "4-element Array{Float64,1}:\n",
       " 7.0\n",
       " 0.0\n",
       " 3.0\n",
       " 0.0"
      ]
     },
     "execution_count": 30,
     "metadata": {},
     "output_type": "execute_result"
    }
   ],
   "source": [
    "juas = completo(aleas)"
   ]
  },
  {
   "cell_type": "code",
   "execution_count": 35,
   "metadata": {
    "collapsed": false
   },
   "outputs": [
    {
     "data": {
      "text/plain": [
       "-0.48969605403871863"
      ]
     },
     "execution_count": 35,
     "metadata": {},
     "output_type": "execute_result"
    }
   ],
   "source": [
    "min(aleas...) + Δx"
   ]
  },
  {
   "cell_type": "code",
   "execution_count": 34,
   "metadata": {
    "collapsed": false
   },
   "outputs": [
    {
     "data": {
      "text/plain": [
       "0.3158420002452391"
      ]
     },
     "execution_count": 34,
     "metadata": {},
     "output_type": "execute_result"
    }
   ],
   "source": [
    "min(aleas...) + 2Δx"
   ]
  },
  {
   "cell_type": "code",
   "execution_count": 36,
   "metadata": {
    "collapsed": false
   },
   "outputs": [
    {
     "data": {
      "text/plain": [
       "1.121380054529197"
      ]
     },
     "execution_count": 36,
     "metadata": {},
     "output_type": "execute_result"
    }
   ],
   "source": [
    "min(aleas...) + 3Δx"
   ]
  },
  {
   "cell_type": "code",
   "execution_count": 31,
   "metadata": {
    "collapsed": false
   },
   "outputs": [
    {
     "data": {
      "text/plain": [
       "10-element Array{Float64,1}:\n",
       " -0.772143\n",
       "  0.773134\n",
       "  1.12138 \n",
       "  0.532148\n",
       " -1.29523 \n",
       " -0.773597\n",
       " -1.04053 \n",
       " -0.887683\n",
       " -0.971733\n",
       " -0.864367"
      ]
     },
     "execution_count": 31,
     "metadata": {},
     "output_type": "execute_result"
    }
   ],
   "source": [
    "aleas"
   ]
  },
  {
   "cell_type": "markdown",
   "metadata": {},
   "source": [
    "Vemos que sí funciona. Vamos a poner todo en una función."
   ]
  },
  {
   "cell_type": "markdown",
   "metadata": {},
   "source": [
    "Implementamos las funciones de arriba con mejores nombres y las usamos para generar el histograma."
   ]
  },
  {
   "cell_type": "code",
   "execution_count": 4,
   "metadata": {
    "collapsed": false
   },
   "outputs": [
    {
     "data": {
      "text/plain": [
       "paso (generic function with 1 method)"
      ]
     },
     "execution_count": 4,
     "metadata": {},
     "output_type": "execute_result"
    }
   ],
   "source": [
    "function paso(valor, res, Δx,nhist,minimo)\n",
    "    a = minimo\n",
    "    for i in 1:nhist+1\n",
    "        if valor <= a + Δx && valor >= a\n",
    "            res[i] += 1\n",
    "        end\n",
    "        a += Δx\n",
    "    end\n",
    "    res\n",
    "end"
   ]
  },
  {
   "cell_type": "code",
   "execution_count": 5,
   "metadata": {
    "collapsed": false
   },
   "outputs": [
    {
     "data": {
      "text/plain": [
       "completo (generic function with 1 method)"
      ]
     },
     "execution_count": 5,
     "metadata": {},
     "output_type": "execute_result"
    }
   ],
   "source": [
    "function completo(listaValores,nhist,Δx)\n",
    "    res = zeros(nhist + 1)\n",
    "    minimo = min(listaValores...)\n",
    "    for i in 1:length(listaValores)\n",
    "        res = paso(listaValores[i], res, Δx,nhist,minimo)\n",
    "    end\n",
    "    res\n",
    "end"
   ]
  },
  {
   "cell_type": "code",
   "execution_count": 4,
   "metadata": {
    "collapsed": false
   },
   "outputs": [
    {
     "data": {
      "text/plain": [
       "hiper (generic function with 1 method)"
      ]
     },
     "execution_count": 4,
     "metadata": {},
     "output_type": "execute_result"
    }
   ],
   "source": [
    "\"\"\"\n",
    "`hiper` es la función que recibe el número de intervalos que deseamos tener.\n",
    "Calcula `Δx` y se lo pasa a `completo`. \n",
    "\"\"\"\n",
    "\n",
    "function hiper(nhist)\n",
    "    aleas = randn(100)\n",
    "    Δx = (max(aleas...) - min(aleas...))/nhist\n",
    "    completo(aleas,nhist,Δx)\n",
    "end"
   ]
  },
  {
   "cell_type": "code",
   "execution_count": 5,
   "metadata": {
    "collapsed": false
   },
   "outputs": [
    {
     "name": "stdout",
     "output_type": "stream",
     "text": [
      "search: "
     ]
    },
    {
     "data": {
      "text/latex": [
       "\\texttt{hiper} es la función que recibe el número de intervalos que deseamos tener. Calcula \\texttt{Δx} y se lo pasa a \\texttt{completo}. \n"
      ],
      "text/markdown": [
       "`hiper` es la función que recibe el número de intervalos que deseamos tener. Calcula `Δx` y se lo pasa a `completo`. \n"
      ],
      "text/plain": [
       "`hiper` es la función que recibe el número de intervalos que deseamos tener. Calcula `Δx` y se lo pasa a `completo`. \n"
      ]
     },
     "execution_count": 5,
     "metadata": {},
     "output_type": "execute_result"
    },
    {
     "name": "stdout",
     "output_type": "stream",
     "text": [
      "hiper with_bigfloat_precision\n",
      "\n"
     ]
    }
   ],
   "source": [
    "?hiper"
   ]
  },
  {
   "cell_type": "code",
   "execution_count": 6,
   "metadata": {
    "collapsed": false
   },
   "outputs": [
    {
     "data": {
      "text/plain": [
       "histograma (generic function with 1 method)"
      ]
     },
     "execution_count": 6,
     "metadata": {},
     "output_type": "execute_result"
    }
   ],
   "source": [
    "\"\"\"\n",
    "`histograma` Recibe el número de intervalos. Utilizando a `hiper` recibe\n",
    "el vector que tiene el histograma. Utiliza un ciclo `for` para generar\n",
    "\"visualmente\" el histograma en su versión horizontal.\n",
    "\"\"\"\n",
    "\n",
    "function histograma(n)\n",
    "    valores = hiper(n)\n",
    "    for i in 1:length(valores)\n",
    "        print(\": \")\n",
    "        for j in 1:valores[i]\n",
    "            print(\"|\")\n",
    "        end\n",
    "        println(\"\")\n",
    "    end\n",
    "end"
   ]
  },
  {
   "cell_type": "code",
   "execution_count": 1,
   "metadata": {
    "collapsed": true
   },
   "outputs": [],
   "source": [
    "using PyPlot"
   ]
  },
  {
   "cell_type": "code",
   "execution_count": 11,
   "metadata": {
    "collapsed": true
   },
   "outputs": [
    {
     "name": "stdout",
     "output_type": "stream",
     "text": [
      ": |"
     ]
    },
    {
     "ename": "LoadError",
     "evalue": "LoadError: MethodError: `start` has no method matching start(::Void)\nwhile loading In[11], in expression starting on line 1",
     "output_type": "error",
     "traceback": [
      "LoadError: MethodError: `start` has no method matching start(::Void)\nwhile loading In[11], in expression starting on line 1",
      "",
      " in writedlm at datafmt.jl:560",
      " in anonymous at datafmt.jl:575",
      " in open at iostream.jl:114",
      " in writedlm at datafmt.jl:574",
      " in writedlm at datafmt.jl:579"
     ]
    },
    {
     "name": "stdout",
     "output_type": "stream",
     "text": [
      "|\n",
      ": |||||\n",
      ": ||||\n",
      ": ||||\n",
      ": |||||||\n",
      ": ||||||||||||||||||||\n",
      ": ||||||||||||||||||\n",
      ": ||||||||||||||||||||||||||||||||\n",
      ": |||||||||||||||||||||||||||||||||||||||||||||||||||||\n",
      ": |||||||||||||||||||||||||||||||||||||||||||||||||||||||||||||||||||||\n",
      ": ||||||||||||||||||||||||||||||||||||||||||||||||||||||||||||||||||||||\n",
      ": ||||||||||||||||||||||||||||||||||||||||||||||||||||||||||||||||||||||||||||||||||||||||||||||||||||||||||||||||||||||||\n",
      ": |||||||||||||||||||||||||||||||||||||||||||||||||||||||||||||||||||||||||||||||||||||||||||||||||||||||||||||||||||||||||||||||||||||||||||||||||||||||\n",
      ": ||||||||||||||||||||||||||||||||||||||||||||||||||||||||||||||||||||||||||||||||||||||||||||||||||||||||||||||||||||||||||||||||||||||||||||||||||||||||||||||||||||||||||||||||||||||||||||||\n",
      ": ||||||||||||||||||||||||||||||||||||||||||||||||||||||||||||||||||||||||||||||||||||||||||||||||||||||||||||||||||||||||||||||||||||||||||||||||||||||||||||||||||||||||||||||||||||||||||||||||||||||||||||||||||||||||||||||||||||||||||||||||||||||||||||\n",
      ": ||||||||||||||||||||||||||||||||||||||||||||||||||||||||||||||||||||||||||||||||||||||||||||||||||||||||||||||||||||||||||||||||||||||||||||||||||||||||||||||||||||||||||||||||||||||||||||||||||||||||||||||||||||||||||||||||||||||||||||||||||||||||||||||||||\n",
      ": ||||||||||||||||||||||||||||||||||||||||||||||||||||||||||||||||||||||||||||||||||||||||||||||||||||||||||||||||||||||||||||||||||||||||||||||||||||||||||||||||||||||||||||||||||||||||||||||||||||||||||||||||||||||||||||||||||||||||||||||||||||||||||||||||||||||||||||||||||||||||||||||||||||||||||||||||||||||||||||||||||\n",
      ": ||||||||||||||||||||||||||||||||||||||||||||||||||||||||||||||||||||||||||||||||||||||||||||||||||||||||||||||||||||||||||||||||||||||||||||||||||||||||||||||||||||||||||||||||||||||||||||||||||||||||||||||||||||||||||||||||||||||||||||||||||||||||||||||||||||||||||||||||||||||||||||||||||||||||||||||||||||||||||||||||||||||||||||||||||||||||||||||||||||||||||||||||||||||\n",
      ": ||||||||||||||||||||||||||||||||||||||||||||||||||||||||||||||||||||||||||||||||||||||||||||||||||||||||||||||||||||||||||||||||||||||||||||||||||||||||||||||||||||||||||||||||||||||||||||||||||||||||||||||||||||||||||||||||||||||||||||||||||||||||||||||||||||||||||||||||||||||||||||||||||||||||||||||||||||||||||||||||||||||||||||||||||||||||||||||||||||||||||||||||||||||||||||||||||||||||||||||||||||||||||||||||\n",
      ": |||||||||||||||||||||||||||||||||||||||||||||||||||||||||||||||||||||||||||||||||||||||||||||||||||||||||||||||||||||||||||||||||||||||||||||||||||||||||||||||||||||||||||||||||||||||||||||||||||||||||||||||||||||||||||||||||||||||||||||||||||||||||||||||||||||||||||||||||||||||||||||||||||||||||||||||||||||||||||||||||||||||||||||||||||||||||||||||||||||||||||||||||||||||||||||||||||||||||||||||||||||||||||||||||||||||||||||||||||||||||||||||||||||||||||||||||||||||||||||||||||||||||||||||||||||||||||||||||||||||||\n",
      ": ||||||||||||||||||||||||||||||||||||||||||||||||||||||||||||||||||||||||||||||||||||||||||||||||||||||||||||||||||||||||||||||||||||||||||||||||||||||||||||||||||||||||||||||||||||||||||||||||||||||||||||||||||||||||||||||||||||||||||||||||||||||||||||||||||||||||||||||||||||||||||||||||||||||||||||||||||||||||||||||||||||||||||||||||||||||||||||||||||||||||||||||||||||||||||||||||||||||||||||||||||||||||||||||||||||||||||||||||||||||||||||||||||||||||||||||||||||||||||||||||||||||||||||||||||||||||||||||||||||||||||||\n",
      ": |||||||||||||||||||||||||||||||||||||||||||||||||||||||||||||||||||||||||||||||||||||||||||||||||||||||||||||||||||||||||||||||||||||||||||||||||||||||||||||||||||||||||||||||||||||||||||||||||||||||||||||||||||||||||||||||||||||||||||||||||||||||||||||||||||||||||||||||||||||||||||||||||||||||||||||||||||||||||||||||||||||||||||||||||||||||||||||||||||||||||||||||||||||||||||||||||||||||||||||||||||||||||||||||||||||||||||||||||||||||||||||||||||||||||||||||||||||||||||||||||||||||||||||||||||||||||||||||||||||||||||||\n",
      ": |||||||||||||||||||||||||||||||||||||||||||||||||||||||||||||||||||||||||||||||||||||||||||||||||||||||||||||||||||||||||||||||||||||||||||||||||||||||||||||||||||||||||||||||||||||||||||||||||||||||||||||||||||||||||||||||||||||||||||||||||||||||||||||||||||||||||||||||||||||||||||||||||||||||||||||||||||||||||||||||||||||||||||||||||||||||||||||||||||||||||||||||||||||||||||||||||||||||||||||||||||||||||||||||||||||||||||||||||||||||||||||||||||||||||||||||||||||||||||||||||||||||||||||||||||||||||||||||||||||||||||||||||||||||||||||||||||||||||||||||||||||\n",
      ": |||||||||||||||||||||||||||||||||||||||||||||||||||||||||||||||||||||||||||||||||||||||||||||||||||||||||||||||||||||||||||||||||||||||||||||||||||||||||||||||||||||||||||||||||||||||||||||||||||||||||||||||||||||||||||||||||||||||||||||||||||||||||||||||||||||||||||||||||||||||||||||||||||||||||||||||||||||||||||||||||||||||||||||||||||||||||||||||||||||||||||||||||||||||||||||||||||||||||||||||||||||||||||||||||||||||||||||||||||||||||||||||||||||||||||||||||||||||||||||||||||||||||||||||||||||||||||||||||||||||||||||||||||||||||||||||||||||||||||||||||||||||||||||||||||||||\n",
      ": |||||||||||||||||||||||||||||||||||||||||||||||||||||||||||||||||||||||||||||||||||||||||||||||||||||||||||||||||||||||||||||||||||||||||||||||||||||||||||||||||||||||||||||||||||||||||||||||||||||||||||||||||||||||||||||||||||||||||||||||||||||||||||||||||||||||||||||||||||||||||||||||||||||||||||||||||||||||||||||||||||||||||||||||||||||||||||||||||||||||||||||||||||||||||||||||||||||||||||||||||||||||||||||||||||||||||||||||||||||||||||||||||||||||||||||||||||||||||||||||||||||||||||||||||||||||||||||||||||||||||||||||||||||||||||||||||||||||||||||||||||||||||||||||||||||||||||||||||||||||||||||||||||||||||\n",
      ": |||||||||||||||||||||||||||||||||||||||||||||||||||||||||||||||||||||||||||||||||||||||||||||||||||||||||||||||||||||||||||||||||||||||||||||||||||||||||||||||||||||||||||||||||||||||||||||||||||||||||||||||||||||||||||||||||||||||||||||||||||||||||||||||||||||||||||||||||||||||||||||||||||||||||||||||||||||||||||||||||||||||||||||||||||||||||||||||||||||||||||||||||||||||||||||||||||||||||||||||||||||||||||||||||||||||||||||||||||||||||||||||||||||||||||||||||||||||||||||||||||||||||||||||||||||||||||||||||||||||||||||||||||||||||||||||||||||||||||||||||||||||||||||||||||||||||||||||||||||||||||||||||\n",
      ": |||||||||||||||||||||||||||||||||||||||||||||||||||||||||||||||||||||||||||||||||||||||||||||||||||||||||||||||||||||||||||||||||||||||||||||||||||||||||||||||||||||||||||||||||||||||||||||||||||||||||||||||||||||||||||||||||||||||||||||||||||||||||||||||||||||||||||||||||||||||||||||||||||||||||||||||||||||||||||||||||||||||||||||||||||||||||||||||||||||||||||||||||||||||||||||||||||||||||||||||||||||||||||||||||||||||||||||||||||||||||||||||||||||||||||||||||||||||||||||||||||||||||||||||||||||||||||||||||||||||||||||||||||||||||||||||||||||\n",
      ": ||||||||||||||||||||||||||||||||||||||||||||||||||||||||||||||||||||||||||||||||||||||||||||||||||||||||||||||||||||||||||||||||||||||||||||||||||||||||||||||||||||||||||||||||||||||||||||||||||||||||||||||||||||||||||||||||||||||||||||||||||||||||||||||||||||||||||||||||||||||||||||||||||||||||||||||||||||||||||||||||||||||||||||||||||||||||||||||||||||||||||||||||||||||||||||||||||||||||||||||||||||||||||||||||||||||||||||||||||||||||||||||||||||||||||||||||||||||||||||||||||||||||||||||||||||||||||||||||||||||||||||||||\n",
      ": |||||||||||||||||||||||||||||||||||||||||||||||||||||||||||||||||||||||||||||||||||||||||||||||||||||||||||||||||||||||||||||||||||||||||||||||||||||||||||||||||||||||||||||||||||||||||||||||||||||||||||||||||||||||||||||||||||||||||||||||||||||||||||||||||||||||||||||||||||||||||||||||||||||||||||||||||||||||||||||||||||||||||||||||||||||||||||||||||||||||||||||||||||||||||||||||||||||||||||||||||||||||||||||||||||||||||||||||||||||||||||||||||||\n",
      ": |||||||||||||||||||||||||||||||||||||||||||||||||||||||||||||||||||||||||||||||||||||||||||||||||||||||||||||||||||||||||||||||||||||||||||||||||||||||||||||||||||||||||||||||||||||||||||||||||||||||||||||||||||||||||||||||||||||||||||||||||||||||||||||||||||||||||||||||||||||||||||||||||||||||||||||||||||||||||||||||||||||||||||||||||||||||||||||||||||||||||||||||||||||||||||||||||||||||||||\n",
      ": |||||||||||||||||||||||||||||||||||||||||||||||||||||||||||||||||||||||||||||||||||||||||||||||||||||||||||||||||||||||||||||||||||||||||||||||||||||||||||||||||||||||||||||||||||||||||||||||||||||||||||||||||||||||||||||||||||||||||||||||||||||||||||||||||||||||||||||||||||||||||||||||||||||||||||||||||||||||||||||||||||||||||||||||||||||||||||||||||||||||||\n",
      ": |||||||||||||||||||||||||||||||||||||||||||||||||||||||||||||||||||||||||||||||||||||||||||||||||||||||||||||||||||||||||||||||||||||||||||||||||||||||||||||||||||||||||||||||||||||||||||||||||||||||||||||||||||||||||||||||||||||||||||||||||||||||||||||||||||||||||||||||||||||||||||||||||||||\n",
      ": |||||||||||||||||||||||||||||||||||||||||||||||||||||||||||||||||||||||||||||||||||||||||||||||||||||||||||||||||||||||||||||||||||||||||||||||||||||||||||||||||||||||||||||||||||||||||||||||||||||||||||||||||||||||||||||||||||||||||||||||||||||||||||||||||\n",
      ": |||||||||||||||||||||||||||||||||||||||||||||||||||||||||||||||||||||||||||||||||||||||||||||||||||||||||||||||||||||||||||||||||||||||||||||||||||||||||||||||||||||||||||||||||||||||||||||||||||||||||||||\n",
      ": |||||||||||||||||||||||||||||||||||||||||||||||||||||||||||||||||||||||||||||||||||||||||||||||||||||||||||||||||||||||||||||||||||||||||||\n",
      ": ||||||||||||||||||||||||||||||||||||||||||||||||||||||||||||||||||||||||||||||||||||||||||||||||||||||||||||||||||||||||||\n",
      ": |||||||||||||||||||||||||||||||||||||||||||||||||||||||||||||||||||||||||||||||||||||||||||||||||||||||||||||\n",
      ": |||||||||||||||||||||||||||||||||||||||||||||||||||||||||||||||||||||||||||||\n",
      ": ||||||||||||||||||||||||||||||||||||||||||||||||||||||||||||||\n",
      ": ||||||||||||||||||||||||||||||\n",
      ": |||||||||||||||||||||||||||||||||\n",
      ": |||||||||||||||||||||||||||\n",
      ": ||||||||||||||\n",
      ": |||||||||||||||\n",
      ": |||||||\n",
      ": |||||||||\n",
      ": ||\n",
      ": ||\n",
      ": |\n",
      ": |\n",
      ": |\n"
     ]
    }
   ],
   "source": [
    "#writedlm(\"adf.txt\", histograma(50))"
   ]
  },
  {
   "cell_type": "markdown",
   "metadata": {},
   "source": [
    "###  Algunos ejemplitos"
   ]
  },
  {
   "cell_type": "code",
   "execution_count": 2,
   "metadata": {
    "collapsed": false
   },
   "outputs": [
    {
     "data": {
      "image/png": "[encoded data removed]",
      "text/plain": [
       "PyPlot.Figure(PyObject <matplotlib.figure.Figure object at 0x7fb86f40acf8>)"
      ]
     },
     "metadata": {},
     "output_type": "display_data"
    },
    {
     "data": {
      "text/plain": [
       "([1.0,0.0,0.0,1.0,2.0,4.0,2.0,1.0,6.0,0.0  …  7.0,7.0,4.0,5.0,4.0,2.0,1.0,1.0,1.0,1.0],[-3.35104,-3.22231,-3.09359,-2.96486,-2.83613,-2.70741,-2.57868,-2.44995,-2.32123,-2.1925  …  1.92676,2.05548,2.18421,2.31294,2.44166,2.57039,2.69912,2.82784,2.95657,3.0853],Any[PyObject <matplotlib.patches.Rectangle object at 0x7fb86f0b79e8>,PyObject <matplotlib.patches.Rectangle object at 0x7fb86f0c3940>,PyObject <matplotlib.patches.Rectangle object at 0x7fb86f07dfd0>,PyObject <matplotlib.patches.Rectangle object at 0x7fb86f071940>,PyObject <matplotlib.patches.Rectangle object at 0x7fb86f088b00>,PyObject <matplotlib.patches.Rectangle object at 0x7fb86f07d7b8>,PyObject <matplotlib.patches.Rectangle object at 0x7fb86f0917b8>,PyObject <matplotlib.patches.Rectangle object at 0x7fb86f0916d8>,PyObject <matplotlib.patches.Rectangle object at 0x7fb86f088240>,PyObject <matplotlib.patches.Rectangle object at 0x7fb86f091cc0>  …  PyObject <matplotlib.patches.Rectangle object at 0x7fb86eff7dd8>,PyObject <matplotlib.patches.Rectangle object at 0x7fb86f0756a0>,PyObject <matplotlib.patches.Rectangle object at 0x7fb86eff2358>,PyObject <matplotlib.patches.Rectangle object at 0x7fb86f061ef0>,PyObject <matplotlib.patches.Rectangle object at 0x7fb86f005c50>,PyObject <matplotlib.patches.Rectangle object at 0x7fb86effdfd0>,PyObject <matplotlib.patches.Rectangle object at 0x7fb86f00ce80>,PyObject <matplotlib.patches.Rectangle object at 0x7fb86f0db860>,PyObject <matplotlib.patches.Rectangle object at 0x7fb86effdf28>,PyObject <matplotlib.patches.Rectangle object at 0x7fb86f0dbda0>])"
      ]
     },
     "execution_count": 2,
     "metadata": {},
     "output_type": "execute_result"
    }
   ],
   "source": [
    "plt[:hist](randn(1000),50)"
   ]
  },
  {
   "cell_type": "code",
   "execution_count": 18,
   "metadata": {
    "collapsed": false
   },
   "outputs": [
    {
     "name": "stdout",
     "output_type": "stream",
     "text": [
      ": |||\n",
      ": |||\n",
      ": |||||||||||||||||\n",
      ": |||||||||||||||||||||||\n",
      ": ||||||||||||||||||||||||||\n",
      ": |||||||||||||||||\n",
      ": |||||||||\n",
      ": ||\n",
      ": |\n"
     ]
    }
   ],
   "source": [
    "histograma(8)"
   ]
  },
  {
   "cell_type": "code",
   "execution_count": 19,
   "metadata": {
    "collapsed": false
   },
   "outputs": [
    {
     "data": {
      "image/png": "[encoded data removed]",
      "text/plain": [
       "PyPlot.Figure(PyObject <matplotlib.figure.Figure object at 0x7fb86f011358>)"
      ]
     },
     "metadata": {},
     "output_type": "display_data"
    },
    {
     "data": {
      "text/plain": [
       "([8.0,15.0,23.0,20.0,10.0,15.0,6.0,3.0],[-1.777332075057199,-1.2555586898655988,-0.7337853046739986,-0.2120119194823984,0.3097614657092018,0.8315348509008018,1.3533082360924023,1.8750816212840027,2.396855006475603],Any[PyObject <matplotlib.patches.Rectangle object at 0x7fb86f07d198>,PyObject <matplotlib.patches.Rectangle object at 0x7fb86ef150f0>,PyObject <matplotlib.patches.Rectangle object at 0x7fb86eea6860>,PyObject <matplotlib.patches.Rectangle object at 0x7fb86eeaaa58>,PyObject <matplotlib.patches.Rectangle object at 0x7fb86ef1e668>,PyObject <matplotlib.patches.Rectangle object at 0x7fb86ef1eb00>,PyObject <matplotlib.patches.Rectangle object at 0x7fb86eeb7e80>,PyObject <matplotlib.patches.Rectangle object at 0x7fb86eeb7b00>])"
      ]
     },
     "execution_count": 19,
     "metadata": {},
     "output_type": "execute_result"
    }
   ],
   "source": [
    "plt[:hist](randn(100),8)"
   ]
  }
 ],
 "metadata": {
  "kernelspec": {
   "display_name": "Julia 0.4.3",
   "language": "julia",
   "name": "julia-0.4"
  },
  "language_info": {
   "file_extension": ".jl",
   "mimetype": "application/julia",
   "name": "julia",
   "version": "0.4.3"
  }
 },
 "nbformat": 4,
 "nbformat_minor": 0
}
