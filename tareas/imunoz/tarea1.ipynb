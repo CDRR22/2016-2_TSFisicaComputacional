{
 "cells": [
  {
   "cell_type": "markdown",
   "metadata": {},
   "source": [
    "<center><h1>Tarea 1</h1></center>\n",
    "\n",
    "<center><h2> Isaac Muñoz Estrada </h2></center>\n"
   ]
  },
  {
   "cell_type": "markdown",
   "metadata": {},
   "source": [
    "### Código"
   ]
  },
  {
   "cell_type": "code",
   "execution_count": 16,
   "metadata": {
    "collapsed": false
   },
   "outputs": [
    {
     "data": {
      "text/plain": [
       "queso (generic function with 2 methods)"
      ]
     },
     "execution_count": 16,
     "metadata": {},
     "output_type": "execute_result"
    }
   ],
   "source": [
    "\"\"\"\n",
    "<center><h1>`QUESO`</h1></center>\n",
    "<hr></hr>\n",
    "**Nombre:**\\n\n",
    "queso - Quadratic Equation Solver\\n\n",
    "**Sinopsis:**\\n\n",
    "queso(a, b, c, o)\\n\n",
    "**Descripción:**\\n\n",
    "Encuentra los valores de x para el polinomio ax² + bx + c = 0.\\n\n",
    "\"a\", \"b\" y \"c\" son números de tipo `Float64`.\n",
    "\n",
    "\"o\" es una variable opcional que solo acepta 0 (por defecto), 1 ó 2.\n",
    "Si \"o\" es igual a 1 ó 2 regresará el valor de x₁ ó x₂ respectivamente.\n",
    "La opción por defecto imprime ambas soluciones.\\n\\n\n",
    "\n",
    "La función siempre dará el resultado como números complejos (`Complex{Float64}`).\\n\n",
    "**Autor:**\\n\n",
    "Isaac Muñoz Estrada\n",
    "\"\"\"\n",
    "\n",
    "function queso(a::Float64, b::Float64, c::Float64, o::Int64 = 0)\n",
    "    \n",
    "    #Convierte las entradas a números complejos\n",
    "    a = complex(a)\n",
    "    b = complex(b)\n",
    "    c = complex(c)\n",
    "    \n",
    "    #Hace los cálculos\n",
    "    x₁ = ( b + sqrt( b^2 - 4*a*c ) ) / (2*a)\n",
    "    x₂ = ( b - sqrt( b^2 - 4*a*c ) ) / (2*a)\n",
    "    \n",
    "    #Según el argumento opcional devolverá la salida\n",
    "    if o == 1\n",
    "        \n",
    "        #Regresa la primera solución\n",
    "        println(\"La ecuación es ($a)x² + ($b)x + ($c) = 0\")\n",
    "        return x₁\n",
    "        \n",
    "    elseif o == 2\n",
    "        \n",
    "        #Regresa la segunda solución\n",
    "        println(\"La ecuación es ($a)x² + ($b)x + ($c) = 0\")\n",
    "        return x₂\n",
    "        \n",
    "    elseif o == 0\n",
    "        \n",
    "        #Imprime las soluciones\n",
    "        println(\"La ecuación es ($a)x² + ($b)x + ($c) = 0\\n\")\n",
    "        println(\"x₁ ⇒ $x₁ \\t x₂ ⇒ $x₂\")\n",
    "        \n",
    "    else\n",
    "        \n",
    "        #Si se introduce una opción distinta de 0,1 ó 2\n",
    "        #devuelve un error.\n",
    "        println(\"Opción no válida\")\n",
    "        \n",
    "    end\n",
    "\n",
    "#Aquí acaba la función \n",
    "end"
   ]
  },
  {
   "cell_type": "markdown",
   "metadata": {},
   "source": [
    "### Documentación"
   ]
  },
  {
   "cell_type": "code",
   "execution_count": 17,
   "metadata": {
    "collapsed": false
   },
   "outputs": [
    {
     "name": "stdout",
     "output_type": "stream",
     "text": [
      "search: "
     ]
    },
    {
     "data": {
      "text/latex": [
       "<center><h1>\\texttt{QUESO}</h1></center> <hr></hr> \\textbf{Nombre:}\n",
       "queso - Quadratic Equation Solver\n",
       "\\textbf{Sinopsis:}\n",
       "queso(a, b, c, o)\n",
       "\\textbf{Descripción:}\n",
       "Encuentra los valores de x para el polinomio ax² + bx + c = 0.\n",
       "\"a\", \"b\" y \"c\" son números de tipo \\texttt{Float64}.\n",
       "\"o\" es una variable opcional que solo acepta 0 (por defecto), 1 ó 2. Si \"o\" es igual a 1 ó 2 regresará el valor de x₁ ó x₂ respectivamente. La opción por defecto imprime ambas soluciones.\n",
       "La función siempre dará el resultado como números complejos (\\texttt{Complex{Float64}}).\n",
       "\\textbf{Autor:}\n",
       "Isaac Muñoz Estrada\n"
      ],
      "text/markdown": [
       "<center><h1>`QUESO`</h1></center> <hr></hr> **Nombre:**\n",
       "\n",
       "queso - Quadratic Equation Solver\n",
       "\n",
       "**Sinopsis:**\n",
       "\n",
       "queso(a, b, c, o)\n",
       "\n",
       "**Descripción:**\n",
       "\n",
       "Encuentra los valores de x para el polinomio ax² + bx + c = 0.\n",
       "\n",
       "\"a\", \"b\" y \"c\" son números de tipo `Float64`.\n",
       "\n",
       "\"o\" es una variable opcional que solo acepta 0 (por defecto), 1 ó 2. Si \"o\" es igual a 1 ó 2 regresará el valor de x₁ ó x₂ respectivamente. La opción por defecto imprime ambas soluciones.\n",
       "\n",
       "La función siempre dará el resultado como números complejos (`Complex{Float64}`).\n",
       "\n",
       "**Autor:**\n",
       "\n",
       "Isaac Muñoz Estrada\n"
      ],
      "text/plain": [
       "<center><h1>`QUESO`</h1></center> <hr></hr> **Nombre:**\n",
       "\n",
       "queso - Quadratic Equation Solver\n",
       "\n",
       "**Sinopsis:**\n",
       "\n",
       "queso(a, b, c, o)\n",
       "\n",
       "**Descripción:**\n",
       "\n",
       "Encuentra los valores de x para el polinomio ax² + bx + c = 0.\n",
       "\n",
       "\"a\", \"b\" y \"c\" son números de tipo `Float64`.\n",
       "\n",
       "\"o\" es una variable opcional que solo acepta 0 (por defecto), 1 ó 2. Si \"o\" es igual a 1 ó 2 regresará el valor de x₁ ó x₂ respectivamente. La opción por defecto imprime ambas soluciones.\n",
       "\n",
       "La función siempre dará el resultado como números complejos (`Complex{Float64}`).\n",
       "\n",
       "**Autor:**\n",
       "\n",
       "Isaac Muñoz Estrada\n"
      ]
     },
     "execution_count": 17,
     "metadata": {},
     "output_type": "execute_result"
    }
   ],
   "source": [
    "? queso"
   ]
  },
  {
   "cell_type": "markdown",
   "metadata": {},
   "source": [
    "### Ejemplos"
   ]
  },
  {
   "cell_type": "markdown",
   "metadata": {},
   "source": [
    "La función acepta números de tipo `Float64` y por defecto imprime las soluciones. Por ejemplo:"
   ]
  },
  {
   "cell_type": "code",
   "execution_count": 18,
   "metadata": {
    "collapsed": false
   },
   "outputs": [
    {
     "name": "stdout",
     "output_type": "stream",
     "text": [
      "queso\n",
      "\n",
      "La ecuación es (1.0 + 0.0im)x² + (0.0 + 0.0im)x + (4.0 + 0.0im) = 0\n",
      "\n"
     ]
    }
   ],
   "source": [
    "queso(1.0, 0.0, 4.0)"
   ]
  },
  {
   "cell_type": "markdown",
   "metadata": {},
   "source": [
    "Los resultados son regresados en forma de un número tipo `Complex{Float64}`. La función regresa la primera solución al agregar la opción al argumento,"
   ]
  },
  {
   "cell_type": "code",
   "execution_count": 19,
   "metadata": {
    "collapsed": false
   },
   "outputs": [
    {
     "data": {
      "text/plain": [
       "2.0 + 0.0im"
      ]
     },
     "execution_count": 19,
     "metadata": {},
     "output_type": "execute_result"
    }
   ],
   "source": [
    "queso(1.0, 0.0, -4.0, 1)"
   ]
  },
  {
   "cell_type": "markdown",
   "metadata": {},
   "source": [
    "Cuando se introduce algún tipo de dato que no sea válido arrojará un error. Por ejemplo introduciendo un dato de tipo `Int64`."
   ]
  },
  {
   "cell_type": "code",
   "execution_count": 21,
   "metadata": {
    "collapsed": false
   },
   "outputs": [
    {
     "ename": "LoadError",
     "evalue": "LoadError: MethodError: `queso` has no method matching queso(::Int64, ::Float64, ::Float64)\nClosest candidates are:\n  queso(!Matched::Float64, ::Float64, ::Float64)\n  queso(!Matched::Float64, ::Float64, ::Float64, !Matched::Int64)\nwhile loading In[21], in expression starting on line 1",
     "output_type": "error",
     "traceback": [
      "LoadError: MethodError: `queso` has no method matching queso(::Int64, ::Float64, ::Float64)\nClosest candidates are:\n  queso(!Matched::Float64, ::Float64, ::Float64)\n  queso(!Matched::Float64, ::Float64, ::Float64, !Matched::Int64)\nwhile loading In[21], in expression starting on line 1",
      ""
     ]
    }
   ],
   "source": [
    "queso(1, 0.0, -4.0)"
   ]
  }
 ],
 "metadata": {
  "kernelspec": {
   "display_name": "Julia 0.4.2",
   "language": "julia",
   "name": "julia-0.4"
  },
  "language_info": {
   "file_extension": ".jl",
   "mimetype": "application/julia",
   "name": "julia",
   "version": "0.4.2"
  }
 },
 "nbformat": 4,
 "nbformat_minor": 0
}
