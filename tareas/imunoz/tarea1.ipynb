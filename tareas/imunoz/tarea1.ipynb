{
 "cells": [
  {
   "cell_type": "markdown",
   "metadata": {},
   "source": [
    "<center><h1>Tarea 1</h1></center>\n",
    "\n",
    "<center><h2> Isaac Muñoz Estrada </h2></center>\n"
   ]
  },
  {
   "cell_type": "markdown",
   "metadata": {},
   "source": [
    "### Código"
   ]
  },
  {
   "cell_type": "code",
   "execution_count": 13,
   "metadata": {
    "collapsed": false
   },
   "outputs": [
    {
     "data": {
      "text/plain": [
       "queso (generic function with 2 methods)"
      ]
     },
     "execution_count": 13,
     "metadata": {},
     "output_type": "execute_result"
    }
   ],
   "source": [
    "\"\"\"\n",
    "<center><h1>`QUESO`</h1></center>\n",
    "<hr></hr>\n",
    "**Nombre:**\\n\n",
    "queso - Quadratic Equation Solver\\n\n",
    "**Sinopsis:**\\n\n",
    "queso(a, b, c, o)\\n\n",
    "**Descripción:**\\n\n",
    "Encuentra los valores de x para el polinomio ax² + bx + c = 0.\\n\n",
    "\"a\", \"b\" y \"c\" son números en cualquier formato que pueda ser convertido a flotante.\n",
    "\n",
    "\"o\" es una variable opcional que solo acepta 0 (por defecto), 1 ó 2.\n",
    "Si \"o\" es igual a 1 ó 2 regresará el valor de x₁ ó x₂ respectivamente.\n",
    "La opción por defecto imprime ambas soluciones.\\n\\n\n",
    "\n",
    "La función siempre dará el resultado como números complejos (`Complex{Float64}`).\\n\n",
    "**Autor:**\\n\n",
    "Isaac Muñoz Estrada\n",
    "\"\"\"\n",
    "\n",
    "function queso(a, b, c, o::Int64 = 0)\n",
    "    \n",
    "    #Convierte las entradas a números complejos\n",
    "    a = complex(float(a))\n",
    "    b = complex(float(b))\n",
    "    c = complex(float(c))\n",
    "    \n",
    "    #Hace los cálculos\n",
    "    x₁ = ( b + sqrt( b^2 - 4*a*c ) ) / (2*a)\n",
    "    x₂ = ( b - sqrt( b^2 - 4*a*c ) ) / (2*a)\n",
    "    \n",
    "    #Según el argumento opcional devolverá la salida\n",
    "    if o == 1\n",
    "        \n",
    "        #Regresa la primera solución\n",
    "        println(\"La ecuación es ($a)x² + ($b)x + ($c) = 0\")\n",
    "        return x₁\n",
    "        \n",
    "    elseif o == 2\n",
    "        \n",
    "        #Regresa la segunda solución\n",
    "        println(\"La ecuación es ($a)x² + ($b)x + ($c) = 0\")\n",
    "        return x₂\n",
    "        \n",
    "    elseif o == 0\n",
    "        \n",
    "        #Imprime las soluciones\n",
    "        println(\"La ecuación es ($a)x² + ($b)x + ($c) = 0\\n\")\n",
    "        println(\"x₁ ⇒ $x₁ \\t x₂ ⇒ $x₂\")\n",
    "        \n",
    "    else\n",
    "        \n",
    "        #Si se introduce una opción distinta de 0,1 ó 2\n",
    "        #devuelve un error.\n",
    "        println(\"Opción no válida\")\n",
    "        \n",
    "    end\n",
    "\n",
    "#Aquí acaba la función \n",
    "end"
   ]
  },
  {
   "cell_type": "markdown",
   "metadata": {},
   "source": [
    "### Documentación"
   ]
  },
  {
   "cell_type": "code",
   "execution_count": 14,
   "metadata": {
    "collapsed": false
   },
   "outputs": [
    {
     "name": "stdout",
     "output_type": "stream",
     "text": [
      "search: "
     ]
    },
    {
     "data": {
      "text/latex": [
       "<center><h1>\\texttt{QUESO}</h1></center> <hr></hr> \\textbf{Nombre:}\n",
       "queso - Quadratic Equation Solver\n",
       "\\textbf{Sinopsis:}\n",
       "queso(a, b, c, o)\n",
       "\\textbf{Descripción:}\n",
       "Encuentra los valores de x para el polinomio ax² + bx + c = 0.\n",
       "\"a\", \"b\" y \"c\" son números en cualquier formato que pueda ser convertido a flotante.\n",
       "\"o\" es una variable opcional que solo acepta 0 (por defecto), 1 ó 2. Si \"o\" es igual a 1 ó 2 regresará el valor de x₁ ó x₂ respectivamente. La opción por defecto imprime ambas soluciones.\n",
       "La función siempre dará el resultado como números complejos (\\texttt{Complex{Float64}}).\n",
       "\\textbf{Autor:}\n",
       "Isaac Muñoz Estrada\n"
      ],
      "text/markdown": [
       "<center><h1>`QUESO`</h1></center> <hr></hr> **Nombre:**\n",
       "\n",
       "queso - Quadratic Equation Solver\n",
       "\n",
       "**Sinopsis:**\n",
       "\n",
       "queso(a, b, c, o)\n",
       "\n",
       "**Descripción:**\n",
       "\n",
       "Encuentra los valores de x para el polinomio ax² + bx + c = 0.\n",
       "\n",
       "\"a\", \"b\" y \"c\" son números en cualquier formato que pueda ser convertido a flotante.\n",
       "\n",
       "\"o\" es una variable opcional que solo acepta 0 (por defecto), 1 ó 2. Si \"o\" es igual a 1 ó 2 regresará el valor de x₁ ó x₂ respectivamente. La opción por defecto imprime ambas soluciones.\n",
       "\n",
       "La función siempre dará el resultado como números complejos (`Complex{Float64}`).\n",
       "\n",
       "**Autor:**\n",
       "\n",
       "Isaac Muñoz Estrada\n"
      ],
      "text/plain": [
       "<center><h1>`QUESO`</h1></center> <hr></hr> **Nombre:**\n",
       "\n",
       "queso - Quadratic Equation Solver\n",
       "\n",
       "**Sinopsis:**\n",
       "\n",
       "queso(a, b, c, o)\n",
       "\n",
       "**Descripción:**\n",
       "\n",
       "Encuentra los valores de x para el polinomio ax² + bx + c = 0.\n",
       "\n",
       "\"a\", \"b\" y \"c\" son números en cualquier formato que pueda ser convertido a flotante.\n",
       "\n",
       "\"o\" es una variable opcional que solo acepta 0 (por defecto), 1 ó 2. Si \"o\" es igual a 1 ó 2 regresará el valor de x₁ ó x₂ respectivamente. La opción por defecto imprime ambas soluciones.\n",
       "\n",
       "La función siempre dará el resultado como números complejos (`Complex{Float64}`).\n",
       "\n",
       "**Autor:**\n",
       "\n",
       "Isaac Muñoz Estrada\n"
      ]
     },
     "execution_count": 14,
     "metadata": {},
     "output_type": "execute_result"
    },
    {
     "name": "stdout",
     "output_type": "stream",
     "text": [
      "queso\n",
      "\n"
     ]
    }
   ],
   "source": [
    "? queso"
   ]
  },
  {
   "cell_type": "markdown",
   "metadata": {},
   "source": [
    "### Ejemplos"
   ]
  },
  {
   "cell_type": "markdown",
   "metadata": {},
   "source": [
    "La función acepta cualquier número en un formato que pueda ser convertido a flotante. Por ejemplo, cadenas, racionales o enteros. Así"
   ]
  },
  {
   "cell_type": "code",
   "execution_count": 18,
   "metadata": {
    "collapsed": false
   },
   "outputs": [
    {
     "name": "stdout",
     "output_type": "stream",
     "text": [
      "La ecuación es (2.0 + 0.0im)x² + (0.0 + 0.0im)x + (-8.0 + 0.0im) = 0\n",
      "\n",
      "x₁ ⇒ 2.0 + 0.0im \t x₂ ⇒ -2.0 + 0.0im\n"
     ]
    }
   ],
   "source": [
    "queso(\"2.0\",0,-16//2)"
   ]
  },
  {
   "cell_type": "markdown",
   "metadata": {},
   "source": [
    "La función regresa la primera solución al agregar la opción al argumento"
   ]
  },
  {
   "cell_type": "code",
   "execution_count": 19,
   "metadata": {
    "collapsed": false
   },
   "outputs": [
    {
     "name": "stdout",
     "output_type": "stream",
     "text": [
      "La ecuación es (1.0 + 0.0im)x² + (0.0 + 0.0im)x + (-4.0 + 0.0im) = 0\n"
     ]
    },
    {
     "data": {
      "text/plain": [
       "2.0 + 0.0im"
      ]
     },
     "execution_count": 19,
     "metadata": {},
     "output_type": "execute_result"
    }
   ],
   "source": [
    "queso(1, 0, -4, 1)"
   ]
  },
  {
   "cell_type": "markdown",
   "metadata": {},
   "source": [
    "También es capaz de recibir números complejos."
   ]
  },
  {
   "cell_type": "code",
   "execution_count": 21,
   "metadata": {
    "collapsed": false
   },
   "outputs": [
    {
     "name": "stdout",
     "output_type": "stream",
     "text": [
      "La ecuación es (3.0 - 1.0im)x² + (7.0 + 0.0im)x + (8.0 + 0.0im) = 0\n",
      "\n",
      "x₁ ⇒ 1.0227337426206864 + 1.541949432145288im \t x₂ ⇒ 1.0772662573793135 - 0.8419494321452883im\n"
     ]
    }
   ],
   "source": [
    "queso(3-im, 7, 8)"
   ]
  },
  {
   "cell_type": "markdown",
   "metadata": {},
   "source": [
    "Cuando se introduce algo que no puede ser convertido a flotante se regresa un error de la función `float()`."
   ]
  },
  {
   "cell_type": "code",
   "execution_count": 22,
   "metadata": {
    "collapsed": false
   },
   "outputs": [
    {
     "ename": "LoadError",
     "evalue": "LoadError: ArgumentError: invalid number format \"a\" for Float64\nwhile loading In[22], in expression starting on line 1",
     "output_type": "error",
     "traceback": [
      "LoadError: ArgumentError: invalid number format \"a\" for Float64\nwhile loading In[22], in expression starting on line 1",
      "",
      " in parse at parse.jl:164",
      " in queso at In[13]:24 (repeats 2 times)"
     ]
    }
   ],
   "source": [
    "queso(\"a\", 0, -4)"
   ]
  },
  {
   "cell_type": "code",
   "execution_count": null,
   "metadata": {
    "collapsed": true
   },
   "outputs": [],
   "source": []
  }
 ],
 "metadata": {
  "kernelspec": {
   "display_name": "Julia 0.4.2",
   "language": "julia",
   "name": "julia-0.4"
  },
  "language_info": {
   "file_extension": ".jl",
   "mimetype": "application/julia",
   "name": "julia",
   "version": "0.4.2"
  }
 },
 "nbformat": 4,
 "nbformat_minor": 0
}
