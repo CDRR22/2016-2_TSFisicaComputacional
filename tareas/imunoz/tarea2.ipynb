{
 "cells": [
  {
   "cell_type": "markdown",
   "metadata": {},
   "source": [
    "# Tarea2\n",
    "## Isaac Muñoz Estrada"
   ]
  },
  {
   "cell_type": "markdown",
   "metadata": {},
   "source": [
    "### 1. Histograma"
   ]
  },
  {
   "cell_type": "markdown",
   "metadata": {},
   "source": [
    "#### Código"
   ]
  },
  {
   "cell_type": "code",
   "execution_count": 1,
   "metadata": {
    "collapsed": false
   },
   "outputs": [
    {
     "data": {
      "text/plain": [
       "histograma (generic function with 2 methods)"
      ]
     },
     "execution_count": 1,
     "metadata": {},
     "output_type": "execute_result"
    }
   ],
   "source": [
    "\"\"\"\n",
    "<center><h1>`HISTOGRAMA`</h1></center>\n",
    "<hr></hr>\n",
    "**Nombre:**\\n\n",
    "histograma\\n\n",
    "**Sinopsis:**\\n\n",
    "histograma(n,o)\\n\n",
    "**Descripción:**\\n\n",
    "El programa genera arreglo de números al azar (a). Después cuenta la cantidad de este elementos dentro \n",
    "de los subintervalos (bins) de la partición de [min(a), max(a)] en \"n\" partes iguales. Por defecto el\n",
    "programa regresa un arreglo de \"n\" elementos enteros (c). Donde c[i] es el número de elemtnos de a que\n",
    "están en el intervalo [i, i+(max(a)-min(a))/n).\\n\n",
    "\n",
    "La opción \"o\" solo acepta el valor 1. Entonces regresa una tupla de 3 elementos, el arreglo c, el arreglo a,\n",
    "y los bins en forma de un rango.\\n\n",
    "\n",
    "**Nota:**\\n\n",
    "Es necesario utilizar `using PyPlot` de antemano para que la función pueda graficar los datos.\\n\n",
    "**Autor:**\\n\n",
    "Isaac Muñoz Estrada\n",
    "\"\"\"\n",
    "\n",
    "\n",
    "function histograma(n::Int64, o::Int64 = 0)\n",
    "    \n",
    "    #Arreglos\n",
    "    a = sort(randn(1000))       #Crea un arreglo con 1000 números Float64 al azar ordenados\n",
    "    c = zeros(Array{Int64}(n))  #Crea un arreglo con n ceros que contará las ocurrencias\n",
    "    c[n] = 1                    #El último lugar de c es 1, esto para compensar en el \n",
    "                                #conteo del último intervalo\n",
    "    \n",
    "    am = minimum(a)             #Crea una variable con el mínimo del arreglo a\n",
    "    aM = maximum(a)        #Crea una variable con el máximo del arreglo a\n",
    "    da = (aM - am) / n           #Longitud de los intervalos\n",
    "    \n",
    "    #println(\"Min: \", am,\"\\tMax: \", aM, \"\\tLongitud del bin: \", da)\n",
    "    \n",
    "    bins = am:da:aM\n",
    "    \n",
    "    j = 1\n",
    "    k = 1\n",
    "    \n",
    "    for i in bins\n",
    "        \n",
    "        while k <= n\n",
    "            \n",
    "            if (i <= a[j] < (i + da )) #Pregunta si a[j] está en el bin\n",
    "                \n",
    "                c[k] = c[k] + 1        #Si está agrega 1 a c[k] que es el contador de\n",
    "                                       #de ocurrencias en el bin[i]\n",
    "                j = j + 1              #Procede a verificar si el siguiente lugar en a\n",
    "                                       #está en el bin\n",
    "            else\n",
    "                \n",
    "                break                  #Si a[j] no está en el bin deja de contar las\n",
    "                                       #ocurrencias\n",
    "            end\n",
    "            #Fin de if\n",
    "        end\n",
    "        #Fin de while\n",
    "                                       #println( c[k], \"\\t\", i, \"\\t\", i + Δx)\n",
    "        k = k + 1                      #Cambia el contador del bin al siguiente\n",
    "        \n",
    "    end\n",
    "    #Fin de for\n",
    "    \n",
    "    #Graficado\n",
    "    figure(figsize=(6,4))\n",
    "    title(\"Histograma\")\n",
    "    xlabel(\"Bins\")\n",
    "    ylabel(\"Ocurrencias\")\n",
    "    fill_between(1:1:n, c, color=\"black\") #Una variación de plot que rellena polígonos\n",
    "   \n",
    "    #Regreso de los valores según la opción\n",
    "    if o == 1\n",
    "        return c,a,bins\n",
    "    else\n",
    "        return c\n",
    "    end\n",
    "    #Fin de if\n",
    "end\n",
    "#Fin de histograma"
   ]
  },
  {
   "cell_type": "markdown",
   "metadata": {},
   "source": [
    "### Documentación"
   ]
  },
  {
   "cell_type": "code",
   "execution_count": 2,
   "metadata": {
    "collapsed": false,
    "scrolled": true
   },
   "outputs": [
    {
     "name": "stdout",
     "output_type": "stream",
     "text": [
      "search: "
     ]
    },
    {
     "data": {
      "text/latex": [
       "<center><h1>\\texttt{HISTOGRAMA}</h1></center> <hr></hr> \\textbf{Nombre:}\n",
       "histograma\n",
       "\\textbf{Sinopsis:}\n",
       "histograma(n,o)\n",
       "\\textbf{Descripción:}\n",
       "El programa genera arreglo de números al azar (a). Después cuenta la cantidad de este elementos dentro  de los subintervalos (bins) de la partición de [min(a), max(a)] en \"n\" partes iguales. Por defecto el programa regresa un arreglo de \"n\" elementos enteros (c). Donde c[i] es el número de elemtnos de a que están en el intervalo [i, i+(max(a)-min(a))/n).\n",
       "La opción \"o\" solo acepta el valor 1. Entonces regresa una tupla de 3 elementos, el arreglo c, el arreglo a, y los bins en forma de un rango.\n",
       "\\textbf{Nota:}\n",
       "Es necesario utilizar \\texttt{using PyPlot} de antemano para que la función pueda graficar los datos.\n",
       "\\textbf{Autor:}\n",
       "Isaac Muñoz Estrada\n"
      ],
      "text/markdown": [
       "<center><h1>`HISTOGRAMA`</h1></center> <hr></hr> **Nombre:**\n",
       "\n",
       "histograma\n",
       "\n",
       "**Sinopsis:**\n",
       "\n",
       "histograma(n,o)\n",
       "\n",
       "**Descripción:**\n",
       "\n",
       "El programa genera arreglo de números al azar (a). Después cuenta la cantidad de este elementos dentro  de los subintervalos (bins) de la partición de [min(a), max(a)] en \"n\" partes iguales. Por defecto el programa regresa un arreglo de \"n\" elementos enteros (c). Donde c[i] es el número de elemtnos de a que están en el intervalo [i, i+(max(a)-min(a))/n).\n",
       "\n",
       "La opción \"o\" solo acepta el valor 1. Entonces regresa una tupla de 3 elementos, el arreglo c, el arreglo a, y los bins en forma de un rango.\n",
       "\n",
       "**Nota:**\n",
       "\n",
       "Es necesario utilizar `using PyPlot` de antemano para que la función pueda graficar los datos.\n",
       "\n",
       "**Autor:**\n",
       "\n",
       "Isaac Muñoz Estrada\n"
      ],
      "text/plain": [
       "<center><h1>`HISTOGRAMA`</h1></center> <hr></hr> **Nombre:**\n",
       "\n",
       "histograma\n",
       "\n",
       "**Sinopsis:**\n",
       "\n",
       "histograma(n,o)\n",
       "\n",
       "**Descripción:**\n",
       "\n",
       "El programa genera arreglo de números al azar (a). Después cuenta la cantidad de este elementos dentro  de los subintervalos (bins) de la partición de [min(a), max(a)] en \"n\" partes iguales. Por defecto el programa regresa un arreglo de \"n\" elementos enteros (c). Donde c[i] es el número de elemtnos de a que están en el intervalo [i, i+(max(a)-min(a))/n).\n",
       "\n",
       "La opción \"o\" solo acepta el valor 1. Entonces regresa una tupla de 3 elementos, el arreglo c, el arreglo a, y los bins en forma de un rango.\n",
       "\n",
       "**Nota:**\n",
       "\n",
       "Es necesario utilizar `using PyPlot` de antemano para que la función pueda graficar los datos.\n",
       "\n",
       "**Autor:**\n",
       "\n",
       "Isaac Muñoz Estrada\n"
      ]
     },
     "execution_count": 2,
     "metadata": {},
     "output_type": "execute_result"
    }
   ],
   "source": [
    "?histograma"
   ]
  },
  {
   "cell_type": "markdown",
   "metadata": {},
   "source": [
    "### Ejemplo"
   ]
  },
  {
   "cell_type": "markdown",
   "metadata": {},
   "source": [
    "Abajo se muestra la función histograma funcionando con 100 bins. Usando primero `using PyPlot` para poder graficar."
   ]
  },
  {
   "cell_type": "code",
   "execution_count": 3,
   "metadata": {
    "collapsed": false,
    "scrolled": true
   },
   "outputs": [
    {
     "name": "stdout",
     "output_type": "stream",
     "text": [
      "histograma\n",
      "\n"
     ]
    },
    {
     "data": {
      "image/png": "[encoded data removed]",
      "text/plain": [
       "PyPlot.Figure(PyObject <matplotlib.figure.Figure object at 0x7f26a5e24908>)"
      ]
     },
     "metadata": {},
     "output_type": "display_data"
    },
    {
     "data": {
      "text/plain": [
       "100-element Array{Int64,1}:\n",
       " 1\n",
       " 0\n",
       " 0\n",
       " 0\n",
       " 1\n",
       " 0\n",
       " 0\n",
       " 2\n",
       " 2\n",
       " 3\n",
       " 1\n",
       " 0\n",
       " 2\n",
       " ⋮\n",
       " 0\n",
       " 5\n",
       " 2\n",
       " 0\n",
       " 1\n",
       " 1\n",
       " 0\n",
       " 3\n",
       " 2\n",
       " 1\n",
       " 0\n",
       " 2"
      ]
     },
     "execution_count": 3,
     "metadata": {},
     "output_type": "execute_result"
    }
   ],
   "source": [
    "using PyPlot\n",
    "histograma(100)"
   ]
  },
  {
   "cell_type": "markdown",
   "metadata": {},
   "source": [
    "Ahora se utiliza almacena la salida de la función en la variable `datos`. Esto con el fin de utilizarlos para la comparación con la función de graficado de histogramas."
   ]
  },
  {
   "cell_type": "code",
   "execution_count": 4,
   "metadata": {
    "collapsed": false
   },
   "outputs": [
    {
     "data": {
      "image/png": "[encoded data removed]",
      "text/plain": [
       "PyPlot.Figure(PyObject <matplotlib.figure.Figure object at 0x7f269e438f28>)"
      ]
     },
     "metadata": {},
     "output_type": "display_data"
    }
   ],
   "source": [
    "datos = histograma(100,1);"
   ]
  },
  {
   "cell_type": "markdown",
   "metadata": {},
   "source": [
    "Aquí se utiliza la función de graficado de histogramas. Utilizando los elementos 2 y 3 de `datos`. Estos son, los números al azar generados y los bins en forma de rango utilizandos para el conteo."
   ]
  },
  {
   "cell_type": "code",
   "execution_count": 5,
   "metadata": {
    "collapsed": false,
    "scrolled": true
   },
   "outputs": [
    {
     "data": {
      "image/png": "[encoded data removed]",
      "text/plain": [
       "PyPlot.Figure(PyObject <matplotlib.figure.Figure object at 0x7f269b5de080>)"
      ]
     },
     "metadata": {},
     "output_type": "display_data"
    },
    {
     "data": {
      "text/plain": [
       "([1.0,0.0,0.0,0.0,0.0,0.0,1.0,0.0,1.0,1.0  …  0.0,0.0,2.0,1.0,1.0,0.0,0.0,0.0,0.0,1.0],[-3.32361,-3.25903,-3.19445,-3.12987,-3.06529,-3.00071,-2.93613,-2.87155,-2.80697,-2.74239  …  2.55311,2.61769,2.68227,2.74684,2.81142,2.876,2.94058,3.00516,3.06974,3.13432],Any[PyObject <matplotlib.patches.Rectangle object at 0x7f269b5b10f0>,PyObject <matplotlib.patches.Rectangle object at 0x7f269b56df98>,PyObject <matplotlib.patches.Rectangle object at 0x7f269e316cf8>,PyObject <matplotlib.patches.Rectangle object at 0x7f269b50a438>,PyObject <matplotlib.patches.Rectangle object at 0x7f269b512fd0>,PyObject <matplotlib.patches.Rectangle object at 0x7f269b57bf28>,PyObject <matplotlib.patches.Rectangle object at 0x7f269b518550>,PyObject <matplotlib.patches.Rectangle object at 0x7f269b506c50>,PyObject <matplotlib.patches.Rectangle object at 0x7f269b51dda0>,PyObject <matplotlib.patches.Rectangle object at 0x7f269b50af60>  …  PyObject <matplotlib.patches.Rectangle object at 0x7f269b42fda0>,PyObject <matplotlib.patches.Rectangle object at 0x7f269b42ffd0>,PyObject <matplotlib.patches.Rectangle object at 0x7f269b45b748>,PyObject <matplotlib.patches.Rectangle object at 0x7f269b43e860>,PyObject <matplotlib.patches.Rectangle object at 0x7f269b43e278>,PyObject <matplotlib.patches.Rectangle object at 0x7f269b45b6d8>,PyObject <matplotlib.patches.Rectangle object at 0x7f269b4bd748>,PyObject <matplotlib.patches.Rectangle object at 0x7f269b3c9550>,PyObject <matplotlib.patches.Rectangle object at 0x7f269b4540f0>,PyObject <matplotlib.patches.Rectangle object at 0x7f269b3ceda0>])"
      ]
     },
     "execution_count": 5,
     "metadata": {},
     "output_type": "execute_result"
    }
   ],
   "source": [
    "plt[:hist](datos[2],datos[3], color=\"green\")"
   ]
  },
  {
   "cell_type": "markdown",
   "metadata": {},
   "source": [
    "### 2. Promedio y Varianza"
   ]
  },
  {
   "cell_type": "markdown",
   "metadata": {},
   "source": [
    "#### a)"
   ]
  },
  {
   "cell_type": "markdown",
   "metadata": {},
   "source": [
    "##### Subrutinas"
   ]
  },
  {
   "cell_type": "code",
   "execution_count": 6,
   "metadata": {
    "collapsed": false
   },
   "outputs": [
    {
     "data": {
      "text/plain": [
       "promedio (generic function with 1 method)"
      ]
     },
     "execution_count": 6,
     "metadata": {},
     "output_type": "execute_result"
    }
   ],
   "source": [
    "function promedio(a::Array{Float64,1})\n",
    "    \n",
    "    p = 0 #El promedio es inicialmente 0\n",
    "    \n",
    "    for i in 1:length(a)\n",
    "    \n",
    "        p = p + a[i]  #Suma el número de elementos\n",
    "\n",
    "    end\n",
    "    #Fin de for\n",
    "\n",
    "    p = p / length(a) #Divide entre el número de elementos\n",
    "    \n",
    "    return p\n",
    "    \n",
    "end\n",
    "#Fin de promedio"
   ]
  },
  {
   "cell_type": "code",
   "execution_count": 7,
   "metadata": {
    "collapsed": false
   },
   "outputs": [
    {
     "data": {
      "text/plain": [
       "varianza (generic function with 1 method)"
      ]
     },
     "execution_count": 7,
     "metadata": {},
     "output_type": "execute_result"
    }
   ],
   "source": [
    "function varianza(a::Array{Float64}, p::Float64)\n",
    "    \n",
    "    v = 0\n",
    "    \n",
    "    for i in 1:length(a)\n",
    "    \n",
    "        v = v + (a[i]-p)^2 #Suma los cuadrados de las diferencias\n",
    "                           #del promedio y el elemento\n",
    "        \n",
    "    end\n",
    "    #Fin de for\n",
    "\n",
    "    v = v / length(a);\n",
    "    \n",
    "    return v\n",
    "end\n",
    "#Fin de varianza"
   ]
  },
  {
   "cell_type": "markdown",
   "metadata": {},
   "source": [
    "##### Comparación"
   ]
  },
  {
   "cell_type": "markdown",
   "metadata": {},
   "source": [
    "Utilizando los datos generados en el ejercicio anterior."
   ]
  },
  {
   "cell_type": "code",
   "execution_count": 8,
   "metadata": {
    "collapsed": false
   },
   "outputs": [
    {
     "name": "stdout",
     "output_type": "stream",
     "text": [
      "  "
     ]
    },
    {
     "data": {
      "text/plain": [
       "-0.028080836073407348"
      ]
     },
     "execution_count": 8,
     "metadata": {},
     "output_type": "execute_result"
    }
   ],
   "source": [
    "@time promedio(datos[2])"
   ]
  },
  {
   "cell_type": "code",
   "execution_count": 9,
   "metadata": {
    "collapsed": false
   },
   "outputs": [
    {
     "name": "stdout",
     "output_type": "stream",
     "text": [
      "0.014083 seconds (4.88 k allocations: 177.084 KB)\n",
      "  "
     ]
    },
    {
     "data": {
      "text/plain": [
       "-0.028080836073406956"
      ]
     },
     "execution_count": 9,
     "metadata": {},
     "output_type": "execute_result"
    }
   ],
   "source": [
    "@time mean(datos[2])"
   ]
  },
  {
   "cell_type": "code",
   "execution_count": 10,
   "metadata": {
    "collapsed": false
   },
   "outputs": [
    {
     "data": {
      "text/plain": [
       "1.0346903767975775"
      ]
     },
     "execution_count": 10,
     "metadata": {},
     "output_type": "execute_result"
    }
   ],
   "source": [
    "@time varianza(datos[2],promedio(datos[2]))"
   ]
  },
  {
   "cell_type": "code",
   "execution_count": 11,
   "metadata": {
    "collapsed": false
   },
   "outputs": [
    {
     "name": "stdout",
     "output_type": "stream",
     "text": [
      "0.072098 seconds (28.54 k allocations: 1.182 MB)\n",
      "  0.018001 seconds (9.23 k allocations: 277.153 KB)\n",
      "  "
     ]
    },
    {
     "data": {
      "text/plain": [
       "1.0357261029004787"
      ]
     },
     "execution_count": 11,
     "metadata": {},
     "output_type": "execute_result"
    }
   ],
   "source": [
    "@time var(datos[2])"
   ]
  },
  {
   "cell_type": "markdown",
   "metadata": {},
   "source": [
    "De donde se observa que en el caso del promedio se diferencía en las últimas 4 cifras. Y la función mean es mucho más rápida. Para la varianza se observa que también la velocidad es mayor para var y que la diferencia es más notable entre ambos resultados."
   ]
  },
  {
   "cell_type": "markdown",
   "metadata": {},
   "source": [
    "#### b)"
   ]
  },
  {
   "cell_type": "markdown",
   "metadata": {},
   "source": [
    "La versión menos conocida del algoritmo"
   ]
  },
  {
   "cell_type": "code",
   "execution_count": 12,
   "metadata": {
    "collapsed": false
   },
   "outputs": [
    {
     "data": {
      "text/plain": [
       "varianza2 (generic function with 1 method)"
      ]
     },
     "execution_count": 12,
     "metadata": {},
     "output_type": "execute_result"
    }
   ],
   "source": [
    "function varianza2(a::Array{Float64})\n",
    "    \n",
    "    n = 0\n",
    "    p = 0\n",
    "    M2 = 0\n",
    "    \n",
    "    for i in 1:length(a)\n",
    "        \n",
    "        n = i\n",
    "        delta = a[i] - p\n",
    "        p = p + ( delta / i )\n",
    "        M2 = M2 + (delta * ( a[i]-p ) )\n",
    "    end\n",
    "    #Fin de for\n",
    "    \n",
    "    if length(a) < 2\n",
    "        return NaN\n",
    "    else\n",
    "        return (M2/(n-1)), p\n",
    "    end\n",
    "    \n",
    "end\n",
    "#Fin de varianza2"
   ]
  },
  {
   "cell_type": "code",
   "execution_count": 13,
   "metadata": {
    "collapsed": false
   },
   "outputs": [
    {
     "data": {
      "text/plain": [
       "(1.0357261029004772,-0.028080836073406303)"
      ]
     },
     "execution_count": 13,
     "metadata": {},
     "output_type": "execute_result"
    }
   ],
   "source": [
    "varianza2(datos[2])"
   ]
  },
  {
   "cell_type": "markdown",
   "metadata": {},
   "source": [
    "Vemos que si son los mismos resultados."
   ]
  },
  {
   "cell_type": "markdown",
   "metadata": {},
   "source": [
    "##### c)"
   ]
  },
  {
   "cell_type": "markdown",
   "metadata": {},
   "source": [
    "A continuación se usan arreglos al azar en lugar de la función histograma para probar los algoritmos."
   ]
  },
  {
   "cell_type": "code",
   "execution_count": 106,
   "metadata": {
    "collapsed": false
   },
   "outputs": [
    {
     "name": "stdout",
     "output_type": "stream",
     "text": [
      "\n",
      "Orden:10\n",
      "\n",
      "\tFunción promedio() y varianza()\n",
      "\n",
      "  0.000007 seconds (63 allocations: 1008 bytes)\n",
      "(-0.02336563340371347,1.5326495368742685)\n",
      "\n",
      "\tFunción mean() y var()\n",
      "\n",
      "  0.000002 seconds (3 allocations: 112 bytes)\n",
      "(-0.02336563340371347,1.7029439298602984)\n",
      "\n",
      "\tFunción varianza2()\n",
      "\n",
      "  0.000008 seconds (62 allocations: 1008 bytes)\n",
      "(1.7029439298602982,-0.023365633403713504)\n",
      "\n",
      "Orden:100\n",
      "\n",
      "\tFunción promedio() y varianza()\n",
      "\n",
      "  0.000024 seconds (603 allocations: 9.422 KB)\n",
      "(-0.08694456676870406,1.2238745251234118)\n",
      "\n",
      "\tFunción mean() y var()\n",
      "\n",
      "  0.000002 seconds (3 allocations: 112 bytes)\n",
      "(-0.08694456676870402,1.236236894064052)\n",
      "\n",
      "\tFunción varianza2()\n",
      "\n",
      "  0.000028 seconds (602 allocations: 9.422 KB)\n",
      "(1.2362368940640518,-0.08694456676870399)\n",
      "\n",
      "Orden:1000\n",
      "\n",
      "\tFunción promedio() y varianza()\n",
      "\n",
      "  0.000221 seconds (6.01 k allocations: 93.844 KB)\n",
      "(-0.018030605255614066,1.016700294186044)\n",
      "\n",
      "\tFunción mean() y var()\n",
      "\n",
      "  0.000005 seconds (3 allocations: 112 bytes)\n",
      "(-0.01803060525561403,1.0177180121982417)\n",
      "\n",
      "\tFunción varianza2()\n",
      "\n",
      "  0.000432 seconds (6.00 k allocations: 93.813 KB)\n",
      "(1.0177180121982412,-0.018030605255614084)\n",
      "\n",
      "Orden:10000\n",
      "\n",
      "\tFunción promedio() y varianza()\n",
      "\n",
      "  0.002175 seconds (60.01 k allocations: 937.594 KB)\n",
      "(-0.0014286980170132974,1.0150789226897103)\n",
      "\n",
      "\tFunción mean() y var()\n",
      "\n",
      "  0.000036 seconds (3 allocations: 112 bytes)\n",
      "(-0.0014286980170132896,1.01518044073378)\n",
      "\n",
      "\tFunción varianza2()\n",
      "\n",
      "  0.002349 seconds (60.00 k allocations: 937.563 KB)\n",
      "(1.0151804407337777,-0.0014286980170132857)\n",
      "\n",
      "Orden:100000\n",
      "\n",
      "\tFunción promedio() y varianza()\n",
      "\n",
      "  0.021569 seconds (600.01 k allocations: 9.155 MB)\n",
      "(-0.006599101614416752,1.0029957611189393)\n",
      "\n",
      "\tFunción mean() y var()\n",
      "\n",
      "  0.000357 seconds (3 allocations: 112 bytes)\n",
      "(-0.006599101614416736,1.00300579117686)\n",
      "\n",
      "\tFunción varianza2()\n",
      "\n",
      "  0.026344 seconds (600.00 k allocations: 9.155 MB, 10.76% gc time)\n",
      "(1.0030057911768704,-0.006599101614416681)\n",
      "\n",
      "Orden:1000000\n",
      "\n",
      "\tFunción promedio() y varianza()\n",
      "\n",
      "  0.161115 seconds (6.00 M allocations: 91.553 MB, 4.83% gc time)\n",
      "(-0.0019253415253552844,0.9982301712014313)\n",
      "\n",
      "\tFunción mean() y var()\n",
      "\n",
      "  0.003850 seconds (3 allocations: 112 bytes)\n",
      "(-0.0019253415253551892,0.9982311694326218)\n",
      "\n",
      "\tFunción varianza2()\n",
      "\n",
      "  0.160210 seconds (6.00 M allocations: 91.553 MB, 4.88% gc time)\n",
      "(0.9982311694326456,-0.0019253415253552386)\n",
      "\n",
      "Orden:10000000\n",
      "\n",
      "\tFunción promedio() y varianza()\n",
      "\n",
      "  1.387434 seconds (60.00 M allocations: 915.527 MB, 9.65% gc time)\n",
      "(5.8752286560977336e-5,0.9997477146041308)\n",
      "\n",
      "\tFunción mean() y var()\n",
      "\n",
      "  0.032305 seconds (3 allocations: 112 bytes)\n",
      "(5.875228656097002e-5,0.9997478145788686)\n",
      "\n",
      "\tFunción varianza2()\n",
      "\n",
      "  1.368077 seconds (60.00 M allocations: 915.527 MB, 6.23% gc time)\n",
      "(0.9997478145790359,5.875228656098322e-5)\n",
      "\n",
      "Orden:100000000\n",
      "\n",
      "\tFunción promedio() y varianza()\n",
      "\n",
      " 12.707004 seconds (600.00 M allocations: 8.941 GB, 6.59% gc time)\n",
      "(-3.440519041242409e-5,0.9998946918896348)\n",
      "\n",
      "\tFunción mean() y var()\n",
      "\n",
      "  0.327624 seconds (3 allocations: 112 bytes)\n",
      "(-3.440519041241474e-5,0.9998947018884482)\n",
      "\n",
      "\tFunción varianza2()\n",
      "\n",
      " 12"
     ]
    },
    {
     "ename": "LoadError",
     "evalue": "LoadError: OutOfMemoryError()\nwhile loading In[106], in expression starting on line 1",
     "output_type": "error",
     "traceback": [
      "LoadError: OutOfMemoryError()\nwhile loading In[106], in expression starting on line 1",
      "",
      " in call at ./essentials.jl:200",
      " [inlined code] from In[106]:5",
      " in anonymous at no file:0"
     ]
    },
    {
     "name": "stdout",
     "output_type": "stream",
     "text": [
      ".779156 seconds (600.00 M allocations: 8.941 GB, 5.96% gc time)\n",
      "(0.9998947018885009,-3.440519041242653e-5)\n"
     ]
    }
   ],
   "source": [
    "for i in 1:10\n",
    "    \n",
    "    #Calcula el promedio y varianza de los datos como duplas\n",
    "    #y pone el tiempo.\n",
    "    a = randn(10^i)\n",
    "    println(\"\\nOrden:\", 10^i)\n",
    "    println(\"\\n\\tFunción promedio() y varianza()\\n\")\n",
    "    println(@time (promedio(a), varianza(a,promedio(a))))\n",
    "    println(\"\\n\\tFunción mean() y var()\\n\")\n",
    "    println(@time (mean(a),var(a)))\n",
    "    println(\"\\n\\tFunción varianza2()\\n\")\n",
    "    println(@time varianza2(a))\n",
    "    \n",
    "end"
   ]
  },
  {
   "cell_type": "markdown",
   "metadata": {},
   "source": [
    "Vemos que la combinaciónde `mean()` y `var()` son más rápidas en todos los casos. Dentro de los diez órdenes de magnitud probados."
   ]
  },
  {
   "cell_type": "markdown",
   "metadata": {},
   "source": [
    "### 3. Método de Simpson"
   ]
  },
  {
   "cell_type": "code",
   "execution_count": 14,
   "metadata": {
    "collapsed": false
   },
   "outputs": [
    {
     "name": "stdout",
     "output_type": "stream",
     "text": [
      "0.185276 seconds (99.47 k allocations: 4.082 MB)\n"
     ]
    },
    {
     "data": {
      "text/plain": [
       "isimpson (generic function with 1 method)"
      ]
     },
     "execution_count": 14,
     "metadata": {},
     "output_type": "execute_result"
    }
   ],
   "source": [
    "\"\"\"\n",
    "<center><h1>`ISIMPSON`</h1></center>\n",
    "<hr></hr>\n",
    "**Nombre:**\\n\n",
    "isimpson - Método de Simpson para integrales\\n\n",
    "**Sinopsis:**\\n\n",
    "isimpson(f, a, b)\\n\n",
    "**Descripción:**\\n\n",
    "El programa usa el método de Simpson para encontrar una aproximación a la integral ∫ₐᵇf(x)dx.\\n\n",
    "**Autor:**\\n\n",
    "Isaac Muñoz Estrada\n",
    "\"\"\"\n",
    "\n",
    "function isimpson(f::Function, a, b)\n",
    "    \n",
    "    #Esta es la aproximación usada    \n",
    "    i = ((b-a)/6)*( f(a) + f(b) + 4*f( (a+b)/2 ) )\n",
    "    return i\n",
    "end\n",
    "#Fin de isimpson"
   ]
  },
  {
   "cell_type": "markdown",
   "metadata": {},
   "source": [
    "#### Documentación"
   ]
  },
  {
   "cell_type": "code",
   "execution_count": 15,
   "metadata": {
    "collapsed": false
   },
   "outputs": [
    {
     "name": "stdout",
     "output_type": "stream",
     "text": [
      "search: "
     ]
    },
    {
     "data": {
      "text/latex": [
       "<center><h1>\\texttt{ISIMPSON}</h1></center> <hr></hr> \\textbf{Nombre:}\n",
       "isimpson - Método de Simpson para integrales\n",
       "\\textbf{Sinopsis:}\n",
       "isimpson(f, a, b)\n",
       "\\textbf{Descripción:}\n",
       "El programa usa el método de Simpson para encontrar una aproximación a la integral ∫ₐᵇf(x)dx.\n",
       "\\textbf{Autor:}\n",
       "Isaac Muñoz Estrada\n"
      ],
      "text/markdown": [
       "<center><h1>`ISIMPSON`</h1></center> <hr></hr> **Nombre:**\n",
       "\n",
       "isimpson - Método de Simpson para integrales\n",
       "\n",
       "**Sinopsis:**\n",
       "\n",
       "isimpson(f, a, b)\n",
       "\n",
       "**Descripción:**\n",
       "\n",
       "El programa usa el método de Simpson para encontrar una aproximación a la integral ∫ₐᵇf(x)dx.\n",
       "\n",
       "**Autor:**\n",
       "\n",
       "Isaac Muñoz Estrada\n"
      ],
      "text/plain": [
       "<center><h1>`ISIMPSON`</h1></center> <hr></hr> **Nombre:**\n",
       "\n",
       "isimpson - Método de Simpson para integrales\n",
       "\n",
       "**Sinopsis:**\n",
       "\n",
       "isimpson(f, a, b)\n",
       "\n",
       "**Descripción:**\n",
       "\n",
       "El programa usa el método de Simpson para encontrar una aproximación a la integral ∫ₐᵇf(x)dx.\n",
       "\n",
       "**Autor:**\n",
       "\n",
       "Isaac Muñoz Estrada\n"
      ]
     },
     "execution_count": 15,
     "metadata": {},
     "output_type": "execute_result"
    }
   ],
   "source": [
    "?isimpson"
   ]
  },
  {
   "cell_type": "markdown",
   "metadata": {},
   "source": [
    "#### Ejemplos"
   ]
  },
  {
   "cell_type": "markdown",
   "metadata": {},
   "source": [
    "$\\int_0^\\frac{\\pi}{2} \\sin x\\ dx$"
   ]
  },
  {
   "cell_type": "code",
   "execution_count": 16,
   "metadata": {
    "collapsed": false
   },
   "outputs": [
    {
     "data": {
      "text/plain": [
       "1.0022798774922104"
      ]
     },
     "execution_count": 16,
     "metadata": {},
     "output_type": "execute_result"
    }
   ],
   "source": [
    "isimpson(sin, 0, π/2)"
   ]
  },
  {
   "cell_type": "markdown",
   "metadata": {},
   "source": [
    "$\\int_1^2 x\\ dx$"
   ]
  },
  {
   "cell_type": "code",
   "execution_count": 17,
   "metadata": {
    "collapsed": false
   },
   "outputs": [
    {
     "data": {
      "text/plain": [
       "1.5"
      ]
     },
     "execution_count": 17,
     "metadata": {},
     "output_type": "execute_result"
    }
   ],
   "source": [
    "isimpson(x -> x, 1, 2)"
   ]
  },
  {
   "cell_type": "markdown",
   "metadata": {},
   "source": [
    "$\\int_0^1 e^x\\ dx $"
   ]
  },
  {
   "cell_type": "code",
   "execution_count": 18,
   "metadata": {
    "collapsed": false
   },
   "outputs": [
    {
     "data": {
      "text/plain": [
       "1.7188611518765928"
      ]
     },
     "execution_count": 18,
     "metadata": {},
     "output_type": "execute_result"
    },
    {
     "name": "stdout",
     "output_type": "stream",
     "text": [
      "isimpson\n",
      "\n"
     ]
    }
   ],
   "source": [
    "isimpson(x -> exp(x),0,1)"
   ]
  }
 ],
 "metadata": {
  "kernelspec": {
   "display_name": "Julia 0.4.2",
   "language": "julia",
   "name": "julia-0.4"
  },
  "language_info": {
   "file_extension": ".jl",
   "mimetype": "application/julia",
   "name": "julia",
   "version": "0.4.2"
  }
 },
 "nbformat": 4,
 "nbformat_minor": 0
}
