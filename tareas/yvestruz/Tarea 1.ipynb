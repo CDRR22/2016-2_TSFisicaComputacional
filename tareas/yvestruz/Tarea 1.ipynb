{
 "cells": [
  {
   "cell_type": "markdown",
   "metadata": {},
   "source": [
    "# Tarea 1"
   ]
  },
  {
   "cell_type": "markdown",
   "metadata": {},
   "source": [
    "Consideremos una ecuación de segundo grado en los reales:\n",
    "$$ax^2 + bx + c = 0.$$\n",
    "En esta tarea, buscamos encontrar las raíces de la ecuación.\n",
    "\n",
    "Afortunadamente tenemos la fórmula *\"de la chicharronera\"* para solucionar esto y encontrar los ceros de la ecuación, dada por:\n",
    "$$ x = \\frac{-b \\pm \\sqrt{b^2 - 4ac}}{2a}.$$"
   ]
  },
  {
   "cell_type": "code",
   "execution_count": 5,
   "metadata": {
    "collapsed": false
   },
   "outputs": [
    {
     "data": {
      "text/plain": [
       "roots (generic function with 1 method)"
      ]
     },
     "execution_count": 5,
     "metadata": {},
     "output_type": "execute_result"
    }
   ],
   "source": [
    "\"\"\"\n",
    "This is a function that computes the roots of a second order algebraic real equation.\n",
    "It accepts the coefficients of the quadatic equation as parameters and returns a tuple with the two real roots.\n",
    "If the roots are complex, it will print that the solutions are complex numbers and stop.\n",
    "\"\"\"\n",
    "function roots(a::Number,b::Number,c::Number)\n",
    "    discriminante = b^2 - 4*a*c\n",
    "    \n",
    "    # Let's check if the solution is real, to start.\n",
    "    if typeof(discriminante) == Complex{Int64} || discriminante < 0\n",
    "        println(\"La solución es compleja. Esperar la actualización roots0.1.1 para resolver la ecuación.\")\n",
    "        return (NaN,NaN)\n",
    "    else\n",
    "        x1 = (-b+sqrt(b^2 - 4*a*c))/(2*a) # \"Positive\" value\n",
    "        x2 = (-b-sqrt(b^2 - 4*a*c))/(2*a) # \"Negative\" value\n",
    "        \n",
    "    return x1,x2\n",
    "        \n",
    "    end\n",
    "end"
   ]
  },
  {
   "cell_type": "markdown",
   "metadata": {},
   "source": [
    "Veamos ahora un par de ejemplos, con distintos valores de los coeficientes."
   ]
  },
  {
   "cell_type": "markdown",
   "metadata": {},
   "source": [
    "El primer polinomio es $ p(x) = x^2 - 4 $, que sabemos que tiene como raíces a $x = 2, -2$."
   ]
  },
  {
   "cell_type": "code",
   "execution_count": 13,
   "metadata": {
    "collapsed": false
   },
   "outputs": [
    {
     "data": {
      "text/plain": [
       "(2.0,-2.0)"
      ]
     },
     "execution_count": 13,
     "metadata": {},
     "output_type": "execute_result"
    }
   ],
   "source": [
    "roots(1,0,-4)"
   ]
  },
  {
   "cell_type": "markdown",
   "metadata": {},
   "source": [
    "¿Qué pasará si el discriminante es negativo? La función debería de mostrar un error. Probemos con $p(x) = x^2 + 2x + 3$, que tiene discriminante -8:"
   ]
  },
  {
   "cell_type": "code",
   "execution_count": 7,
   "metadata": {
    "collapsed": false
   },
   "outputs": [
    {
     "name": "stdout",
     "output_type": "stream",
     "text": [
      "La solución es compleja. Esperar la actualización roots0.1.1 para resolver la ecuación.\n"
     ]
    },
    {
     "data": {
      "text/plain": [
       "(NaN,NaN)"
      ]
     },
     "execution_count": 7,
     "metadata": {},
     "output_type": "execute_result"
    }
   ],
   "source": [
    "roots(1,2,3)"
   ]
  },
  {
   "cell_type": "markdown",
   "metadata": {},
   "source": [
    "De igual manera, si introducimos un número complejo como parámetro debería de mostrar el mismo error. Ahora veamos con $p(x) = 2x^2+5x+(3+2i)$"
   ]
  },
  {
   "cell_type": "code",
   "execution_count": 16,
   "metadata": {
    "collapsed": false
   },
   "outputs": [
    {
     "name": "stdout",
     "output_type": "stream",
     "text": [
      "La solución es compleja. Esperar la actualización roots0.1.1 para resolver la ecuación.\n"
     ]
    },
    {
     "data": {
      "text/plain": [
       "(NaN,NaN)"
      ]
     },
     "execution_count": 16,
     "metadata": {},
     "output_type": "execute_result"
    }
   ],
   "source": [
    "roots(2,5,3+2im)"
   ]
  },
  {
   "cell_type": "markdown",
   "metadata": {},
   "source": [
    "Finalmente, veamos que la función está bien documentada."
   ]
  },
  {
   "cell_type": "code",
   "execution_count": 9,
   "metadata": {
    "collapsed": false
   },
   "outputs": [
    {
     "name": "stdout",
     "output_type": "stream",
     "text": [
      "search: roots promote_shape promote promote_type promote_rule InsertionSort\n",
      "\n"
     ]
    },
    {
     "data": {
      "text/latex": [
       "This is a function that computes the roots of a second order algebraic real equation. It accepts the coefficients of the quadatic equation as parameters and returns a tuple with the two real roots. If the roots are complex, it will print that the solutions are complex numbers and stop.\n"
      ],
      "text/markdown": [
       "This is a function that computes the roots of a second order algebraic real equation. It accepts the coefficients of the quadatic equation as parameters and returns a tuple with the two real roots. If the roots are complex, it will print that the solutions are complex numbers and stop.\n"
      ],
      "text/plain": [
       "This is a function that computes the roots of a second order algebraic real equation. It accepts the coefficients of the quadatic equation as parameters and returns a tuple with the two real roots. If the roots are complex, it will print that the solutions are complex numbers and stop.\n"
      ]
     },
     "execution_count": 9,
     "metadata": {},
     "output_type": "execute_result"
    }
   ],
   "source": [
    "?roots"
   ]
  }
 ],
 "metadata": {
  "kernelspec": {
   "display_name": "Julia 0.4.3",
   "language": "julia",
   "name": "julia-0.4"
  },
  "language_info": {
   "file_extension": ".jl",
   "mimetype": "application/julia",
   "name": "julia",
   "version": "0.4.3"
  }
 },
 "nbformat": 4,
 "nbformat_minor": 0
}
