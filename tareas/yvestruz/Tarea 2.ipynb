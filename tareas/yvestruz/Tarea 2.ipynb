{
 "cells": [
  {
   "cell_type": "markdown",
   "metadata": {},
   "source": [
    "# 1. Histogramas"
   ]
  },
  {
   "cell_type": "code",
   "execution_count": 183,
   "metadata": {
    "collapsed": false,
    "scrolled": true
   },
   "outputs": [
    {
     "data": {
      "text/plain": [
       "super_histograma (generic function with 2 methods)"
      ]
     },
     "execution_count": 183,
     "metadata": {},
     "output_type": "execute_result"
    }
   ],
   "source": [
    "\"\"\"This function takes a data array <vec> and a number of bins n_hist and returns an array with length = n_hist with the distribution of data.\n",
    "If n_hist is not provided the default value is 100.\"\"\"\n",
    "function super_histograma(vec::Array,n_hist=100)\n",
    "    N_ord = sort(vec)\n",
    "    \n",
    "    dx = (N_ord[end]-N_ord[1])/n_hist\n",
    "    x_1 = N_ord[1]\n",
    "\n",
    "    histo = zeros(n_hist)\n",
    "      \n",
    "    for k = 1 : length(N_ord)\n",
    "        \n",
    "        x_1 = N_ord[1]\n",
    "        \n",
    "        for j = 1 : length(histo)\n",
    "            \n",
    "            x_2 = x_1 + dx\n",
    "            \n",
    "            if N_ord[k] >= x_1 && N_ord[k] <= x_2\n",
    "                \n",
    "                histo[j] += 1\n",
    "                break\n",
    "                \n",
    "            else\n",
    "                x_1 += dx\n",
    "            \n",
    "            end\n",
    "        end\n",
    "    end\n",
    "    return histo\n",
    "end"
   ]
  },
  {
   "cell_type": "markdown",
   "metadata": {},
   "source": [
    "Nuestra función está bien documentada. Veamos esto:"
   ]
  },
  {
   "cell_type": "code",
   "execution_count": 184,
   "metadata": {
    "collapsed": false
   },
   "outputs": [
    {
     "name": "stdout",
     "output_type": "stream",
     "text": [
      "search: super_histograma\n",
      "\n"
     ]
    },
    {
     "data": {
      "text/latex": [
       "This function takes a data array <vec> and a number of bins n\\_hist and returns an array with length = n\\_hist with the distribution of data. If n\\_hist is not provided the default value is 100.\n"
      ],
      "text/markdown": [
       "This function takes a data array <vec> and a number of bins n_hist and returns an array with length = n_hist with the distribution of data. If n_hist is not provided the default value is 100.\n"
      ],
      "text/plain": [
       "This function takes a data array <vec> and a number of bins n_hist and returns an array with length = n_hist with the distribution of data. If n_hist is not provided the default value is 100.\n"
      ]
     },
     "execution_count": 184,
     "metadata": {},
     "output_type": "execute_result"
    }
   ],
   "source": [
    "?super_histograma"
   ]
  },
  {
   "cell_type": "markdown",
   "metadata": {},
   "source": [
    "Probemos ahora con un vector `M` de ~ 10,000 entradas."
   ]
  },
  {
   "cell_type": "code",
   "execution_count": 185,
   "metadata": {
    "collapsed": false,
    "scrolled": true
   },
   "outputs": [],
   "source": [
    "M = randn(10000);"
   ]
  },
  {
   "cell_type": "markdown",
   "metadata": {},
   "source": [
    "Saquemos el histograma de `M` con nuestra gran función `super_histograma()`. "
   ]
  },
  {
   "cell_type": "code",
   "execution_count": 186,
   "metadata": {
    "collapsed": false,
    "scrolled": true
   },
   "outputs": [
    {
     "data": {
      "text/plain": [
       "100-element Array{Float64,1}:\n",
       " 2.0\n",
       " 0.0\n",
       " 0.0\n",
       " 0.0\n",
       " 1.0\n",
       " 1.0\n",
       " 1.0\n",
       " 1.0\n",
       " 0.0\n",
       " 0.0\n",
       " 4.0\n",
       " 1.0\n",
       " 5.0\n",
       " ⋮  \n",
       " 9.0\n",
       " 2.0\n",
       " 4.0\n",
       " 5.0\n",
       " 4.0\n",
       " 2.0\n",
       " 2.0\n",
       " 2.0\n",
       " 1.0\n",
       " 0.0\n",
       " 0.0\n",
       " 1.0"
      ]
     },
     "execution_count": 186,
     "metadata": {},
     "output_type": "execute_result"
    }
   ],
   "source": [
    "h = super_histograma(M,100)"
   ]
  },
  {
   "cell_type": "markdown",
   "metadata": {},
   "source": [
    "Finalmente, grafiquemos el histograma de `M`.\n",
    "\n",
    "**Nota:** Se graficó histograma vs rango($n_{hist}$) con fines ilustrativos solamente."
   ]
  },
  {
   "cell_type": "code",
   "execution_count": 187,
   "metadata": {
    "collapsed": false,
    "scrolled": false
   },
   "outputs": [
    {
     "data": {
      "image/png": "[encoded data removed]",
      "text/plain": [
       "PyPlot.Figure(PyObject <matplotlib.figure.Figure object at 0x000000002A63BE80>)"
      ]
     },
     "metadata": {},
     "output_type": "display_data"
    }
   ],
   "source": [
    "using PyPlot\n",
    "bar(1:100,h);"
   ]
  },
  {
   "cell_type": "markdown",
   "metadata": {},
   "source": [
    "# 3. Método de Simpson para integrar"
   ]
  },
  {
   "cell_type": "markdown",
   "metadata": {},
   "source": [
    "El *método de Simpson* es un método de integración numérica para la aproximación de integrales definidas en un intervalo *(a,b)*.\n",
    "\n",
    "Sigue esta forma:\n",
    "$$\\int_a^b f(x)dx \\approx \\frac{b-a}{6}\\left[f(a)+4f\\left(\\frac{a+b}{2}\\right)+f(b)\\right]$$\n",
    "Definiremos ahora la función `simpson()` que nos permitirá aproximar la integral de cualquier función en un intervalo *(a,b)*:"
   ]
  },
  {
   "cell_type": "code",
   "execution_count": 188,
   "metadata": {
    "collapsed": false
   },
   "outputs": [
    {
     "data": {
      "text/plain": [
       "simpson (generic function with 1 method)"
      ]
     },
     "execution_count": 188,
     "metadata": {},
     "output_type": "execute_result"
    }
   ],
   "source": [
    "\"\"\"This is the Simpson's rule for numerical integration, proposed by mathematician Thomas Simpson.\n",
    "It accepts as parameters function f, two numbers a,b that define the interval inside which the integral of f will be approximated and an integer n which divide (b-a) evenly.\"\"\"\n",
    "function simpson(f::Function,a,b)\n",
    "    integral = (b-a)/6 * (f(a)+4*f((a+b)/2)+f(b));\n",
    "    return integral\n",
    "end"
   ]
  },
  {
   "cell_type": "markdown",
   "metadata": {},
   "source": [
    "Si el intervalo *(a,b)* es suficientemente pequeño, la función `simpson()` nos da una aproximación adecuada de la integral. Pero si la función no es tan *suave* en el intervalo (o es muy oscilatoria) no es suficiente esta aproximación.\n",
    "\n",
    "Así, si partimos nuestro intervalo en *n* (par) segmentos iguales, podemos hacer el método de Simpson en cada uno de esos segmentos para obtener una mejor aproximación a nuestra integral:\n",
    "$$ \\int_a^b f(x)dx \\approx \\frac{h}{3} \\left[ f(x_0) + 2 \\sum _{j=1}^{n/2-1} f(x_{2j}) + 4\\sum_{j = 1}^{n/2} f(x_{2j-1}) + f(x_n)\\right] $$"
   ]
  },
  {
   "cell_type": "markdown",
   "metadata": {},
   "source": [
    "donde $x_0 = a$ y $x_n = b$."
   ]
  },
  {
   "cell_type": "code",
   "execution_count": 189,
   "metadata": {
    "collapsed": false,
    "scrolled": true
   },
   "outputs": [
    {
     "data": {
      "text/plain": [
       "simpson2 (generic function with 2 methods)"
      ]
     },
     "execution_count": 189,
     "metadata": {},
     "output_type": "execute_result"
    }
   ],
   "source": [
    "\"\"\"General form of simpson(), that takes an additional input n - the number of subintervals of (a,b). Refer to ?simpson.\"\"\"\n",
    "function simpson2(f::Function,a,b,n::Int64=100)\n",
    "    \n",
    "    if n<= 0 # Chequeamos si es no positivo\n",
    "        error(\"N negativo\")\n",
    "    end\n",
    "    \n",
    "    n += n % 2; # Nos aseguramos que sea suma sobre los pares.\n",
    "    h = (b-a)/n;\n",
    "    \n",
    "    x = a+h:h:b-h; # El rango sobre el cual integraremos.\n",
    "    \n",
    "    integral = f(a)+f(b); # Fijamos el valor no iterativo de la integral.\n",
    "    \n",
    "    N = convert(Int64,(n/2)) # Convertimos el índice a entero.\n",
    "    \n",
    "    for k = 1 : (N-1) # Primer término de la suma.\n",
    "        integral += 2*f(x[2*k])\n",
    "    end\n",
    "    \n",
    "    for k = 1 : N # Segundo término de la suma.\n",
    "        integral += 4*f(x[2*k-1]) \n",
    "    end\n",
    "    \n",
    "    return integral*h/3\n",
    "end"
   ]
  },
  {
   "cell_type": "markdown",
   "metadata": {},
   "source": [
    "Definamos nuestra función prueba como $f(x) = x^2$."
   ]
  },
  {
   "cell_type": "code",
   "execution_count": 190,
   "metadata": {
    "collapsed": false
   },
   "outputs": [
    {
     "data": {
      "text/plain": [
       "f (generic function with 1 method)"
      ]
     },
     "execution_count": 190,
     "metadata": {},
     "output_type": "execute_result"
    }
   ],
   "source": [
    "f(x) = x^2"
   ]
  },
  {
   "cell_type": "markdown",
   "metadata": {},
   "source": [
    "Sabemos que la integral de $f(x) = x^2$ es $\\frac{x^3}{3}$ y, evaluada de 0 a 1, nos da un valor de $\\approx 0.333333$. Veamos si nuestra función es acertada."
   ]
  },
  {
   "cell_type": "code",
   "execution_count": 191,
   "metadata": {
    "collapsed": false,
    "scrolled": true
   },
   "outputs": [
    {
     "data": {
      "text/plain": [
       "0.3333333333333333"
      ]
     },
     "execution_count": 191,
     "metadata": {},
     "output_type": "execute_result"
    }
   ],
   "source": [
    "simpson2(f,0,1,100)"
   ]
  },
  {
   "cell_type": "markdown",
   "metadata": {},
   "source": [
    "Finalmente veamos que si tomamos el intervalo inverso (i.e., el (1,0)), nos da el negativo de la integral."
   ]
  },
  {
   "cell_type": "code",
   "execution_count": 192,
   "metadata": {
    "collapsed": false,
    "scrolled": true
   },
   "outputs": [
    {
     "data": {
      "text/plain": [
       "-0.3333333333333332"
      ]
     },
     "execution_count": 192,
     "metadata": {},
     "output_type": "execute_result"
    }
   ],
   "source": [
    "simpson2(f,1,0,100)"
   ]
  },
  {
   "cell_type": "markdown",
   "metadata": {},
   "source": [
    "Ahora, comparemos la eficiencia de `simpson()` con su forma generalizada `simpson2()`, para $g(x) = sin(x)$, de 0 a $\\pi$."
   ]
  },
  {
   "cell_type": "code",
   "execution_count": 193,
   "metadata": {
    "collapsed": true
   },
   "outputs": [],
   "source": [
    "g(x) = sin(x);"
   ]
  },
  {
   "cell_type": "code",
   "execution_count": 194,
   "metadata": {
    "collapsed": false
   },
   "outputs": [
    {
     "data": {
      "text/plain": [
       "2.0943951023931953"
      ]
     },
     "execution_count": 194,
     "metadata": {},
     "output_type": "execute_result"
    }
   ],
   "source": [
    "simpson(g,0,pi)"
   ]
  },
  {
   "cell_type": "code",
   "execution_count": 195,
   "metadata": {
    "collapsed": false
   },
   "outputs": [
    {
     "data": {
      "text/plain": [
       "2.000000010824504"
      ]
     },
     "execution_count": 195,
     "metadata": {},
     "output_type": "execute_result"
    }
   ],
   "source": [
    "simpson2(g,0,pi,100)"
   ]
  },
  {
   "cell_type": "markdown",
   "metadata": {},
   "source": [
    "Como vemos, en este caso `simpson2()` es MUCHO más precisa para aproximar la integral."
   ]
  }
 ],
 "metadata": {
  "kernelspec": {
   "display_name": "Julia 0.4.3",
   "language": "julia",
   "name": "julia-0.4"
  },
  "language_info": {
   "file_extension": ".jl",
   "mimetype": "application/julia",
   "name": "julia",
   "version": "0.4.3"
  }
 },
 "nbformat": 4,
 "nbformat_minor": 0
}
